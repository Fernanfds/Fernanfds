{
  "nbformat": 4,
  "nbformat_minor": 0,
  "metadata": {
    "colab": {
      "provenance": [],
      "authorship_tag": "ABX9TyPlnlKdvZNdhF8Xhj09AN6X",
      "include_colab_link": true
    },
    "kernelspec": {
      "name": "python3",
      "display_name": "Python 3"
    },
    "language_info": {
      "name": "python"
    }
  },
  "cells": [
    {
      "cell_type": "markdown",
      "metadata": {
        "id": "view-in-github",
        "colab_type": "text"
      },
      "source": [
        "<a href=\"https://colab.research.google.com/github/Fernanfds/Fernanfds/blob/main/Python_IF%2CELSE%2CELIF.ipynb\" target=\"_parent\"><img src=\"https://colab.research.google.com/assets/colab-badge.svg\" alt=\"Open In Colab\"/></a>"
      ]
    },
    {
      "cell_type": "markdown",
      "source": [
        "### Estruturas Condicionais IF,ELSE,ELIF"
      ],
      "metadata": {
        "id": "W_QLodzcEO-S"
      }
    },
    {
      "cell_type": "code",
      "source": [
        "valor = int(input(\"Número: \"))\n",
        "if valor % 2 == 0:\n",
        " print(\"O valor é par\")\n",
        "else:\n",
        " print(\"O valor é ímpar\")"
      ],
      "metadata": {
        "colab": {
          "base_uri": "https://localhost:8080/"
        },
        "id": "B6AgG41-As-T",
        "outputId": "d8b9a95e-376c-4aff-a461-dec35c54d4d2"
      },
      "execution_count": null,
      "outputs": [
        {
          "output_type": "stream",
          "name": "stdout",
          "text": [
            "Número: 147\n",
            "O valor é ímpar\n"
          ]
        }
      ]
    },
    {
      "cell_type": "code",
      "execution_count": null,
      "metadata": {
        "colab": {
          "base_uri": "https://localhost:8080/"
        },
        "id": "thzc3BnNAPHz",
        "outputId": "86e986c4-fa05-4abf-8089-72c5bb536b09"
      },
      "outputs": [
        {
          "output_type": "stream",
          "name": "stdout",
          "text": [
            "valor é diferente de zero => verdade.\n",
            "Valor é falso, mas not inverteu o resultado.\n"
          ]
        }
      ],
      "source": [
        "valor = 10\n",
        "if valor:\n",
        "    print(\"valor é diferente de zero => verdade.\")\n",
        "valor = 0\n",
        "if not valor:\n",
        "    print(\"Valor é falso, mas not inverteu o resultado.\")"
      ]
    },
    {
      "cell_type": "code",
      "source": [
        "numero_de_camisetas = int(input(\"Número de camisetas: \"))\n",
        "valor_camiseta = 12.50\n",
        "valor_final = numero_de_camisetas * valor_camiseta\n",
        "if numero_de_camisetas <= 5:\n",
        "    valor_final = valor_final * (1 - 3/100) #Aplica ao Total Desconto 3%\n",
        "else:\n",
        "    if numero_de_camisetas <= 10:\n",
        "        valor_final = valor_final * (1 - 5/100) #Aplica ao Total Desconto 5%\n",
        "    else:\n",
        "        valor_final = valor_final * (1 - 7/100) #Aplica ao Total Desconto 7%\n",
        "print(f\"Valor final: R$ {valor_final:.2f}\")\n",
        "\n",
        "\n"
      ],
      "metadata": {
        "colab": {
          "base_uri": "https://localhost:8080/"
        },
        "id": "qGYUfk5ZBX-F",
        "outputId": "919c48d8-8221-4168-87c3-b7c37c3e4137"
      },
      "execution_count": null,
      "outputs": [
        {
          "output_type": "stream",
          "name": "stdout",
          "text": [
            "Número de camisetas: 9\n",
            "Valor final: R$ 106.88\n"
          ]
        }
      ]
    },
    {
      "cell_type": "markdown",
      "source": [
        "#### Utilizando o Elif\n"
      ],
      "metadata": {
        "id": "AxB5snE7E2xF"
      }
    },
    {
      "cell_type": "code",
      "source": [
        "numeroCamisas = int(input(\"Número de camisas: \"))\n",
        "\n",
        "valorCamisa = 12.50\n",
        "\n",
        "valorFinal = numeroCamisas * valorCamisa\n",
        "\n",
        "if numeroCamisas <= 5:\n",
        "    valorFinal = valorFinal * (1 - 3/100)\n",
        "    print(f\"Nesta Compra Foi Aplicado seu Desconto de 3%, Obrigado!\")\n",
        "\n",
        "elif numeroCamisas <= 10:\n",
        "    valorFinal = valorFinal * (1 - 5/100)\n",
        "    print(f\"Nesta Compra Foi Aplicado seu Desconto de 5%, Obrigado!\")\n",
        "\n",
        "else:\n",
        "    valorFinal = valorFinal * (1 - 7/100)\n",
        "    print(f\"Nesta Compra Foi Aplicado seu Desconto de 7%, Obrigado!\")\n",
        "\n",
        "print(f\"Valor final: R$ {valorFinal:.2f}\")"
      ],
      "metadata": {
        "colab": {
          "base_uri": "https://localhost:8080/"
        },
        "id": "sT04-PRdE77V",
        "outputId": "04fee0aa-9a76-4f0a-fea9-4660aea48bdd"
      },
      "execution_count": null,
      "outputs": [
        {
          "output_type": "stream",
          "name": "stdout",
          "text": [
            "Número de camisas: 6\n",
            "Nesta Compra Foi Aplicado seu Desconto de 5%, Obrigado!\n",
            "Valor final: R$ 71.25\n"
          ]
        }
      ]
    },
    {
      "cell_type": "code",
      "source": [
        "alt1 = float(input(\"Digite a estatura da 1ª pessoa (em metros): \"))\n",
        "alt2 = float(input(\"Digite a estatura da 2ª pessoa (em metros): \"))\n",
        "alt3 = float(input(\"Digite a estatura da 3ª pessoa (em metros): \"))\n",
        "\n",
        "mais_alto = alt1\n",
        "est_mediana = alt1\n",
        "mais_baixo = alt1\n",
        "\n",
        "if alt1 > alt2 and alt1 > alt3:\n",
        "    mais_alto = alt1\n",
        "    if alt2 > alt3:\n",
        "        est_mediana = alt2\n",
        "        mais_baixo = alt3\n",
        "    else:\n",
        "        est_mediana = alt3\n",
        "        mais_baixo = alt2\n",
        "elif alt2 > alt1 and alt2 > alt3:\n",
        "    mais_alto = alt2\n",
        "    if alt1 > alt3:\n",
        "        est_mediana = alt1\n",
        "        mais_baixo = alt3\n",
        "    else:\n",
        "        est_mediana = alt3\n",
        "        mais_baixo = alt1\n",
        "else:\n",
        "    mais_alto = alt3\n",
        "    if alt1 > alt2:\n",
        "        est_mediana = alt1\n",
        "        mais_baixo = alt2\n",
        "        est_mediana = alt2\n",
        "        mais_baixo = alt1\n",
        "\n",
        "print(f\"Mais alto: {mais_alto}\")\n",
        "print(f\"Mediana: {est_mediana}\")\n",
        "print(f\"Mais baixo: {mais_baixo}\")"
      ],
      "metadata": {
        "colab": {
          "base_uri": "https://localhost:8080/"
        },
        "id": "QvEB8ZQOKOOO",
        "outputId": "9d107a3e-3927-4b89-cb55-4e49f5805e95"
      },
      "execution_count": 3,
      "outputs": [
        {
          "output_type": "stream",
          "name": "stdout",
          "text": [
            "Digite a estatura da 1ª pessoa (em metros): 1.85\n",
            "Digite a estatura da 2ª pessoa (em metros): 1.65\n",
            "Digite a estatura da 3ª pessoa (em metros): 1.58\n",
            "Mais alto: 1.85\n",
            "Mediana: 1.65\n",
            "Mais baixo: 1.58\n"
          ]
        }
      ]
    },
    {
      "cell_type": "code",
      "source": [
        "usuario = input(\"Usuário: \")\n",
        "senha = input(\"Senha: \")\n",
        "\n",
        "if (usuario == \"procopio\" and senha == \"12345\") or \\\n",
        "   (usuario == \"paiva\" and senha == \"54321\"):\n",
        "    print(\"Seja bem vindo!\")\n",
        "else:\n",
        "    print(\"Usuário e senha não conferem\")"
      ],
      "metadata": {
        "colab": {
          "base_uri": "https://localhost:8080/"
        },
        "id": "RPk3pGh5KmtE",
        "outputId": "44749d3e-b4d3-4f23-d6de-903125613af7"
      },
      "execution_count": 5,
      "outputs": [
        {
          "output_type": "stream",
          "name": "stdout",
          "text": [
            "Usuário: paiva\n",
            "Senha: 54321\n",
            "Seja bem vindo!\n"
          ]
        }
      ]
    },
    {
      "cell_type": "code",
      "source": [
        "salario = float(input(\"Digite o salário do funcionário: \"))\n",
        "cargo = input(\"Digite o cargo do funcionário: \")\n",
        "\n",
        "if cargo == \"Programador de Sistemas\":\n",
        "    aumento = 0.30\n",
        "elif cargo == \"Analista de Sistemas\":\n",
        "    aumento = 0.20\n",
        "elif cargo == \"Analista de Banco de Dados\":\n",
        "    aumento = 0.15\n",
        "else:\n",
        "    print(\"Cargo inválido\")\n",
        "    exit()\n",
        "novo_salario = salario * (1 + aumento)\n",
        "\n",
        "print(\"Novo salário: R$\", novo_salario)"
      ],
      "metadata": {
        "colab": {
          "base_uri": "https://localhost:8080/"
        },
        "id": "A7tx5z5rLdRk",
        "outputId": "ecbb7a56-95a0-4985-f363-7b38c4c0059a"
      },
      "execution_count": 8,
      "outputs": [
        {
          "output_type": "stream",
          "name": "stdout",
          "text": [
            "Digite o salário do funcionário: 10.000\n",
            "Digite o cargo do funcionário: Analista de Banco de Dados\n",
            "Novo salário: R$ 11.5\n"
          ]
        }
      ]
    },
    {
      "cell_type": "code",
      "source": [
        "apresentadores = {\n",
        "    \"PINHEIRO\": \"Bom Dia Nação\",\n",
        "    \"ARAÚJO\": \"Bom Dia Nação\",\n",
        "    \"BONNER\": \"Jornal Brasileiro\",\n",
        "    \"VASCONCELOS\": \"Jornal Brasileiro\",\n",
        "}\n",
        "\n",
        "sobrenome = input(\"Digite o sobrenome do apresentador(a): \")\n",
        "\n",
        "if sobrenome in apresentadores:\n",
        "    telejornal = apresentadores[sobrenome]\n",
        "    print(f\"O telejornal apresentado por {sobrenome} é {telejornal}\")\n",
        "else:\n",
        "    print(\"Apresentador(a) desconhecido(a)\")"
      ],
      "metadata": {
        "colab": {
          "base_uri": "https://localhost:8080/"
        },
        "id": "bhAaoYXrMDml",
        "outputId": "58cb8184-4428-4c99-ae14-144e2a3005e3"
      },
      "execution_count": 12,
      "outputs": [
        {
          "output_type": "stream",
          "name": "stdout",
          "text": [
            "Digite o sobrenome do apresentador(a): ARAÚJO\n",
            "O telejornal apresentado por ARAÚJO é Bom Dia Nação\n"
          ]
        }
      ]
    },
    {
      "cell_type": "code",
      "source": [
        "def calcular_imc(peso, altura):\n",
        "  \"\"\"Calcula o IMC (Índice de Massa Corporal).\"\"\"\n",
        "  return peso / (altura ** 2)\n",
        "\n",
        "def classificar_imc(imc):\n",
        "  \"\"\"Classifica o IMC de acordo com a tabela.\"\"\"\n",
        "  if imc < 18.5:\n",
        "    return \"Abaixo do peso\"\n",
        "  elif 18.5 <= imc < 25:\n",
        "    return \"Peso normal\"\n",
        "  elif 25 <= imc < 30:\n",
        "    return \"Sobrepeso\"\n",
        "  elif 30 <= imc < 35:\n",
        "    return \"Obesidade grau 1\"\n",
        "  elif 35 <= imc < 40:\n",
        "    return \"Obesidade grau 2\"\n",
        "  else:\n",
        "    return \"Obesidade grau 3\"\n",
        "\n",
        "\n",
        "peso = float(input(\"Digite seu peso em kg: \"))\n",
        "altura = float(input(\"Digite sua altura em metros: \"))\n",
        "\n",
        "\n",
        "imc = calcular_imc(peso, altura)\n",
        "classificacao = classificar_imc(imc)\n",
        "\n",
        "\n",
        "print(f\"Seu IMC é: {imc:.2f}\")\n",
        "print(f\"Classificação: {classificacao}\")"
      ],
      "metadata": {
        "colab": {
          "base_uri": "https://localhost:8080/"
        },
        "id": "paG_cSbAOo5_",
        "outputId": "ceee3b48-7f7e-413c-d738-30f72818d28a"
      },
      "execution_count": 13,
      "outputs": [
        {
          "output_type": "stream",
          "name": "stdout",
          "text": [
            "Digite seu peso em kg: 109\n",
            "Digite sua altura em metros: 1.85\n",
            "Seu IMC é: 31.85\n",
            "Classificação: Obesidade grau 1\n"
          ]
        }
      ]
    },
    {
      "cell_type": "code",
      "source": [
        "preco_total = float(input(\"Digite o preço total da venda: \"))\n",
        "forma_pagamento = int(input(\"Digite a forma de pagamento (1 - À vista, 2 - Cartão de débito, 3 - Cartão de crédito): \"))\n",
        "\n",
        "if forma_pagamento == 1:\n",
        "    desconto = 0.15  # 15% de desconto para pagamento à vista\n",
        "elif forma_pagamento == 2:\n",
        "    desconto = 0.10  # 10% de desconto para pagamento com cartão de débito\n",
        "elif forma_pagamento == 3:\n",
        "    desconto = 0.05  # 5% de desconto para pagamento com cartão de crédito\n",
        "else:\n",
        "    print(\"Forma de pagamento inválida.\")\n",
        "    exit()\n",
        "\n",
        "valor_final = preco_total * (1 - desconto)\n",
        "\n",
        "print(f\"Valor final a ser pago: R$ {valor_final:.2f}\")"
      ],
      "metadata": {
        "colab": {
          "base_uri": "https://localhost:8080/"
        },
        "id": "wd5GOrt-O1S0",
        "outputId": "0aee85d3-3f12-44c6-c9c5-b339ad67f6b2"
      },
      "execution_count": 14,
      "outputs": [
        {
          "output_type": "stream",
          "name": "stdout",
          "text": [
            "Digite o preço total da venda: 1.250\n",
            "Digite a forma de pagamento (1 - À vista, 2 - Cartão de débito, 3 - Cartão de crédito): 2\n",
            "Valor final a ser pago: R$ 1.12\n"
          ]
        }
      ]
    }
  ]
}