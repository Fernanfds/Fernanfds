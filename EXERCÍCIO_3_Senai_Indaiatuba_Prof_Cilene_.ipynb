{
  "nbformat": 4,
  "nbformat_minor": 0,
  "metadata": {
    "colab": {
      "provenance": [],
      "authorship_tag": "ABX9TyM1aCVNuvNOE84gB90n2sAm",
      "include_colab_link": true
    },
    "kernelspec": {
      "name": "python3",
      "display_name": "Python 3"
    },
    "language_info": {
      "name": "python"
    }
  },
  "cells": [
    {
      "cell_type": "markdown",
      "metadata": {
        "id": "view-in-github",
        "colab_type": "text"
      },
      "source": [
        "<a href=\"https://colab.research.google.com/github/Fernanfds/Fernanfds/blob/main/EXERC%C3%8DCIO_3_Senai_Indaiatuba_Prof_Cilene_.ipynb\" target=\"_parent\"><img src=\"https://colab.research.google.com/assets/colab-badge.svg\" alt=\"Open In Colab\"/></a>"
      ]
    },
    {
      "cell_type": "code",
      "execution_count": null,
      "metadata": {
        "id": "3Qq3FjY-ld0U"
      },
      "outputs": [],
      "source": [
        "from collections import Counter\n",
        "soma = 0\n",
        "quantidade = 0\n",
        "nova  = []\n",
        "\n",
        "while True:\n",
        "    n = int(input(\"Digite um número inteiro: \"))\n",
        "    if n == 0:\n",
        "        break\n",
        "    nova.append(n)\n",
        "    print(nova)\n",
        "\n",
        "    soma = soma + n\n",
        "    quantidade = quantidade + 1\n",
        "\n",
        "print(\"Quantidade de números digitados:\", quantidade)\n",
        "contador = Counter(nova)\n",
        "\n",
        "repetidos = [\n",
        "    item for item, quantidade in contador.items()\n",
        "            if quantidade > 1\n",
        "\n",
        "  ]\n",
        "\n",
        "quantidade_repetidos = len(repetidos)\n",
        "\n",
        "print(f'Há {quantidade_repetidos} números repetidos na lista')\n",
        "nova.append(repetidos)\n",
        "repetidos = sorted(repetidos)\n",
        "print(repetidos)"
      ]
    }
  ]
}