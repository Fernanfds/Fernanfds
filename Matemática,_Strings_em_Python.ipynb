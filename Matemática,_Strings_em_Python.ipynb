{
  "nbformat": 4,
  "nbformat_minor": 0,
  "metadata": {
    "colab": {
      "provenance": [],
      "authorship_tag": "ABX9TyNMRbOsWS/m8OJRhhcjPvmZ",
      "include_colab_link": true
    },
    "kernelspec": {
      "name": "python3",
      "display_name": "Python 3"
    },
    "language_info": {
      "name": "python"
    }
  },
  "cells": [
    {
      "cell_type": "markdown",
      "metadata": {
        "id": "view-in-github",
        "colab_type": "text"
      },
      "source": [
        "<a href=\"https://colab.research.google.com/github/Fernanfds/Fernanfds/blob/main/Matem%C3%A1tica%2C_Strings_em_Python.ipynb\" target=\"_parent\"><img src=\"https://colab.research.google.com/assets/colab-badge.svg\" alt=\"Open In Colab\"/></a>"
      ]
    },
    {
      "cell_type": "code",
      "execution_count": null,
      "metadata": {
        "id": "SAKIAiGQcez_"
      },
      "outputs": [],
      "source": [
        "valores = [ 2,5,7,8,9,12,15,23,45,56]\n",
        "print(max(valores))\n",
        "print(min(valores))\n",
        "\n",
        "a = -5\n",
        "b = 4\n",
        "print(abs(a))\n",
        "print(pow(a, 4))\n",
        "\n",
        "c = 2.789011\n",
        "print(round(c, 3))"
      ]
    },
    {
      "cell_type": "markdown",
      "source": [
        "Matematica"
      ],
      "metadata": {
        "id": "EYdy12QKRLIN"
      }
    },
    {
      "cell_type": "code",
      "source": [
        "import math\n",
        "\n",
        "x = 8\n",
        "y = 100\n",
        "\n",
        "raiz_quadrada = math.sqrt(x)\n",
        "print(math.floor(raiz_quadrada))\n",
        "print(round(raiz_quadrada))\n",
        "\n",
        "\n"
      ],
      "metadata": {
        "id": "YsUmMuEbPTIc"
      },
      "execution_count": null,
      "outputs": []
    },
    {
      "cell_type": "code",
      "source": [
        "x = 8\n",
        "y = 100\n",
        "logaritmo = math.log10(y)\n",
        "print(logaritmo)"
      ],
      "metadata": {
        "id": "YFO75uEmP-Gw"
      },
      "execution_count": null,
      "outputs": []
    },
    {
      "cell_type": "code",
      "source": [
        "x = 8\n",
        "y = 100\n",
        "print(math.pi)\n",
        "print(math.factorial(x))\n",
        "\n"
      ],
      "metadata": {
        "id": "DfVT2Cp1QLW6"
      },
      "execution_count": null,
      "outputs": []
    },
    {
      "cell_type": "markdown",
      "source": [
        "Strings."
      ],
      "metadata": {
        "id": "sYk05mzkRGNw"
      }
    },
    {
      "cell_type": "code",
      "source": [
        "nome = 'Curso de Python'\n",
        "instrutor = 'Fernando'\n",
        "print(nome + ' com ' + instrutor)\n",
        "\n",
        "\n"
      ],
      "metadata": {
        "id": "NhaHX1EpRI_L"
      },
      "execution_count": null,
      "outputs": []
    },
    {
      "cell_type": "code",
      "source": [
        "frase = 'Vamos aprender Python hoje.'\n",
        "palavras = frase.split()\n",
        "print(palavras[1],'\\n')\n",
        "\n",
        "for palavra in palavras:\n",
        "    print(palavra)"
      ],
      "metadata": {
        "id": "QwwOPngJR4z0"
      },
      "execution_count": null,
      "outputs": []
    },
    {
      "cell_type": "code",
      "source": [
        "frase = 'Vamos aprender Python hoje.'\n",
        "print(frase[6:21])"
      ],
      "metadata": {
        "id": "UfuxgigkSEPQ"
      },
      "execution_count": null,
      "outputs": []
    },
    {
      "cell_type": "markdown",
      "source": [
        "Strings"
      ],
      "metadata": {
        "id": "PBt66lCt00Oz"
      }
    },
    {
      "cell_type": "code",
      "source": [
        "email = input('Digite seu email: ')\n",
        "arroba = email.find('@')\n",
        "print(arroba)\n",
        "usuario = email[0:arroba]\n",
        "dominio = email[arroba+1:]\n",
        "print(usuario)\n",
        "print(dominio)"
      ],
      "metadata": {
        "id": "qxu4YSx1cbsT"
      },
      "execution_count": null,
      "outputs": []
    },
    {
      "cell_type": "code",
      "source": [
        "item = 'hipoclorito'\n",
        "pos = item.find('clor')\n",
        "print(pos)\n",
        "pos = item.find('flu')\n",
        "print(pos)"
      ],
      "metadata": {
        "id": "SQPzmqcA04cy"
      },
      "execution_count": null,
      "outputs": []
    },
    {
      "cell_type": "code",
      "source": [
        "produtos = 'carbonato de sódio e óxido de zinco'\n",
        "print('sódio' in produtos)\n",
        "print('magnésio' in produtos)"
      ],
      "metadata": {
        "id": "iISgk6IL0Fna"
      },
      "execution_count": null,
      "outputs": []
    },
    {
      "cell_type": "code",
      "source": [
        "objeto_celeste = 'galáxia esPiral M31'\n",
        "print(objeto_celeste.upper()) #coloca tudo em Maiúscula\n",
        "print(objeto_celeste.lower()) #coloca tudo em Minúscula\n",
        "print(objeto_celeste.title()) #Coloca Letra Inicial em Maiúscula"
      ],
      "metadata": {
        "id": "IEcO99qv1Yu7"
      },
      "execution_count": null,
      "outputs": []
    },
    {
      "cell_type": "code",
      "source": [
        "suplemento = 'cloreto de magnésio'\n",
        "n_suplemento = suplemento.replace('magnésio', 'zinco') #Substitui a palvara na frase\n",
        "print(suplemento)\n",
        "print(n_suplemento)\n"
      ],
      "metadata": {
        "id": "DVOvWOFp4Gst"
      },
      "execution_count": null,
      "outputs": []
    },
    {
      "cell_type": "code",
      "source": [
        "frase = '     Ômega 3 é Otimo para Saúde!    '\n",
        "print(frase)\n",
        "print(frase.lstrip()) #Elimina os espaços da Esquerda\n",
        "print(frase.rstrip()) #Elimina os espaços da Direita\n",
        "print(frase.strip()) #Elimina os espaços Tanto a Esquerda quanto a Direita."
      ],
      "metadata": {
        "id": "kOlpsZCH5tMs"
      },
      "execution_count": null,
      "outputs": []
    },
    {
      "cell_type": "code",
      "source": [
        "fruta = 'Abacate'\n",
        "print(fruta)\n",
        "print(fruta.rjust(20)) #Realinha com 20 espaços a Direita\n",
        "print(fruta.center(20))\n",
        "print(fruta.ljust(20, \"-\"))\n",
        "print(fruta.center(20,\"-\"))\n"
      ],
      "metadata": {
        "id": "puNCXc9Z69EU"
      },
      "execution_count": null,
      "outputs": []
    },
    {
      "cell_type": "code",
      "source": [
        "canal = 'TocaGarage Carros Antigos'\n",
        "print(canal.startswith('T'))\n",
        "print(canal.endswith('e'))"
      ],
      "metadata": {
        "id": "RH9ih4Jq8Izk"
      },
      "execution_count": null,
      "outputs": []
    },
    {
      "cell_type": "markdown",
      "source": [
        "Docs_Strings"
      ],
      "metadata": {
        "id": "XhKin817-Poj"
      }
    },
    {
      "cell_type": "code",
      "source": [
        "texto = \"\"\"\n",
        "Docstring é uma espécie de documentação\n",
        "que podemos inserir dentro de um módulo, função\n",
        "ou classe no Python, entre outros locais.\n",
        "  Respeita deslocamento de texto e é  multilinhas.\n",
        "\"\"\"\n",
        "print(texto)"
      ],
      "metadata": {
        "id": "m3hu1CYi-T-9"
      },
      "execution_count": null,
      "outputs": []
    }
  ]
}