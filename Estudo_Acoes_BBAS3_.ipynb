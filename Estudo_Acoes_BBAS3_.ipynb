{
  "nbformat": 4,
  "nbformat_minor": 0,
  "metadata": {
    "colab": {
      "provenance": [],
      "authorship_tag": "ABX9TyO1erdo/QXRcxLRtoBUjZB3",
      "include_colab_link": true
    },
    "kernelspec": {
      "name": "python3",
      "display_name": "Python 3"
    },
    "language_info": {
      "name": "python"
    }
  },
  "cells": [
    {
      "cell_type": "markdown",
      "metadata": {
        "id": "view-in-github",
        "colab_type": "text"
      },
      "source": [
        "<a href=\"https://colab.research.google.com/github/Fernanfds/Fernanfds/blob/main/Estudo_Acoes_BBAS3_.ipynb\" target=\"_parent\"><img src=\"https://colab.research.google.com/assets/colab-badge.svg\" alt=\"Open In Colab\"/></a>"
      ]
    },
    {
      "cell_type": "code",
      "execution_count": null,
      "metadata": {
        "id": "E1jlmAricRbj"
      },
      "outputs": [],
      "source": [
        "!pip install quantstats"
      ]
    },
    {
      "cell_type": "code",
      "source": [
        "import quantstats as qs\n"
      ],
      "metadata": {
        "id": "rkFwG0g_coKd"
      },
      "execution_count": 2,
      "outputs": []
    },
    {
      "cell_type": "code",
      "source": [
        "qs.extend_pandas()"
      ],
      "metadata": {
        "id": "KDGI5zgrdnVU"
      },
      "execution_count": 7,
      "outputs": []
    },
    {
      "cell_type": "code",
      "source": [
        "bbas = qs.utils.download_returns(\"BBAS3.SA\")"
      ],
      "metadata": {
        "colab": {
          "base_uri": "https://localhost:8080/"
        },
        "id": "h_nimTBRcx8k",
        "outputId": "802f4594-96e6-446e-fa2e-3ea52867469d"
      },
      "execution_count": 8,
      "outputs": [
        {
          "output_type": "stream",
          "name": "stderr",
          "text": [
            "\r[*********************100%%**********************]  1 of 1 completed\n"
          ]
        }
      ]
    },
    {
      "cell_type": "code",
      "source": [
        "bbas.monthly_returns()"
      ],
      "metadata": {
        "id": "Q3RUIVmPdWEb"
      },
      "execution_count": null,
      "outputs": []
    },
    {
      "cell_type": "code",
      "source": [
        "bbas.plot_monthly_heatmap()"
      ],
      "metadata": {
        "id": "O02taprWeRPL"
      },
      "execution_count": null,
      "outputs": []
    },
    {
      "cell_type": "code",
      "source": [
        "bbas.volatility()"
      ],
      "metadata": {
        "colab": {
          "base_uri": "https://localhost:8080/"
        },
        "id": "-42kB13yeurk",
        "outputId": "d5a6dca7-aaff-41a3-cb8a-31426d2c6966"
      },
      "execution_count": 11,
      "outputs": [
        {
          "output_type": "execute_result",
          "data": {
            "text/plain": [
              "0.4230914613523608"
            ]
          },
          "metadata": {},
          "execution_count": 11
        }
      ]
    },
    {
      "cell_type": "code",
      "source": [
        "qs.reports.basic(bbas, benchmark=\"^BVSP\");"
      ],
      "metadata": {
        "id": "f8YAhD1Re1zl"
      },
      "execution_count": null,
      "outputs": []
    },
    {
      "cell_type": "code",
      "source": [
        "qs.reports.full(bbas, benchmark=(\"^BVSP\"));"
      ],
      "metadata": {
        "id": "WwQsIPGPfoWM"
      },
      "execution_count": null,
      "outputs": []
    }
  ]
}