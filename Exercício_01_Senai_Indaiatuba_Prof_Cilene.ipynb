{
  "nbformat": 4,
  "nbformat_minor": 0,
  "metadata": {
    "colab": {
      "provenance": [],
      "authorship_tag": "ABX9TyPw5s48/4CtFuGgeKzkuu+H",
      "include_colab_link": true
    },
    "kernelspec": {
      "name": "python3",
      "display_name": "Python 3"
    },
    "language_info": {
      "name": "python"
    }
  },
  "cells": [
    {
      "cell_type": "markdown",
      "metadata": {
        "id": "view-in-github",
        "colab_type": "text"
      },
      "source": [
        "<a href=\"https://colab.research.google.com/github/Fernanfds/Fernanfds/blob/main/Exerc%C3%ADcio_01_Senai_Indaiatuba_Prof_Cilene.ipynb\" target=\"_parent\"><img src=\"https://colab.research.google.com/assets/colab-badge.svg\" alt=\"Open In Colab\"/></a>"
      ]
    },
    {
      "cell_type": "code",
      "execution_count": 11,
      "metadata": {
        "colab": {
          "base_uri": "https://localhost:8080/"
        },
        "id": "Py6D5et5Og79",
        "outputId": "5cdc8f5e-dbcc-413a-ca77-9d904a1b2f35"
      },
      "outputs": [
        {
          "output_type": "stream",
          "name": "stdout",
          "text": [
            "Digite Um Numero Inteiro(0 para sair): 14\n",
            "[14]\n",
            "Digite Um Numero Inteiro(0 para sair): 96\n",
            "[14, 96]\n",
            "Digite Um Numero Inteiro(0 para sair): 32\n",
            "[14, 96, 32]\n",
            "Digite Um Numero Inteiro(0 para sair): 54\n",
            "[14, 96, 32, 54]\n",
            "Digite Um Numero Inteiro(0 para sair): 3\n",
            "[14, 96, 32, 54, 3]\n",
            "Digite Um Numero Inteiro(0 para sair): 0\n",
            "A Soma Total é de:  199\n",
            "A multiplicacao total dos numeros são:  6967296\n",
            "Valor Maximo da lista é :  96\n",
            "Valor Mínimo da lista é :  3\n"
          ]
        }
      ],
      "source": [
        "import numpy\n",
        "nova = []\n",
        "while True:\n",
        "  num = int(input(\"Digite Um Numero Inteiro(0 para sair): \"))\n",
        "  if num == 0:\n",
        "    break\n",
        "  nova.append(num)\n",
        "  print(nova)\n",
        "\n",
        "print(f'A Soma Total é de: ', (sum(nova)))\n",
        "resultado = numpy.prod(nova)\n",
        "print(f'A multiplicacao total dos numeros são: ', (resultado))\n",
        "sorted(nova)\n",
        "print(f'Valor Maximo da lista é : ', max(nova))\n",
        "print(f'Valor Mínimo da lista é : ', min(nova))"
      ]
    }
  ]
}