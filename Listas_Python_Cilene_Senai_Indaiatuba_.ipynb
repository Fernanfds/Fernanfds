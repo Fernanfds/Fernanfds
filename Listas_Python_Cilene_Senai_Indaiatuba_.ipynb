{
  "nbformat": 4,
  "nbformat_minor": 0,
  "metadata": {
    "colab": {
      "provenance": [],
      "authorship_tag": "ABX9TyP8U3gAiE8qUIhOhFfVJ8ea",
      "include_colab_link": true
    },
    "kernelspec": {
      "name": "python3",
      "display_name": "Python 3"
    },
    "language_info": {
      "name": "python"
    }
  },
  "cells": [
    {
      "cell_type": "markdown",
      "metadata": {
        "id": "view-in-github",
        "colab_type": "text"
      },
      "source": [
        "<a href=\"https://colab.research.google.com/github/Fernanfds/Fernanfds/blob/main/Listas_Python_Cilene_Senai_Indaiatuba_.ipynb\" target=\"_parent\"><img src=\"https://colab.research.google.com/assets/colab-badge.svg\" alt=\"Open In Colab\"/></a>"
      ]
    },
    {
      "cell_type": "markdown",
      "source": [
        "Exemplos:\n"
      ],
      "metadata": {
        "id": "zllHxQ9Izubz"
      }
    },
    {
      "cell_type": "code",
      "source": [
        "lista=[4,5,3,5]\n",
        "print(lista)"
      ],
      "metadata": {
        "colab": {
          "base_uri": "https://localhost:8080/"
        },
        "id": "oSPv07PYz0LU",
        "outputId": "904ab4b4-c92e-44ce-ecdb-2c0118616a28"
      },
      "execution_count": 21,
      "outputs": [
        {
          "output_type": "stream",
          "name": "stdout",
          "text": [
            "[4, 5, 3, 5]\n"
          ]
        }
      ]
    },
    {
      "cell_type": "code",
      "source": [
        "lista.append(2)\n",
        "print(lista)"
      ],
      "metadata": {
        "id": "5IYiogB9wME9"
      },
      "execution_count": null,
      "outputs": []
    },
    {
      "cell_type": "code",
      "source": [
        "lista.insert(2, -3)\n",
        "print(lista)"
      ],
      "metadata": {
        "id": "FFxpy4gFwSK-"
      },
      "execution_count": null,
      "outputs": []
    },
    {
      "cell_type": "code",
      "source": [
        "lista.remove(4)\n",
        "print(lista)"
      ],
      "metadata": {
        "id": "Ua8Rujrgwe1l"
      },
      "execution_count": null,
      "outputs": []
    },
    {
      "cell_type": "code",
      "source": [
        "lista.sort()\n",
        "print(lista)"
      ],
      "metadata": {
        "id": "csDIq0LBwk_S"
      },
      "execution_count": null,
      "outputs": []
    },
    {
      "cell_type": "code",
      "source": [
        "lista.reverse()\n",
        "print (lista)"
      ],
      "metadata": {
        "id": "_NMuBSIjws0D"
      },
      "execution_count": null,
      "outputs": []
    },
    {
      "cell_type": "code",
      "source": [
        "qnt = lista.count(5)\n",
        "print(qnt)"
      ],
      "metadata": {
        "id": "erumky0gw0cq"
      },
      "execution_count": null,
      "outputs": []
    },
    {
      "cell_type": "code",
      "source": [
        "exc = lista.pop()\n",
        "print(lista)\n",
        "print(exc)"
      ],
      "metadata": {
        "id": "X-8zMXh0xDvl"
      },
      "execution_count": null,
      "outputs": []
    },
    {
      "cell_type": "code",
      "source": [
        "del lista[2]\n",
        "print(lista)"
      ],
      "metadata": {
        "id": "m8t2FcLCxRwz"
      },
      "execution_count": null,
      "outputs": []
    },
    {
      "cell_type": "code",
      "source": [
        "del lista[2:5]\n",
        "print(lista)"
      ],
      "metadata": {
        "id": "DbkFtryaxaDk"
      },
      "execution_count": null,
      "outputs": []
    },
    {
      "cell_type": "code",
      "source": [
        "lista.clear()\n",
        "print(lista)"
      ],
      "metadata": {
        "id": "T__lghwaxdwa"
      },
      "execution_count": null,
      "outputs": []
    },
    {
      "cell_type": "code",
      "source": [
        "compra= [10.2, 3.35, 16.3,[ 'Tomate', 'Sabonete', 'Arroz']]\n",
        "print(compra)\n"
      ],
      "metadata": {
        "id": "BHOy_UiXxtRK"
      },
      "execution_count": null,
      "outputs": []
    },
    {
      "cell_type": "code",
      "source": [
        "produtos = compra[3]\n",
        "print(produtos)"
      ],
      "metadata": {
        "id": "nDBgnRR0yQJ7"
      },
      "execution_count": null,
      "outputs": []
    },
    {
      "cell_type": "code",
      "source": [
        "total = compra[0]+compra[1]+compra[2]\n",
        "print(total)"
      ],
      "metadata": {
        "id": "RMueuHiLyZEs"
      },
      "execution_count": null,
      "outputs": []
    },
    {
      "cell_type": "markdown",
      "source": [
        "Uma Lista Dentro de Outra Lista:"
      ],
      "metadata": {
        "id": "hTHDu7uCzeIv"
      }
    },
    {
      "cell_type": "code",
      "source": [
        "letra = [\"a\", \"b\", \"c\"]\n",
        "num = [2,4,6]\n",
        "tudo = [letra,num]\n",
        "print(tudo)\n",
        "print(f\"letras: {tudo[0]}\")\n",
        "print(f\"numeros: {tudo[1]}\")"
      ],
      "metadata": {
        "id": "I6XaemC5yqa_"
      },
      "execution_count": null,
      "outputs": []
    },
    {
      "cell_type": "markdown",
      "source": [
        "Metodos Utilizado em Listas:"
      ],
      "metadata": {
        "id": "NJ0pywkX0A5r"
      }
    },
    {
      "cell_type": "code",
      "source": [
        "letra = [\"a\", \"b\", \"c\"]\n",
        "print(f\"Tamanho da lista: {len(letra)}\")\n",
        "print(f\"Endereço da letra b: {letra.index('b')}\")"
      ],
      "metadata": {
        "id": "XcK2ewq10GX7"
      },
      "execution_count": null,
      "outputs": []
    },
    {
      "cell_type": "markdown",
      "source": [
        "Verificando a Existencia de um Item na Lista:\n"
      ],
      "metadata": {
        "id": "KUKcIoYM0yub"
      }
    },
    {
      "cell_type": "code",
      "source": [
        "letras = [\"a\", \"b\", \"c\", \"d\", \"e\", \"f\"]\n",
        "var = input(\"Informe uma Letra\")\n",
        "if var.lower() in letras:\n",
        "  print(f\"A letra  '{var.lower()}' está na lista\")\n",
        "else:\n",
        "  print(f\"A letra '{var.lower()}' não está na lista\")\n"
      ],
      "metadata": {
        "id": "UOl4r1DE1GM4"
      },
      "execution_count": null,
      "outputs": []
    },
    {
      "cell_type": "markdown",
      "source": [
        "Adicionando Elementos Fornecidos pelo Usuario à lista:"
      ],
      "metadata": {
        "id": "V04F2cdM2Plg"
      }
    },
    {
      "cell_type": "code",
      "source": [
        "nova = []\n",
        "while True:\n",
        "  num = int(input(\"Digite Um Numero Inteiro(0 para sair): \"))\n",
        "  if num == 0:\n",
        "    break\n",
        "  nova.append(num)\n",
        "  print(nova)\n",
        "\n"
      ],
      "metadata": {
        "colab": {
          "base_uri": "https://localhost:8080/"
        },
        "id": "qhMoX9UJ2Zwp",
        "outputId": "90dd330a-88c9-4d6d-8a6b-98daca72e9c6"
      },
      "execution_count": 27,
      "outputs": [
        {
          "name": "stdout",
          "output_type": "stream",
          "text": [
            "Digite Um Numero Inteiro(0 para sair): 20\n",
            "[20]\n",
            "Digite Um Numero Inteiro(0 para sair): 30\n",
            "[20, 30]\n",
            "Digite Um Numero Inteiro(0 para sair): 0\n"
          ]
        }
      ]
    }
  ]
}