{
  "nbformat": 4,
  "nbformat_minor": 0,
  "metadata": {
    "colab": {
      "provenance": [],
      "authorship_tag": "ABX9TyNkCxPSkhdm7/z2Qe4WaGR+",
      "include_colab_link": true
    },
    "kernelspec": {
      "name": "python3",
      "display_name": "Python 3"
    },
    "language_info": {
      "name": "python"
    }
  },
  "cells": [
    {
      "cell_type": "markdown",
      "metadata": {
        "id": "view-in-github",
        "colab_type": "text"
      },
      "source": [
        "<a href=\"https://colab.research.google.com/github/Fernanfds/Fernanfds/blob/main/Aula_03_Senai_Curso_B%C3%A1sico_De_Python.ipynb\" target=\"_parent\"><img src=\"https://colab.research.google.com/assets/colab-badge.svg\" alt=\"Open In Colab\"/></a>"
      ]
    },
    {
      "cell_type": "code",
      "execution_count": null,
      "metadata": {
        "id": "VyTG5a1XZHVQ"
      },
      "outputs": [],
      "source": [
        "numbers = [10, 5, 7, 2, 1]\n",
        "print(\"Conteúdos Originais da Lista:\", numbers)  # Imprimindo o conteúdo original da lista.\n",
        "\n",
        "numbers[0] = 111\n",
        "print(\"Novo Conteúdo da Lista: \", numbers)  # Conteúdo atual da lista."
      ]
    },
    {
      "cell_type": "code",
      "source": [
        "numbers = [10, 5, 7, 2, 1]\n",
        "print(\"Conteúdos originais da lista:\", numbers)  # Imprimindo o conteúdo original da lista.\n",
        "\n",
        "numbers[0] = 111\n",
        "print(\"\\nConteúdo da lista anterior:\", numbers)  # Imprimindo conteúdos de listas anteriores.\n",
        "\n",
        "numbers[1] = numbers[4]  # Copiando o valor do quinto elemento para o segundo.\n",
        "print(\"Novo conteúdo da lista:\", numbers)"
      ],
      "metadata": {
        "id": "XZB7lA38agMj"
      },
      "execution_count": null,
      "outputs": []
    },
    {
      "cell_type": "code",
      "source": [
        "numbers = [111, 7, 2, 1]\n",
        "\n",
        "print(len(numbers))\n",
        "\n",
        "print(numbers)\n",
        "\n",
        "numbers.append (4)\n",
        "print(len(numbers))\n",
        "print(numbers)\n",
        "\n",
        "numbers.insert (0, 222)\n",
        "print(len(numbers))\n",
        "print(numbers)\n",
        "\n",
        "numbers.insert (1, 333)\n",
        "print(len(numbers))\n",
        "print(numbers)"
      ],
      "metadata": {
        "id": "V8d2fEd2g4EQ"
      },
      "execution_count": null,
      "outputs": []
    },
    {
      "cell_type": "code",
      "source": [
        "my_list = []  # Criando uma lista vazia.\n",
        "\n",
        "for i in range(5):\n",
        "    my_list.insert(0, i + 1)\n",
        "\n",
        "print(my_list)"
      ],
      "metadata": {
        "id": "4c_fUMX-medv"
      },
      "execution_count": null,
      "outputs": []
    },
    {
      "cell_type": "code",
      "source": [
        "my_list = [10, 1, 8, 3, 5]\n",
        "\n",
        "my_list[0], my_list[4] = my_list[4], my_list[0]\n",
        "my_list[1], my_list[3] = my_list[3], my_list[1]\n",
        "\n",
        "print(my_list)"
      ],
      "metadata": {
        "id": "a9jrZbivn7U4"
      },
      "execution_count": null,
      "outputs": []
    },
    {
      "cell_type": "code",
      "source": [
        "my_list = [10, 1, 8, 3, 5]\n",
        "total = 0\n",
        "\n",
        "for i in my_list:\n",
        "    total += i\n",
        "\n",
        "print(total)"
      ],
      "metadata": {
        "id": "VPPgw87inWlk"
      },
      "execution_count": null,
      "outputs": []
    },
    {
      "cell_type": "code",
      "source": [
        "l=[int(input('Digite um numero: ')) for i in range(5)]\n",
        "print(len(l))\n",
        "print(l)\n",
        "print(l[4])\n"
      ],
      "metadata": {
        "colab": {
          "base_uri": "https://localhost:8080/"
        },
        "id": "Tt3Zi_BMxtx4",
        "outputId": "86ce601b-9669-462c-8b40-3030a48434a9"
      },
      "execution_count": 32,
      "outputs": [
        {
          "output_type": "stream",
          "name": "stdout",
          "text": [
            "Digite um numero: 12\n",
            "Digite um numero: 34\n",
            "Digite um numero: 55\n",
            "Digite um numero: 89\n",
            "Digite um numero: 01\n",
            "5\n",
            "[12, 34, 55, 89, 1]\n",
            "1\n"
          ]
        }
      ]
    },
    {
      "cell_type": "code",
      "source": [
        "l=[[1,2,3] for i in range(5)]\n",
        "print(l)"
      ],
      "metadata": {
        "colab": {
          "base_uri": "https://localhost:8080/"
        },
        "id": "16YaOAgu6Fnn",
        "outputId": "2f0ad0db-c0a1-4ec8-9454-02001a7e84d3"
      },
      "execution_count": 33,
      "outputs": [
        {
          "output_type": "stream",
          "name": "stdout",
          "text": [
            "[[1, 2, 3], [1, 2, 3], [1, 2, 3], [1, 2, 3], [1, 2, 3]]\n"
          ]
        }
      ]
    },
    {
      "cell_type": "code",
      "source": [
        "l=[[j for j in range(1,5,2)] for i in range (3)]\n",
        "print(l)"
      ],
      "metadata": {
        "colab": {
          "base_uri": "https://localhost:8080/"
        },
        "id": "2VQyYmUP7U8v",
        "outputId": "159536e2-923b-4029-8246-eae938190546"
      },
      "execution_count": 35,
      "outputs": [
        {
          "output_type": "stream",
          "name": "stdout",
          "text": [
            "[[1, 3], [1, 3], [1, 3]]\n"
          ]
        }
      ]
    },
    {
      "cell_type": "code",
      "source": [
        "nova = []\n",
        "while True:\n",
        "  num = int(input(\"Digite un Numero Inteiro(0 para sair): \"))\n",
        "  if num ==0:\n",
        "    break\n",
        "  nova.append(num)\n",
        "print(nova)"
      ],
      "metadata": {
        "id": "dWs5nSq__466"
      },
      "execution_count": null,
      "outputs": []
    }
  ]
}