{
  "nbformat": 4,
  "nbformat_minor": 0,
  "metadata": {
    "colab": {
      "provenance": [],
      "authorship_tag": "ABX9TyOsiG81vUB2bEAU+SReGgIr",
      "include_colab_link": true
    },
    "kernelspec": {
      "name": "python3",
      "display_name": "Python 3"
    },
    "language_info": {
      "name": "python"
    }
  },
  "cells": [
    {
      "cell_type": "markdown",
      "metadata": {
        "id": "view-in-github",
        "colab_type": "text"
      },
      "source": [
        "<a href=\"https://colab.research.google.com/github/Fernanfds/Fernanfds/blob/main/Exerc%C3%ADcio_(1)_de_Teste_Idade_Nadador_Filtros_de_Idade_.ipynb\" target=\"_parent\"><img src=\"https://colab.research.google.com/assets/colab-badge.svg\" alt=\"Open In Colab\"/></a>"
      ]
    },
    {
      "cell_type": "code",
      "execution_count": null,
      "metadata": {
        "id": "R2Ee3L328lr0"
      },
      "outputs": [],
      "source": [
        "#Faça um procedimento que obtém a idade de um nadador por parâmetro e retorna ,\n",
        "#também por parâmetro, a categoria desse nadador de acordo com a tabela abaixo:\n",
        "#Idade Categoria\n",
        "# 0 a 4 anos Indefinido\n",
        "# 5 a 7 anos Infantil A\n",
        "# 8 a 10 anos Infantil B\n",
        "# 11-13 anos Juvenil A\n",
        "# 14-17 anos Juvenil B\n",
        "# Maiores de 18 anos = Adulto\n",
        "\n",
        "idade = int(input(\"Informe a idade do nadador: \"))\n",
        "\n",
        "if idade <= 4 and idade >=0:\n",
        "  print(\"Indefinido\")\n",
        "\n",
        "elif idade >= 5 and idade <= 7:\n",
        "    print(\"Infantil A\")\n",
        "\n",
        "elif idade >= 8 and idade <= 10:\n",
        "    print(\"Infantil B\")\n",
        "\n",
        "elif idade >= 11 and idade <= 13:\n",
        "    print(\"Juvenil A\")\n",
        "\n",
        "elif idade >= 14 and idade <= 17:\n",
        "    print(\"Juvenil B\")\n",
        "\n",
        "else:\n",
        "    print(\"Adulto!\")\n",
        "\n",
        "\n",
        "\n"
      ]
    }
  ]
}