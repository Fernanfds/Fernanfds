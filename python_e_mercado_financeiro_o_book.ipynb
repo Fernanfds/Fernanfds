{
  "nbformat": 4,
  "nbformat_minor": 0,
  "metadata": {
    "colab": {
      "provenance": [],
      "authorship_tag": "ABX9TyOVQSBHU8tpsOTNd+p7QvkO",
      "include_colab_link": true
    },
    "kernelspec": {
      "name": "python3",
      "display_name": "Python 3"
    },
    "language_info": {
      "name": "python"
    }
  },
  "cells": [
    {
      "cell_type": "markdown",
      "metadata": {
        "id": "view-in-github",
        "colab_type": "text"
      },
      "source": [
        "<a href=\"https://colab.research.google.com/github/Fernanfds/Fernanfds/blob/main/python_e_mercado_financeiro_o_book.ipynb\" target=\"_parent\"><img src=\"https://colab.research.google.com/assets/colab-badge.svg\" alt=\"Open In Colab\"/></a>"
      ]
    },
    {
      "cell_type": "code",
      "execution_count": 1,
      "metadata": {
        "colab": {
          "base_uri": "https://localhost:8080/"
        },
        "id": "fil2aSJhN8ao",
        "outputId": "07382940-7301-488b-aa64-47c8ade6fa2a"
      },
      "outputs": [
        {
          "output_type": "stream",
          "name": "stdout",
          "text": [
            "Entre com o numero = 10\n",
            "par\n"
          ]
        }
      ],
      "source": [
        "#Decide se um num é par ou impar\n",
        "\n",
        "n=int(input(\"Entre com o numero = \"))\n",
        "\n",
        "resto=n % 2\n",
        "if (resto==0):\n",
        "    print(\"par\")\n",
        "else:\n",
        "    print(\"impar\")"
      ]
    },
    {
      "cell_type": "code",
      "source": [
        "#Encadeamento de if\n",
        "perg1=str(input(\"Temer sai?\"))\n",
        "if perg1==\"s\":\n",
        "    perg2=str(input(\"Maia assume a presidencia ?\"))\n",
        "    if perg2==\"s\":\n",
        "         perg3=str(input(\"Antecipa a eleição ?\"))\n",
        "         if perg3==\"s\":\n",
        "             print(\"comprar Petrobras\")\n",
        "         else :\n",
        "                 print(\"comprar Usiminas\")\n",
        "    else:\n",
        "      perg3=str(input(\"Antecipa a eleição ?\"))\n",
        "      if perg3==\"s\":\n",
        "           print(\"comprar Gerdau\")\n",
        "      else:\n",
        "           print(\"comprar Vale\")\n",
        "else:\n",
        "  perg2=str(input(\"Greve de caminhoneiros ?\"))\n",
        "  if perg2==\"s\":\n",
        "      print(\"comprar dolar\")\n",
        "  else:\n",
        "      print(\"comprar ouro\")\n",
        "\n",
        "\n",
        ""
      ],
      "metadata": {
        "colab": {
          "base_uri": "https://localhost:8080/"
        },
        "id": "XJar4x2DOsVo",
        "outputId": "86daf508-5577-48be-b2d0-dcc927329bcd"
      },
      "execution_count": 2,
      "outputs": [
        {
          "output_type": "stream",
          "name": "stdout",
          "text": [
            "Temer sai?s\n",
            "Maia assume a presidencia ?n\n",
            "Antecipa a eleição ?s\n",
            "comprar Gerdau\n"
          ]
        }
      ]
    },
    {
      "cell_type": "code",
      "source": [
        "#Soma de n numeros\n",
        "n=int(input(\"qtde de numeros = \"))\n",
        "cont=1\n",
        "s=0\n",
        "while cont<=n:\n",
        "  s=s+cont\n",
        "  cont=cont+1\n",
        "  print(s)\n",
        ""
      ],
      "metadata": {
        "colab": {
          "base_uri": "https://localhost:8080/"
        },
        "id": "1VIC8klrRqQL",
        "outputId": "863c0340-8533-4257-e4b6-9ecbd2ae12f7"
      },
      "execution_count": 4,
      "outputs": [
        {
          "output_type": "stream",
          "name": "stdout",
          "text": [
            "qtde de numeros = 6\n",
            "1\n",
            "3\n",
            "6\n",
            "10\n",
            "15\n",
            "21\n"
          ]
        }
      ]
    },
    {
      "cell_type": "code",
      "source": [
        "#Gera multiplos de 5 ate 20\n",
        "\n",
        "cont=1\n",
        "x=0\n",
        "while x<20:\n",
        "     x=cont*5\n",
        "     cont=cont+1\n",
        "     print(x)\n",
        ""
      ],
      "metadata": {
        "colab": {
          "base_uri": "https://localhost:8080/"
        },
        "id": "aACRksSuSkTx",
        "outputId": "7ae31cce-4162-4eeb-decc-5b58fd6da478"
      },
      "execution_count": 5,
      "outputs": [
        {
          "output_type": "stream",
          "name": "stdout",
          "text": [
            "5\n",
            "10\n",
            "15\n",
            "20\n"
          ]
        }
      ]
    },
    {
      "cell_type": "code",
      "source": [
        "#Soma de n numeros pares\n",
        "\n",
        "n=int(input(\"qtde de numeros = \"))\n",
        "cont=0\n",
        "s=0\n",
        "while cont<=n:\n",
        "     if cont % 2 ==0:\n",
        "         s=s+cont\n",
        "         print(s)\n",
        "     cont=cont+1"
      ],
      "metadata": {
        "colab": {
          "base_uri": "https://localhost:8080/"
        },
        "id": "9piguRwRS9Fm",
        "outputId": "d9453d52-e5da-40a4-a032-4ebf4e94217c"
      },
      "execution_count": 6,
      "outputs": [
        {
          "output_type": "stream",
          "name": "stdout",
          "text": [
            "qtde de numeros = 10\n",
            "0\n",
            "2\n",
            "6\n",
            "12\n",
            "20\n",
            "30\n"
          ]
        }
      ]
    },
    {
      "cell_type": "code",
      "source": [
        "#imprimir parte de uma lista\n",
        "nomes=['mário', 'josé', 'mário', 'maria', 'carlos', 'ana', 'mário']\n",
        "n=len(nomes)\n",
        "cont=1\n",
        "while cont<=n-1:\n",
        "     if nomes[cont] != 'mario':\n",
        "         print(nomes[cont])\n",
        "         cont=cont+1"
      ],
      "metadata": {
        "colab": {
          "base_uri": "https://localhost:8080/"
        },
        "id": "rdLKiLpqT3XO",
        "outputId": "4d06ed45-4b71-4d9e-f7fe-99063f06edec"
      },
      "execution_count": 11,
      "outputs": [
        {
          "output_type": "stream",
          "name": "stdout",
          "text": [
            "josé\n",
            "mário\n",
            "maria\n",
            "carlos\n",
            "ana\n",
            "mário\n"
          ]
        }
      ]
    },
    {
      "cell_type": "code",
      "source": [
        "#Soma de n numeros s=1+2+3+4+...\n",
        "\n",
        "n=int(input(\" qtde de numeros = \"))\n",
        "cont=1\n",
        "s=0\n",
        "while cont<=n:\n",
        "     s=s+cont\n",
        "     if s % 2 ==0 : break\n",
        "     cont=cont+1\n",
        "     print(s)\n"
      ],
      "metadata": {
        "colab": {
          "base_uri": "https://localhost:8080/"
        },
        "id": "lXOC2h5PVg4i",
        "outputId": "44e55e9d-4cdd-4d5d-e21b-3f273d64e089"
      },
      "execution_count": 12,
      "outputs": [
        {
          "output_type": "stream",
          "name": "stdout",
          "text": [
            " qtde de numeros = 10\n",
            "1\n",
            "3\n"
          ]
        }
      ]
    },
    {
      "cell_type": "code",
      "source": [
        "#Soma de n numeros s=1+2+3+4+...\n",
        "\n",
        "n=int(input(\" qtde de numeros = \"))\n",
        "cont=1\n",
        "s=0\n",
        "while cont<=n:\n",
        "     s=s+cont\n",
        "     if s % 2 ==0 : continue\n",
        "     cont=cont+1\n",
        "     print(s)\n",
        ""
      ],
      "metadata": {
        "colab": {
          "base_uri": "https://localhost:8080/"
        },
        "id": "_gV1J4_fWYZH",
        "outputId": "711149d5-d258-44ba-fe3f-4fae3920caf4"
      },
      "execution_count": 13,
      "outputs": [
        {
          "output_type": "stream",
          "name": "stdout",
          "text": [
            " qtde de numeros = 10\n",
            "1\n",
            "3\n",
            "9\n",
            "13\n",
            "23\n",
            "29\n",
            "43\n",
            "51\n",
            "69\n",
            "79\n"
          ]
        }
      ]
    },
    {
      "cell_type": "code",
      "source": [
        "#imprimindo nome\n",
        "\n",
        "n=int(input(\"total de repetições = \"))\n",
        "for i in range(0,n):\n",
        "       print('bovespa')\n",
        ""
      ],
      "metadata": {
        "colab": {
          "base_uri": "https://localhost:8080/"
        },
        "id": "GohTzTRBXRc7",
        "outputId": "4d959176-5165-42a3-cb31-60fa8cf8e6f6"
      },
      "execution_count": 14,
      "outputs": [
        {
          "output_type": "stream",
          "name": "stdout",
          "text": [
            "total de repetições = 10\n",
            "bovespa\n",
            "bovespa\n",
            "bovespa\n",
            "bovespa\n",
            "bovespa\n",
            "bovespa\n",
            "bovespa\n",
            "bovespa\n",
            "bovespa\n",
            "bovespa\n"
          ]
        }
      ]
    },
    {
      "cell_type": "code",
      "source": [
        "#imprimindo numeros\n",
        "\n",
        "for i in range(5,11):\n",
        "       print(i)\n",
        ""
      ],
      "metadata": {
        "colab": {
          "base_uri": "https://localhost:8080/"
        },
        "id": "I1uJHIccX2Te",
        "outputId": "7006e858-0cc8-41d3-e711-d4e7a93b84ed"
      },
      "execution_count": 15,
      "outputs": [
        {
          "output_type": "stream",
          "name": "stdout",
          "text": [
            "5\n",
            "6\n",
            "7\n",
            "8\n",
            "9\n",
            "10\n"
          ]
        }
      ]
    },
    {
      "cell_type": "code",
      "source": [
        "#Imprimindo numeros\n",
        "\n",
        "for i in range(5,11,2):\n",
        "       print(i)"
      ],
      "metadata": {
        "colab": {
          "base_uri": "https://localhost:8080/"
        },
        "id": "FH8W2ZbiYHqW",
        "outputId": "5cc7a4d7-bb55-4048-f4ff-e84784e708c1"
      },
      "execution_count": 16,
      "outputs": [
        {
          "output_type": "stream",
          "name": "stdout",
          "text": [
            "5\n",
            "7\n",
            "9\n"
          ]
        }
      ]
    },
    {
      "cell_type": "code",
      "source": [
        "#Imprimindo numeros\n",
        "\n",
        "n=int(input(\"total de números = \"))\n",
        "s=0\n",
        "\n",
        "for i in range(0,n):\n",
        "    x=float(input(\"número = \"))\n",
        "    s=s+x\n",
        "    print(s)\n",
        "print(\"soma total = \",s)\n"
      ],
      "metadata": {
        "colab": {
          "base_uri": "https://localhost:8080/"
        },
        "id": "nao6yZ7kYZEK",
        "outputId": "815b75f7-b385-469a-c564-469a6115ae8b"
      },
      "execution_count": 20,
      "outputs": [
        {
          "output_type": "stream",
          "name": "stdout",
          "text": [
            "total de números = 5\n",
            "número = -2\n",
            "-2.0\n",
            "número = 4\n",
            "2.0\n",
            "número = 5\n",
            "7.0\n",
            "número = 7\n",
            "14.0\n",
            "número = -1\n",
            "13.0\n",
            "soma total =  13.0\n"
          ]
        }
      ]
    }
  ]
}