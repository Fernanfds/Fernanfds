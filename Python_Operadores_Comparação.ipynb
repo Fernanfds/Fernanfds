{
  "nbformat": 4,
  "nbformat_minor": 0,
  "metadata": {
    "colab": {
      "provenance": [],
      "authorship_tag": "ABX9TyMiS5/zOBiVwd9BjO2yE72m",
      "include_colab_link": true
    },
    "kernelspec": {
      "name": "python3",
      "display_name": "Python 3"
    },
    "language_info": {
      "name": "python"
    }
  },
  "cells": [
    {
      "cell_type": "markdown",
      "metadata": {
        "id": "view-in-github",
        "colab_type": "text"
      },
      "source": [
        "<a href=\"https://colab.research.google.com/github/Fernanfds/Fernanfds/blob/main/Python_Operadores_Compara%C3%A7%C3%A3o.ipynb\" target=\"_parent\"><img src=\"https://colab.research.google.com/assets/colab-badge.svg\" alt=\"Open In Colab\"/></a>"
      ]
    },
    {
      "cell_type": "code",
      "execution_count": null,
      "metadata": {
        "id": "UoPbNes6gC2F"
      },
      "outputs": [],
      "source": [
        "x = y = z = False\n",
        "n1 = n2 = 0\n",
        "\n",
        "print(\"Digite um numero: \" '\\n')\n",
        "n1 = int(input())\n",
        "n2 = int(input(\"Digite outro numero: \" '\\n'))\n",
        "\n",
        "x = n1 == n2\n",
        "print(\"São Iguais ? \", x, '\\n')\n",
        "\n",
        "z = n1 > n2\n",
        "print(n1, ' é maior que ', n2, '? ', z, '\\n')\n",
        "\n",
        "y = n1 != n2\n",
        "print('São Diferentes? ' + str(y), '\\n')"
      ]
    }
  ]
}