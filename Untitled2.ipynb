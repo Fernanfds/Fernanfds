{
  "nbformat": 4,
  "nbformat_minor": 0,
  "metadata": {
    "colab": {
      "provenance": [],
      "toc_visible": true,
      "authorship_tag": "ABX9TyNoScb4SFGtvNQnD/jTojWv",
      "include_colab_link": true
    },
    "kernelspec": {
      "name": "python3",
      "display_name": "Python 3"
    },
    "language_info": {
      "name": "python"
    }
  },
  "cells": [
    {
      "cell_type": "markdown",
      "metadata": {
        "id": "view-in-github",
        "colab_type": "text"
      },
      "source": [
        "<a href=\"https://colab.research.google.com/github/Fernanfds/Fernanfds/blob/main/Untitled2.ipynb\" target=\"_parent\"><img src=\"https://colab.research.google.com/assets/colab-badge.svg\" alt=\"Open In Colab\"/></a>"
      ]
    },
    {
      "cell_type": "code",
      "execution_count": 64,
      "metadata": {
        "colab": {
          "base_uri": "https://localhost:8080/"
        },
        "id": "FYg0dkkW5u1J",
        "outputId": "e4182c9c-d324-483c-de7b-85c2d95089c3"
      },
      "outputs": [
        {
          "output_type": "stream",
          "name": "stdout",
          "text": [
            "O numero 1 aparece 2 vezes na lista\n"
          ]
        }
      ],
      "source": [
        "num=[1, 1, 2, 8, 9, 0, 8, 7, 6, 5, 5,]\n",
        "num[2:3]\n",
        "num[5:9]\n",
        "num[0:11]\n",
        "num[1:11]\n",
        "num[0:10:3]\n",
        "num[10:]\n",
        "num[-3:]\n",
        "num[-4:]\n",
        "len(num)\n",
        "num.count(1)\n",
        "quantidade = num.count(1)\n",
        "print(\"O numero 1 aparece\", quantidade, \"vezes na lista\")\n"
      ]
    },
    {
      "cell_type": "code",
      "source": [
        "Bolsas=['dow', 'ibov', 'ftse', 'dax', 'nasdaq', 'cac']\n",
        "print(Bolsas[:3])\n",
        "\n",
        "import sys\n",
        "print(sys.exc_info()[1])\n",
        "print(Bolsas[5])\n",
        "\n",
        "\n",
        "\n",
        "Bolsas=['dow', 'ibov', 'ftse', 'dax', 'nasdaq', 'cac']\n",
        "Bolsas.insert(5, 'hong kong')\n",
        "Bolsas.insert(6, 'merval')\n",
        "print(Bolsas)\n",
        "\n",
        "Bolsas.index('nasdaq')\n",
        "#Bolsas.remove('cac')\n",
        "\n",
        "Bolsas.insert(2, 'sp&500')\n",
        "print(Bolsas)\n",
        "\n",
        "\n",
        "\n",
        "\n"
      ],
      "metadata": {
        "colab": {
          "base_uri": "https://localhost:8080/"
        },
        "id": "fLGbcsI8fERz",
        "outputId": "5e23c559-dec9-4dae-86a1-db21336c2279"
      },
      "execution_count": 34,
      "outputs": [
        {
          "output_type": "stream",
          "name": "stdout",
          "text": [
            "['dow', 'ibov', 'ftse']\n",
            "None\n",
            "cac\n",
            "['dow', 'ibov', 'ftse', 'dax', 'nasdaq', 'hong kong', 'merval', 'cac']\n",
            "['dow', 'ibov', 'sp&500', 'ftse', 'dax', 'nasdaq', 'hong kong', 'merval', 'cac']\n"
          ]
        }
      ]
    },
    {
      "cell_type": "code",
      "source": [
        "import statistics as st\n",
        "bov = ['dow', 'ibov', 'sp&500', 'ftse', 'dax', 'nasdaq', 'hong kong', 'merval', 'cac']\n",
        "lista = [2,2,3,3,3,-1,-1,-2,0,0,0,2,4,5,1,2,2,0,0,0,1,5,5,7,6,5,0,0]\n",
        "print(lista)\n",
        "sum(lista)\n",
        "max(lista)\n",
        "min(lista)\n",
        "st.median(lista)\n",
        "st.mean(lista)\n",
        "st.mode(lista)\n",
        "st.stdev(lista)\n",
        "st.pstdev(lista)\n",
        "lista.count(0)\n",
        "lista.count(5)\n",
        "lista.sort()\n",
        "print(lista)\n",
        "lista.reverse()\n",
        "print(lista)\n"
      ],
      "metadata": {
        "colab": {
          "base_uri": "https://localhost:8080/"
        },
        "id": "MO9PJsEHo-iC",
        "outputId": "733600c4-6ca6-4699-cfe5-bc28abdd629c"
      },
      "execution_count": 51,
      "outputs": [
        {
          "output_type": "stream",
          "name": "stdout",
          "text": [
            "[2, 2, 3, 3, 3, -1, -1, -2, 0, 0, 0, 2, 4, 5, 1, 2, 2, 0, 0, 0, 1, 5, 5, 7, 6, 5, 0, 0]\n",
            "[-2, -1, -1, 0, 0, 0, 0, 0, 0, 0, 0, 1, 1, 2, 2, 2, 2, 2, 3, 3, 3, 4, 5, 5, 5, 5, 6, 7]\n",
            "[7, 6, 5, 5, 5, 5, 4, 3, 3, 3, 2, 2, 2, 2, 2, 1, 1, 0, 0, 0, 0, 0, 0, 0, 0, -1, -1, -2]\n"
          ]
        }
      ]
    },
    {
      "cell_type": "markdown",
      "source": [
        "# Nova seção"
      ],
      "metadata": {
        "id": "ITODb6eawRXa"
      }
    },
    {
      "cell_type": "code",
      "source": [
        "#Algoritmo do Ano de Nascimento\n",
        "\n",
        "idade=int(input(\"Idade= \"))\n",
        "ano=2024-idade\n",
        "print(ano)\n"
      ],
      "metadata": {
        "colab": {
          "base_uri": "https://localhost:8080/"
        },
        "id": "kEYqyzpRwUfD",
        "outputId": "bd7d9304-dba4-4668-e686-dfe8729e50fa"
      },
      "execution_count": 58,
      "outputs": [
        {
          "output_type": "stream",
          "name": "stdout",
          "text": [
            "Idade= 61\n",
            "1963\n"
          ]
        }
      ]
    },
    {
      "cell_type": "code",
      "source": [
        "#Calculo da area de um circulo\n",
        "import math\n",
        "\n",
        "raio=float(input(\"raio = \"))\n",
        "area=math.pi*raio**2\n",
        "print(\"area = \",area)"
      ],
      "metadata": {
        "colab": {
          "base_uri": "https://localhost:8080/"
        },
        "id": "xLaeLBSEz_fi",
        "outputId": "dc7c19fb-58f0-4b2d-9203-5cf3f26f22aa"
      },
      "execution_count": 59,
      "outputs": [
        {
          "output_type": "stream",
          "name": "stdout",
          "text": [
            "raio = 3.5\n",
            "area =  38.48451000647496\n"
          ]
        }
      ]
    },
    {
      "cell_type": "code",
      "source": [
        "#Exemplo02\n",
        "import math\n",
        "\n",
        "x=float(input(\"x = \"))\n",
        "y=float(input(\"y = \"))\n",
        "z=math.sqrt(x**2+y**2)-math.log(x)+math.exp(y)\n",
        "\n",
        "print(\"valor de z = \",z)\n"
      ],
      "metadata": {
        "colab": {
          "base_uri": "https://localhost:8080/"
        },
        "id": "GOJd2AoJ0vDy",
        "outputId": "db5cc84b-5394-4f92-cf14-49805db76304"
      },
      "execution_count": 60,
      "outputs": [
        {
          "output_type": "stream",
          "name": "stdout",
          "text": [
            "x = 2\n",
            "y = 3\n",
            "valor de z =  22.997941018091712\n"
          ]
        }
      ]
    },
    {
      "cell_type": "code",
      "source": [
        "#Exemplo03\n",
        "\n",
        "r1=float(input(\"retorno 1 = \"))\n",
        "r2=float(input(\"retorno 2 = \"))\n",
        "r3=float(input(\"retorno 3 = \"))\n",
        "\n",
        "p1=float(input(\"probabilidade 1 = \"))\n",
        "p2=float(input(\"probabilidade 2 = \"))\n",
        "p3=float(input(\"probabilidade 3 = \"))\n",
        "\n",
        "ret_medio = r1*p1 + r2*p2 + r3*p3\n",
        "\n",
        "print(\"retorno medio = \" , ret_medio)\n"
      ],
      "metadata": {
        "colab": {
          "base_uri": "https://localhost:8080/"
        },
        "id": "jTRhjfy71l5Y",
        "outputId": "29a9e676-169b-40a2-a277-e157d2f7c88f"
      },
      "execution_count": 61,
      "outputs": [
        {
          "output_type": "stream",
          "name": "stdout",
          "text": [
            "retorno 1 = 100\n",
            "retorno 2 = 90\n",
            "retorno 3 = 120\n",
            "probabilidade 1 = 0.2\n",
            "probabilidade 2 = 0.7\n",
            "probabilidade 3 = 0.1\n",
            "retorno medio =  95.0\n"
          ]
        }
      ]
    }
  ]
}