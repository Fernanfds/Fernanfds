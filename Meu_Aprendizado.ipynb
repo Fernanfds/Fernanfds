{
  "cells": [
    {
      "cell_type": "markdown",
      "metadata": {
        "id": "view-in-github",
        "colab_type": "text"
      },
      "source": [
        "<a href=\"https://colab.research.google.com/github/Fernanfds/Fernanfds/blob/main/Meu_Aprendizado.ipynb\" target=\"_parent\"><img src=\"https://colab.research.google.com/assets/colab-badge.svg\" alt=\"Open In Colab\"/></a>"
      ]
    },
    {
      "cell_type": "code",
      "source": [
        "frase1 = \"Eu amo comer amoras no café da manhã\"\n",
        "lista_termos1 = frase1.split()\n",
        "print(lista_termos1)\n",
        "\n",
        "frase2 = \"Amora Abacaxi Abacate Banana\"\n",
        "lista_termos2 = frase2.split()\n",
        "print(lista_termos2)\n",
        "\n",
        "frase3 = \"Carro,Moto,Avião\"\n",
        "lista_termos3 = frase3.split(',')\n",
        "print(lista_termos3)"
      ],
      "metadata": {
        "colab": {
          "base_uri": "https://localhost:8080/"
        },
        "id": "5GYgz1VEU54Z",
        "outputId": "c3519ced-1031-4ed1-bc99-d7d8004f55b5"
      },
      "execution_count": null,
      "outputs": [
        {
          "output_type": "stream",
          "name": "stdout",
          "text": [
            "['Eu', 'amo', 'comer', 'amoras', 'no', 'café', 'da', 'manhã']\n",
            "['Amora', 'Abacaxi', 'Abacate', 'Banana']\n",
            "['Carro', 'Moto', 'Avião']\n"
          ]
        }
      ]
    },
    {
      "cell_type": "code",
      "source": [
        "frase = \"Eu amo comer amoras no café da manhã\"\n",
        "print(\"Contagem direta: \", frase.count('amo'))\n",
        "\n",
        "contador = 0\n",
        "lista_termos =frase.split()\n",
        "for termo in lista_termos:\n",
        "    if termo == 'amo':\n",
        "      contador += 1\n",
        "#print(\"contagem correta: \", contador)\n",
        "#print(\"contagem direta: \", frase.count('amo'))\n"
      ],
      "metadata": {
        "colab": {
          "base_uri": "https://localhost:8080/"
        },
        "id": "1ok8XhmeW0sV",
        "outputId": "a3173ef9-a898-46ef-8040-736509409e84"
      },
      "execution_count": null,
      "outputs": [
        {
          "output_type": "stream",
          "name": "stdout",
          "text": [
            "Contagem direta:  2\n",
            "contagem direta:  2\n"
          ]
        }
      ]
    },
    {
      "cell_type": "code",
      "source": [
        "minha_lista = ['Arroz', 'Feijão', 'Macarrão']\n",
        "\n",
        "texto1 = ','.join(minha_lista)\n",
        "with open('texto1.txt', 'w') as arquivo:\n",
        "    arquivo.write(texto1)\n",
        "\n",
        "texto2 = '\\n'.join(minha_lista)\n",
        "with open('texto2.txt', 'w') as arquivo:\n",
        "    arquivo.write(texto2)"
      ],
      "metadata": {
        "id": "K6iSoL6IZ7qV"
      },
      "execution_count": null,
      "outputs": []
    },
    {
      "cell_type": "code",
      "source": [
        "nome = \"joão\"\n",
        "\n",
        "minha_string = \"Olá, \" + nome + \".\"\n",
        "minha_string1 = f\"Olá, {nome}.\"\n",
        "minha_string2 = f\"Olá, {nome.upper()}.\"\n",
        "minha_string3 = f\"Quantos Anos voce tem? {10 + 8}.\"\n",
        "minha_string4 = f\"O numero 2 é Maior que o numero 1? {2 > 1}\"\n",
        "minha_string5 = f\"O numero 2 Esta contido na lista [4, 5, 6]? {2 in [4, 5, 6]}\"\n",
        "\n",
        "print(minha_string)\n",
        "print(minha_string1)\n",
        "print(minha_string2)\n",
        "print(minha_string3)\n",
        "print(minha_string4)\n",
        "print(minha_string5)\n"
      ],
      "metadata": {
        "colab": {
          "base_uri": "https://localhost:8080/"
        },
        "id": "a_DNqy8Hd49P",
        "outputId": "5b4d4914-e159-49d3-ebf8-bdb43008a40b"
      },
      "execution_count": null,
      "outputs": [
        {
          "output_type": "stream",
          "name": "stdout",
          "text": [
            "Olá, joão.\n",
            "Olá, joão.\n",
            "Olá, JOÃO.\n",
            "Quantos Anos voce tem? 18.\n",
            "O numero 2 é Maior que o numero 1? True\n",
            "O numero 2 Esta contido na lista [4, 5, 6]? False\n"
          ]
        }
      ]
    },
    {
      "cell_type": "code",
      "source": [
        "from datetime import datetime\n",
        "\n",
        "frutas = ['Jaboticaba', 'Laranja', 'Uva', 'Banana']\n",
        "for fruta in frutas:\n",
        "  minha_fruta = f\"Nome: {fruta:12} - Numero de letras: {len(fruta): 3}\"\n",
        "  print(minha_fruta)\n",
        "\n",
        "print()\n",
        "\n",
        "pi = 3.1415\n",
        "meu_numero = f'O umero PI é: {pi:.1f}'\n",
        "meu_numero_deslocado = f'O numero PI deslocado é: {pi:6.1f}'\n",
        "meu_numero_preciso = f'O numero PI mais preciso é: {pi:.4f}'\n",
        "print(meu_numero)\n",
        "print(meu_numero_deslocado)\n",
        "print(meu_numero_preciso)\n",
        "\n",
        "print()\n",
        "\n",
        "data = datetime.now()\n",
        "minha_data = f'A data de hoje é {data}'\n",
        "minha_data_formatada = f'A data de hoje formatada é {data:%d/%m/%y}'\n",
        "print(minha_data)\n",
        "print(minha_data_formatada)"
      ],
      "metadata": {
        "colab": {
          "base_uri": "https://localhost:8080/"
        },
        "id": "rs9RXkmOhTho",
        "outputId": "4580bfbe-fc3b-4e8a-8e5b-05fa9142e875"
      },
      "execution_count": null,
      "outputs": [
        {
          "output_type": "stream",
          "name": "stdout",
          "text": [
            "Nome: Jaboticaba   - Numero de letras:  10\n",
            "Nome: Laranja      - Numero de letras:   7\n",
            "Nome: Uva          - Numero de letras:   3\n",
            "Nome: Banana       - Numero de letras:   6\n",
            "\n",
            "O umero PI é: 3.1\n",
            "O numero PI deslocado é:    3.1\n",
            "O numero PI mais preciso é: 3.1415\n",
            "\n",
            "A data de hoje é 2024-02-12 18:23:46.165698\n",
            "A data de hoje formatada é 12/02/24\n"
          ]
        }
      ]
    },
    {
      "cell_type": "code",
      "source": [],
      "metadata": {
        "id": "9kwupH2Fjw4N"
      },
      "execution_count": null,
      "outputs": []
    },
    {
      "cell_type": "code",
      "source": [
        "nome = input('Qual seu Nome ?')\n",
        "idade = input('Qual sua idade?')\n",
        "peso = input('Qual é seu Peso ?')\n",
        "print(nome, idade, peso)"
      ],
      "metadata": {
        "colab": {
          "base_uri": "https://localhost:8080/"
        },
        "id": "R0Bwp9USgTh5",
        "outputId": "1507c1b5-54a4-4701-aba7-2c6ceabc8645"
      },
      "execution_count": null,
      "outputs": [
        {
          "output_type": "stream",
          "name": "stdout",
          "text": [
            "Qual seu Nome ?fer\n",
            "Qual sua idade?32\n",
            "Qual é seu Peso ?32\n",
            "fer 32 32\n"
          ]
        }
      ]
    },
    {
      "cell_type": "code",
      "source": [
        "nome = input('Qual é o seu nome ?')\n",
        "print('Seja Bem Vindo!!')"
      ],
      "metadata": {
        "colab": {
          "base_uri": "https://localhost:8080/"
        },
        "id": "j1s9jrtdiRV8",
        "outputId": "8b6e41a6-eeea-46d5-afa1-f016415b1896"
      },
      "execution_count": null,
      "outputs": [
        {
          "output_type": "stream",
          "name": "stdout",
          "text": [
            "Qual é o seu nome ?Fernando\n",
            "Seja Bem Vindo!!\n"
          ]
        }
      ]
    },
    {
      "cell_type": "code",
      "source": [
        "n1 = int(input('Digite um número: '))\n",
        "n2 = int(input('Digite mais um número: '))\n",
        "s = n1 + n2\n",
        "print ('A soma Entre {} e {} vale {}'.format(n1, n2, s))"
      ],
      "metadata": {
        "colab": {
          "base_uri": "https://localhost:8080/"
        },
        "id": "-EB83rpb_cLD",
        "outputId": "29630e18-7f21-47eb-9e42-49cf4e4cb7ba"
      },
      "execution_count": null,
      "outputs": [
        {
          "output_type": "stream",
          "name": "stdout",
          "text": [
            "Digite um número: 23\n",
            "Digite mais um número: 23\n",
            "A soma Entre 23 e 23 vale 46\n"
          ]
        }
      ]
    },
    {
      "cell_type": "code",
      "source": [
        "Digite =input('Digite Algo !')\n",
        "print(type('Digite Algo !'))\n"
      ],
      "metadata": {
        "colab": {
          "base_uri": "https://localhost:8080/"
        },
        "id": "TcNEjLFDYhmF",
        "outputId": "feab821b-9267-441f-d93e-5381b277fc56"
      },
      "execution_count": 4,
      "outputs": [
        {
          "output_type": "stream",
          "name": "stdout",
          "text": [
            "Digite Algo ! olá\n",
            "<class 'str'>\n"
          ]
        }
      ]
    },
    {
      "cell_type": "code",
      "source": [
        "n1 = int(input('Digite um Valor !'))\n",
        "n2 = int(input('Digite outro Valor !'))\n",
        "\n",
        "s = n1 + n2\n",
        "m = n1 * n2\n",
        "d = n1 / n2\n",
        "di = n1 // n2\n",
        "e = n1 ** n2\n",
        "print('A soma é {}, o produto é {}, e a divisão é {:.3f}'.format(s, m, d), end='>>>')\n",
        "print('A divisão Inteira {}, e a potencia {}'.format(di, e))\n"
      ],
      "metadata": {
        "colab": {
          "base_uri": "https://localhost:8080/"
        },
        "id": "hiPntrWekOhQ",
        "outputId": "e395ffb9-e2a6-4e59-ac6a-0ad902c193dd"
      },
      "execution_count": 9,
      "outputs": [
        {
          "output_type": "stream",
          "name": "stdout",
          "text": [
            "Digite um Valor !23\n",
            "Digite outro Valor !12\n",
            "A soma é 35, o produto é 276, e a divisão é 1.917>>>A divisão Inteira 1, e a potencia 21914624432020321\n"
          ]
        }
      ]
    },
    {
      "cell_type": "code",
      "source": [
        "numero = int(input('Digite um número: '))\n",
        "sucessor = ( numero + 1 )\n",
        "antecessor = ( numero - 1 )\n",
        "print(f'O sucessor do número {numero + 1}, e o seu antecessor é {numero - 1}')"
      ],
      "metadata": {
        "colab": {
          "base_uri": "https://localhost:8080/"
        },
        "id": "iSB8m78Injlo",
        "outputId": "e86f2594-1a8f-4c6c-a255-61056a762c49"
      },
      "execution_count": 16,
      "outputs": [
        {
          "output_type": "stream",
          "name": "stdout",
          "text": [
            "Digite um número: 23\n",
            "O sucessor do número 24, e o seu antecessor é 22\n"
          ]
        }
      ]
    },
    {
      "cell_type": "code",
      "source": [
        "num1= int(input('Digite um número e veja o seu dobro, triplo e raíz quadrada: '))\n",
        "db= (num1*2)\n",
        "tr= (num1*3)\n",
        "rq= (num1**(1/2))\n",
        "print (f'O dobro de {num1}, é: {db} \\nO triplo de {num1} é: {tr} \\nA raiz quadrada de {num1} é: {rq:.3f}')"
      ],
      "metadata": {
        "colab": {
          "base_uri": "https://localhost:8080/"
        },
        "id": "FfsWDR82uk5D",
        "outputId": "38435fef-8eae-4bd3-ab96-0a901fa93018"
      },
      "execution_count": 24,
      "outputs": [
        {
          "output_type": "stream",
          "name": "stdout",
          "text": [
            "Digite um número e veja o seu dobro, triplo e raíz quadrada: 12\n",
            "O dobro de 12, é: 24 \n",
            "O triplo de 12 é: 36 \n",
            "A raiz quadrada de 12 é: 3.464\n"
          ]
        }
      ]
    },
    {
      "cell_type": "code",
      "source": [
        "n1 = float(input(\"Digite sua primeira nota:\"))\n",
        "n2 = float(input(\"Digite sua segunda nota:\"))\n",
        "media = (n1 + n2) / 2\n",
        "print(\"Sua primeira nota:{}. Sua segunda nota:{}.\".format(n1, n2))\n",
        "print(\"Sua nota final foi:{}\".format(media))\n",
        "if media == 7 or media == 8 or media == 9:\n",
        "        print('Aprovado')\n",
        "elif media < 7:\n",
        "        print('Reprovado')\n",
        "else:\n",
        "    media == 10\n",
        "print(\"Parabens aprovado com sucesso\")"
      ],
      "metadata": {
        "colab": {
          "base_uri": "https://localhost:8080/"
        },
        "id": "dxuA0IYQvNBu",
        "outputId": "aae4d472-cb86-4e8a-a1d7-130c87f0480b"
      },
      "execution_count": 33,
      "outputs": [
        {
          "output_type": "stream",
          "name": "stdout",
          "text": [
            "Digite sua primeira nota:6.5\n",
            "Digite sua segunda nota:8.0\n",
            "Sua primeira nota:6.5. Sua segunda nota:8.0.\n",
            "Sua nota final foi:7.25\n",
            "Parabens aprovado com sucesso\n"
          ]
        }
      ]
    }
  ],
  "metadata": {
    "colab": {
      "provenance": [],
      "authorship_tag": "ABX9TyM/BRsJUWJciudDiQ2r1Z6Z",
      "include_colab_link": true
    },
    "kernelspec": {
      "display_name": "Python 3",
      "name": "python3"
    },
    "language_info": {
      "name": "python"
    }
  },
  "nbformat": 4,
  "nbformat_minor": 0
}