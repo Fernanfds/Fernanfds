{
  "nbformat": 4,
  "nbformat_minor": 0,
  "metadata": {
    "colab": {
      "provenance": [],
      "authorship_tag": "ABX9TyPsiO6hQg+zEjwy6sDaXBD/",
      "include_colab_link": true
    },
    "kernelspec": {
      "name": "python3",
      "display_name": "Python 3"
    },
    "language_info": {
      "name": "python"
    }
  },
  "cells": [
    {
      "cell_type": "markdown",
      "metadata": {
        "id": "view-in-github",
        "colab_type": "text"
      },
      "source": [
        "<a href=\"https://colab.research.google.com/github/Fernanfds/Fernanfds/blob/main/Curso_Basico_Python_Exemplos_na_Pratica_.ipynb\" target=\"_parent\"><img src=\"https://colab.research.google.com/assets/colab-badge.svg\" alt=\"Open In Colab\"/></a>"
      ]
    },
    {
      "cell_type": "markdown",
      "source": [
        "### Olá Mundo!\n"
      ],
      "metadata": {
        "id": "ocPg6kttkg9F"
      }
    },
    {
      "cell_type": "markdown",
      "source": [
        "Nosso Primeiro Comando em Python"
      ],
      "metadata": {
        "id": "M8gEufABkx4P"
      }
    },
    {
      "cell_type": "code",
      "source": [
        "print(\"Olá Mundo\")"
      ],
      "metadata": {
        "colab": {
          "base_uri": "https://localhost:8080/"
        },
        "id": "2m-_uxr8k274",
        "outputId": "569ca241-b956-453c-abab-60f3ac94d58c"
      },
      "execution_count": 1,
      "outputs": [
        {
          "output_type": "stream",
          "name": "stdout",
          "text": [
            "Olá Mundo\n"
          ]
        }
      ]
    },
    {
      "cell_type": "markdown",
      "source": [
        "Strings"
      ],
      "metadata": {
        "id": "AFnEWukJlBoe"
      }
    },
    {
      "cell_type": "markdown",
      "source": [
        "Concatenação com Operador +"
      ],
      "metadata": {
        "id": "TeP7vJiqlFU9"
      }
    },
    {
      "cell_type": "code",
      "source": [
        "print(\"Curso\" + \" de  Python\")"
      ],
      "metadata": {
        "colab": {
          "base_uri": "https://localhost:8080/"
        },
        "id": "OCaC8fdOlKRt",
        "outputId": "2c79b0ef-9c86-4d87-db09-5d04ac1a4960"
      },
      "execution_count": 8,
      "outputs": [
        {
          "output_type": "stream",
          "name": "stdout",
          "text": [
            "Curso de  Python\n"
          ]
        }
      ]
    },
    {
      "cell_type": "markdown",
      "source": [
        "Substituindo Valores com; .format()"
      ],
      "metadata": {
        "id": "1N5BzpyGl7LF"
      }
    },
    {
      "cell_type": "code",
      "source": [
        "print(\"Aula {} do curso de {}\".format(1, \"Python\"))"
      ],
      "metadata": {
        "colab": {
          "base_uri": "https://localhost:8080/"
        },
        "id": "_IHJW5TCmBz9",
        "outputId": "4821de32-aa8e-45cd-97dd-5d57341fa747"
      },
      "execution_count": 9,
      "outputs": [
        {
          "output_type": "stream",
          "name": "stdout",
          "text": [
            "Aula 1 do curso de Python\n"
          ]
        }
      ]
    },
    {
      "cell_type": "markdown",
      "source": [
        "Transformando para Minúsculas com;  .lower()"
      ],
      "metadata": {
        "id": "jn15Vy13mbz4"
      }
    },
    {
      "cell_type": "code",
      "source": [
        "print(\"Curso de Python para Iniciantes\".lower())"
      ],
      "metadata": {
        "colab": {
          "base_uri": "https://localhost:8080/"
        },
        "id": "z038ThuTmgM_",
        "outputId": "0e288080-f5a5-4f23-d46f-3e79a3feb291"
      },
      "execution_count": 11,
      "outputs": [
        {
          "output_type": "stream",
          "name": "stdout",
          "text": [
            "curso de python para iniciantes\n"
          ]
        }
      ]
    },
    {
      "cell_type": "markdown",
      "source": [
        "Transformando para Maiúsculas com; .upper()"
      ],
      "metadata": {
        "id": "4TRkpy7-m9iG"
      }
    },
    {
      "cell_type": "code",
      "source": [
        "print(\"Curso de Python para Iniciantes\".upper())"
      ],
      "metadata": {
        "colab": {
          "base_uri": "https://localhost:8080/"
        },
        "id": "ILqeCt7hnYAd",
        "outputId": "980128c6-f5fb-4954-9622-f0b3797f68ef"
      },
      "execution_count": 12,
      "outputs": [
        {
          "output_type": "stream",
          "name": "stdout",
          "text": [
            "CURSO DE PYTHON PARA INICIANTES\n"
          ]
        }
      ]
    },
    {
      "cell_type": "markdown",
      "source": [
        "Remover Espaços em Branco com; strip()"
      ],
      "metadata": {
        "id": "TQxTufHtny_-"
      }
    },
    {
      "cell_type": "code",
      "source": [
        "print(\"         Curso de Python para Iniciantes  \".strip())"
      ],
      "metadata": {
        "colab": {
          "base_uri": "https://localhost:8080/"
        },
        "id": "2QqxbaeDoERu",
        "outputId": "61187593-1456-414e-eb83-1179089dd7b7"
      },
      "execution_count": 14,
      "outputs": [
        {
          "output_type": "stream",
          "name": "stdout",
          "text": [
            "Curso de Python para Iniciantes\n"
          ]
        }
      ]
    },
    {
      "cell_type": "markdown",
      "source": [
        "Tipos de Dados: Utilizando o type"
      ],
      "metadata": {
        "id": "yhRNHFwOoP7O"
      }
    },
    {
      "cell_type": "code",
      "source": [
        "print(type(\"Curso de Python para Iniciantes\"))\n",
        "print(type(3))\n",
        "print(type(3.0))\n",
        "print(type(False))"
      ],
      "metadata": {
        "colab": {
          "base_uri": "https://localhost:8080/"
        },
        "id": "Vr-V4lR7oZpk",
        "outputId": "6ff051ed-5280-4e7d-8518-44b64471ea47"
      },
      "execution_count": 20,
      "outputs": [
        {
          "output_type": "stream",
          "name": "stdout",
          "text": [
            "<class 'str'>\n",
            "<class 'int'>\n",
            "<class 'float'>\n",
            "<class 'bool'>\n"
          ]
        }
      ]
    }
  ]
}