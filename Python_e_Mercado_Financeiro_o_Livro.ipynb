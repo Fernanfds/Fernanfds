{
  "nbformat": 4,
  "nbformat_minor": 0,
  "metadata": {
    "colab": {
      "provenance": [],
      "authorship_tag": "ABX9TyNRXKp35affI20wlDzu66bx",
      "include_colab_link": true
    },
    "kernelspec": {
      "name": "python3",
      "display_name": "Python 3"
    },
    "language_info": {
      "name": "python"
    }
  },
  "cells": [
    {
      "cell_type": "markdown",
      "metadata": {
        "id": "view-in-github",
        "colab_type": "text"
      },
      "source": [
        "<a href=\"https://colab.research.google.com/github/Fernanfds/Fernanfds/blob/main/Python_e_Mercado_Financeiro_o_Livro.ipynb\" target=\"_parent\"><img src=\"https://colab.research.google.com/assets/colab-badge.svg\" alt=\"Open In Colab\"/></a>"
      ]
    },
    {
      "cell_type": "code",
      "execution_count": 5,
      "metadata": {
        "colab": {
          "base_uri": "https://localhost:8080/",
          "height": 140
        },
        "id": "Lsr7tpN6IR6v",
        "outputId": "abb3ba95-a154-4e4a-c3be-8182a0a22f6f"
      },
      "outputs": [
        {
          "output_type": "error",
          "ename": "IndentationError",
          "evalue": "unindent does not match any outer indentation level (<tokenize>, line 15)",
          "traceback": [
            "\u001b[0;36m  File \u001b[0;32m\"<tokenize>\"\u001b[0;36m, line \u001b[0;32m15\u001b[0m\n\u001b[0;31m    p1=float(input(\"Resultado do primeiro dia = \"))\u001b[0m\n\u001b[0m    ^\u001b[0m\n\u001b[0;31mIndentationError\u001b[0m\u001b[0;31m:\u001b[0m unindent does not match any outer indentation level\n"
          ]
        }
      ],
      "source": [
        "# Logica Condicional\n",
        "\n",
        "#Calculo Retorno\n",
        "\n",
        "p1=float(input(\"Resultado do primeiro dia = \"))\n",
        "p2=float(input(\"Resultado do segundo dia = \"))\n",
        "retorno=p2-p1\n",
        "if retorno>=0:\n",
        "  print(\"Lucro\")\n",
        "else:\n",
        "  print(\"Prejuizo\")\n",
        "\n",
        "\n"
      ]
    },
    {
      "cell_type": "code",
      "source": [
        " #Calculo Retorno\n",
        "\n",
        " p1=float(input(\"Resultado do primeiro dia = \"))\n",
        " p2=float(input(\"Resultado do segundo dia = \"))\n",
        " retorno=p2-p1\n",
        " if retorno>=0:\n",
        "    print(\"Lucro\")\n",
        "    print(\"Fiquei Feliz\")\n",
        " else:\n",
        "    print(\"Prejuizo\")\n",
        "    print(\"Fiquei Triste\")"
      ],
      "metadata": {
        "colab": {
          "base_uri": "https://localhost:8080/"
        },
        "id": "8aJQ3wK2KEtm",
        "outputId": "c9e1692f-7880-4ee2-b12e-37a3ddd64c06"
      },
      "execution_count": 7,
      "outputs": [
        {
          "output_type": "stream",
          "name": "stdout",
          "text": [
            "Resultado do primeiro dia = 150\n",
            "Resultado do segundo dia = 120\n",
            "Prejuizo\n",
            "Fiquei Triste\n"
          ]
        }
      ]
    },
    {
      "cell_type": "code",
      "source": [
        "#Calculo Faixa Preço\n",
        "p1=float(input(\"Preço 1 = \"))\n",
        "\n",
        "if p1<=18:\n",
        "  print(\"Barato\")\n",
        "elif (p1>18) and (p1<=25):\n",
        "  print(\"Adequado\")\n",
        "elif (p1>25) and (p1<=32):\n",
        "  print(\"Caro\")\n",
        "else:\n",
        "  print(\"Extremamente Caro\")\n",
        ""
      ],
      "metadata": {
        "colab": {
          "base_uri": "https://localhost:8080/"
        },
        "id": "LbpbSG5SKVCr",
        "outputId": "af5f516a-6596-4d5e-e383-ffa2e8c0a305"
      },
      "execution_count": 10,
      "outputs": [
        {
          "output_type": "stream",
          "name": "stdout",
          "text": [
            "Preço 1 = 15\n",
            "Barato\n"
          ]
        }
      ]
    },
    {
      "cell_type": "code",
      "source": [
        "#Decide se um num é Par ou Impar\n",
        "\n",
        "n=int(input(\"Entre com o numero = \"))\n",
        "\n",
        "resto=n % 2\n",
        "if (resto==0):\n",
        "  print(\"Par\")\n",
        "else:\n",
        "  print(\"Impar\")\n",
        ""
      ],
      "metadata": {
        "colab": {
          "base_uri": "https://localhost:8080/"
        },
        "id": "aC3ALbmVLmr5",
        "outputId": "051d2d48-1f82-48a3-ad21-a763b9b88256"
      },
      "execution_count": 12,
      "outputs": [
        {
          "output_type": "stream",
          "name": "stdout",
          "text": [
            "Entre com o numero = 18\n",
            "Par\n"
          ]
        }
      ]
    },
    {
      "cell_type": "code",
      "source": [],
      "metadata": {
        "id": "Zh1leH5II7d2"
      },
      "execution_count": null,
      "outputs": []
    }
  ]
}