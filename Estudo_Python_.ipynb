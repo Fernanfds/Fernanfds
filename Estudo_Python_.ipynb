{
  "nbformat": 4,
  "nbformat_minor": 0,
  "metadata": {
    "colab": {
      "provenance": [],
      "authorship_tag": "ABX9TyOhF21yMu03iKcnU4qNNHWQ",
      "include_colab_link": true
    },
    "kernelspec": {
      "name": "python3",
      "display_name": "Python 3"
    },
    "language_info": {
      "name": "python"
    }
  },
  "cells": [
    {
      "cell_type": "markdown",
      "metadata": {
        "id": "view-in-github",
        "colab_type": "text"
      },
      "source": [
        "<a href=\"https://colab.research.google.com/github/Fernanfds/Fernanfds/blob/main/Estudo_Python_.ipynb\" target=\"_parent\"><img src=\"https://colab.research.google.com/assets/colab-badge.svg\" alt=\"Open In Colab\"/></a>"
      ]
    },
    {
      "cell_type": "code",
      "execution_count": null,
      "metadata": {
        "id": "0THhNToQ6TZx"
      },
      "outputs": [],
      "source": [
        "# Sintaxe :\n",
        "# print(objetos, argumentos)\n",
        "\n",
        "# mensagem = 'Função print()'\n",
        "# print(mensagem)\n",
        "# print('Aula python')\n",
        "\n",
        "# nome = 'Fernando da Silva'\n",
        "# curso = 'Aprendendo Python'\n",
        "# #print('Aprendendo Python,', nome)\n",
        "# print(curso, nome)\n",
        "\n",
        "# nome = input('Digite seu nome: ')\n",
        "# msg = 'Olá ' + nome + '! Bem-vindo ao curso de Python!'\n",
        "# print(msg)\n",
        "\n",
        "# print('Imprime a mensagem e muda de linha')\n",
        "# print('Imprime a mensagem e permaneça na linha.', end= '')\n",
        "# print('Continuo na mesma linha!')\n",
        "\n",
        "# nome = \"Fernando\"\n",
        "# idade = 38\n",
        "# msg_formatada = 'O nome dele é {0} e ele tem {1} anos.'. format(nome,idade)\n",
        "# print(msg_formatada)\n",
        "\n",
        "# nome = 'Bianca'\n",
        "# peso = 25.0\n",
        "# # msg = f'Olá, meu nome é {nome} e meu peso é {peso} quilos...'\n",
        "# print(f'Olá, meu nome é {nome} e meu peso é {peso} quilos...')\n",
        "\n",
        "# a = 34\n",
        "# b = 53\n",
        "# resultado = f'A soma de {a} com {b} é resultante em: {a+b}'\n",
        "# print(resultado)\n",
        "\n",
        "valor = 125.579637\n",
        "print(f\"O valor é {valor:.3f}\")"
      ]
    },
    {
      "cell_type": "code",
      "source": [
        "# nome = 'Fernando'\n",
        "# idade = 38\n",
        "# print(f'Nome: {nome} \\tidade: {idade}')"
      ],
      "metadata": {
        "id": "J4f6-SfnBrV7"
      },
      "execution_count": null,
      "outputs": []
    },
    {
      "cell_type": "markdown",
      "source": [
        "Laços de Repetição\n",
        "\n",
        "WHILE E FOR"
      ],
      "metadata": {
        "id": "uJw5cDSyCY9u"
      }
    },
    {
      "cell_type": "code",
      "source": [
        "num = 1\n",
        "\n",
        "while (num <= 5):\n",
        "    print(num)\n",
        "    num += 1\n",
        "print('Laço Encerrado!')"
      ],
      "metadata": {
        "id": "C42JW3WKCTX3"
      },
      "execution_count": null,
      "outputs": []
    },
    {
      "cell_type": "code",
      "source": [
        "nome = None\n",
        "\n",
        "while True:\n",
        "    print(\"Digite seu Nome, ou x para parar:\")\n",
        "    nome = input()\n",
        "    if nome == 'x' or nome == 'X':\n",
        "        break\n",
        "    print(f'Bem-Vindo, {nome}')\n",
        "\n",
        "print('Até Logo!')"
      ],
      "metadata": {
        "id": "vOseei_hHje3"
      },
      "execution_count": null,
      "outputs": []
    },
    {
      "cell_type": "markdown",
      "source": [
        "Laço For e Função Range"
      ],
      "metadata": {
        "id": "YuS9E6QWJRYf"
      }
    },
    {
      "cell_type": "code",
      "source": [
        "# lista = [2, 6, 9, 4, 0, 12, 3, 7]\n",
        "# palavra = 'Bóson'\n",
        "\n",
        "# for letra in palavra:\n",
        "#     print(letra)\n",
        "\n",
        "\n",
        "for numero in range(11):\n",
        "  print(numero)"
      ],
      "metadata": {
        "id": "gNBEKd3VJcTC"
      },
      "execution_count": null,
      "outputs": []
    },
    {
      "cell_type": "code",
      "source": [
        "nome = input('Digite seu nome: ')\n",
        "for x in range(10):\n",
        "    print(f'{x+1} {nome}')"
      ],
      "metadata": {
        "id": "eN1CmMv-LONm"
      },
      "execution_count": null,
      "outputs": []
    },
    {
      "cell_type": "code",
      "source": [
        "# Range (valor_inicial, valor_final e incremento... )\n",
        "for x in range(2,20,4):\n",
        "    print(x)"
      ],
      "metadata": {
        "id": "1D-P3qecLvWL"
      },
      "execution_count": null,
      "outputs": []
    },
    {
      "cell_type": "code",
      "source": [
        "pedras = ('Rubi', 'Esmeralda', 'Quartzo', 'Safira', 'Diamante', 'Turmalina')\n",
        "\n",
        "for pedra in pedras:\n",
        "    if pedra == 'Quartzo':\n",
        "        continue\n",
        "    print(pedra)"
      ],
      "metadata": {
        "id": "griSIWqeMVI2"
      },
      "execution_count": null,
      "outputs": []
    },
    {
      "cell_type": "markdown",
      "source": [
        "Laços Encadeados"
      ],
      "metadata": {
        "id": "FuMp3FKTNT8q"
      }
    },
    {
      "cell_type": "code",
      "source": [
        "for cont_ex in range(1,6):\n",
        "    print(f'\\nRodada: {cont_ex}')\n",
        "    for cont_in in range(5, 0, -1):\n",
        "      print(f'Valor: {cont_in}')\n",
        "\n",
        "print('Fim dos laços')"
      ],
      "metadata": {
        "id": "kwYwXprUNX4S"
      },
      "execution_count": null,
      "outputs": []
    },
    {
      "cell_type": "code",
      "source": [
        "import random\n",
        "\n",
        "for A in range(1,6):\n",
        "    print(f'\\nConjunto {A}')\n",
        "    for B in range(5):\n",
        "        num = random.randint(1,60)\n",
        "        print(f'Valor: {num}')\n"
      ],
      "metadata": {
        "id": "OhtQeNlHOEKx"
      },
      "execution_count": null,
      "outputs": []
    },
    {
      "cell_type": "code",
      "source": [],
      "metadata": {
        "id": "gSkdrRx1Pa7L"
      },
      "execution_count": null,
      "outputs": []
    },
    {
      "cell_type": "markdown",
      "source": [
        "MÓDULOS"
      ],
      "metadata": {
        "id": "5Hkf7H-PjLNf"
      }
    },
    {
      "cell_type": "code",
      "source": [
        "import math\n",
        "\n",
        "print(math.sqrt(90))"
      ],
      "metadata": {
        "id": "zFJ5hZhzjOXs"
      },
      "execution_count": null,
      "outputs": []
    },
    {
      "cell_type": "code",
      "source": [
        "import numpy as np\n",
        "\n",
        "\n",
        "if __name__ == '__main__':\n",
        "\n",
        "    L = np.array([1, 2, 4, 8, 9, 7, 0])\n",
        "    print(L)\n",
        ""
      ],
      "metadata": {
        "id": "729pabdGkqgh"
      },
      "execution_count": null,
      "outputs": []
    },
    {
      "cell_type": "code",
      "source": [
        "import random\n",
        "\n",
        "print('Gerar cinco números aleatorios entre 1 e 50: \\n')\n",
        "for i in range(5):\n",
        "    n = random.randint(1,50)\n",
        "    print(f'Numero gerado: {n}')\n"
      ],
      "metadata": {
        "id": "OH3i5EyEmr3E"
      },
      "execution_count": null,
      "outputs": []
    },
    {
      "cell_type": "code",
      "source": [
        "import random\n",
        "\n",
        "valor = random.random()\n",
        "print(f'Numero gerado: {round(valor * 10, 2)}')"
      ],
      "metadata": {
        "colab": {
          "base_uri": "https://localhost:8080/"
        },
        "id": "dd9nR8zJoI6V",
        "outputId": "21a59d8c-514b-423d-bb35-f597dfe81d75"
      },
      "execution_count": 22,
      "outputs": [
        {
          "output_type": "stream",
          "name": "stdout",
          "text": [
            "Numero gerado: 7.67\n"
          ]
        }
      ]
    },
    {
      "cell_type": "code",
      "source": [
        "import random\n",
        "\n",
        "valor = random.uniform(1,100)\n",
        "print(f'Numero: {round(valor, 4)}')"
      ],
      "metadata": {
        "id": "GlV83MltoQLL"
      },
      "execution_count": null,
      "outputs": []
    },
    {
      "cell_type": "code",
      "source": [
        "L = [2,3,5,6,7,9,0,10,17,23,45,67]\n",
        "n = random.choice(L)\n",
        "print(f'Numero escolhido: {n}')"
      ],
      "metadata": {
        "id": "wYUEv4RVo_uK"
      },
      "execution_count": null,
      "outputs": []
    },
    {
      "cell_type": "code",
      "source": [
        "L = [2,3,5,6,7,9,0,10,17,23,45,67]\n",
        "n = random.sample(L, 3)\n",
        "print(f'Numeros escolhidos: {n}')"
      ],
      "metadata": {
        "id": "f4yBcgv1p9y5"
      },
      "execution_count": null,
      "outputs": []
    },
    {
      "cell_type": "code",
      "source": [
        "L = [2,3,5,6,7,9,0,10,17,23,45,67]\n",
        "print(f\"Exibir a lista Original:{L}\")\n",
        "print(f'Embaralhar a lista e exibir na tela: ')\n",
        "n = random.shuffle(L)\n",
        "print(L)"
      ],
      "metadata": {
        "id": "H68uD_OHqS5l"
      },
      "execution_count": null,
      "outputs": []
    }
  ]
}