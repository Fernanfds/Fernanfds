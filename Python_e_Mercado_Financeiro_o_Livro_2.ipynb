{
  "nbformat": 4,
  "nbformat_minor": 0,
  "metadata": {
    "colab": {
      "provenance": [],
      "authorship_tag": "ABX9TyOnIr181n3OV2ayXsie72Cb",
      "include_colab_link": true
    },
    "kernelspec": {
      "name": "python3",
      "display_name": "Python 3"
    },
    "language_info": {
      "name": "python"
    }
  },
  "cells": [
    {
      "cell_type": "markdown",
      "metadata": {
        "id": "view-in-github",
        "colab_type": "text"
      },
      "source": [
        "<a href=\"https://colab.research.google.com/github/Fernanfds/Fernanfds/blob/main/Python_e_Mercado_Financeiro_o_Livro_2.ipynb\" target=\"_parent\"><img src=\"https://colab.research.google.com/assets/colab-badge.svg\" alt=\"Open In Colab\"/></a>"
      ]
    },
    {
      "cell_type": "code",
      "execution_count": 5,
      "metadata": {
        "colab": {
          "base_uri": "https://localhost:8080/",
          "height": 140
        },
        "id": "Lsr7tpN6IR6v",
        "outputId": "abb3ba95-a154-4e4a-c3be-8182a0a22f6f"
      },
      "outputs": [
        {
          "output_type": "error",
          "ename": "IndentationError",
          "evalue": "unindent does not match any outer indentation level (<tokenize>, line 15)",
          "traceback": [
            "\u001b[0;36m  File \u001b[0;32m\"<tokenize>\"\u001b[0;36m, line \u001b[0;32m15\u001b[0m\n\u001b[0;31m    p1=float(input(\"Resultado do primeiro dia = \"))\u001b[0m\n\u001b[0m    ^\u001b[0m\n\u001b[0;31mIndentationError\u001b[0m\u001b[0;31m:\u001b[0m unindent does not match any outer indentation level\n"
          ]
        }
      ],
      "source": [
        "# Logica Condicional\n",
        "\n",
        "#Calculo Retorno\n",
        "\n",
        "p1=float(input(\"Resultado do primeiro dia = \"))\n",
        "p2=float(input(\"Resultado do segundo dia = \"))\n",
        "retorno=p2-p1\n",
        "if retorno>=0:\n",
        "  print(\"Lucro\")\n",
        "else:\n",
        "  print(\"Prejuizo\")\n",
        "\n",
        "\n"
      ]
    },
    {
      "cell_type": "code",
      "source": [
        " #Calculo Retorno\n",
        "\n",
        " p1=float(input(\"Resultado do primeiro dia = \"))\n",
        " p2=float(input(\"Resultado do segundo dia = \"))\n",
        " retorno=p2-p1\n",
        " if retorno>=0:\n",
        "    print(\"Lucro\")\n",
        "    print(\"Fiquei Feliz\")\n",
        " else:\n",
        "    print(\"Prejuizo\")\n",
        "    print(\"Fiquei Triste\")"
      ],
      "metadata": {
        "colab": {
          "base_uri": "https://localhost:8080/"
        },
        "id": "8aJQ3wK2KEtm",
        "outputId": "c9e1692f-7880-4ee2-b12e-37a3ddd64c06"
      },
      "execution_count": 7,
      "outputs": [
        {
          "output_type": "stream",
          "name": "stdout",
          "text": [
            "Resultado do primeiro dia = 150\n",
            "Resultado do segundo dia = 120\n",
            "Prejuizo\n",
            "Fiquei Triste\n"
          ]
        }
      ]
    },
    {
      "cell_type": "code",
      "source": [
        "#Calculo Faixa Preço\n",
        "p1=float(input(\"Preço 1 = \"))\n",
        "\n",
        "if p1<=18:\n",
        "  print(\"Barato\")\n",
        "elif (p1>18) and (p1<=25):\n",
        "  print(\"Adequado\")\n",
        "elif (p1>25) and (p1<=32):\n",
        "  print(\"Caro\")\n",
        "else:\n",
        "  print(\"Extremamente Caro\")\n",
        ""
      ],
      "metadata": {
        "colab": {
          "base_uri": "https://localhost:8080/"
        },
        "id": "LbpbSG5SKVCr",
        "outputId": "af5f516a-6596-4d5e-e383-ffa2e8c0a305"
      },
      "execution_count": 10,
      "outputs": [
        {
          "output_type": "stream",
          "name": "stdout",
          "text": [
            "Preço 1 = 15\n",
            "Barato\n"
          ]
        }
      ]
    },
    {
      "cell_type": "code",
      "source": [
        "#Decide se um num é Par ou Impar\n",
        "\n",
        "n=int(input(\"Entre com o numero = \"))\n",
        "\n",
        "resto=n % 2\n",
        "if (resto==0):\n",
        "  print(\"Par\")\n",
        "else:\n",
        "  print(\"Impar\")\n",
        ""
      ],
      "metadata": {
        "colab": {
          "base_uri": "https://localhost:8080/"
        },
        "id": "aC3ALbmVLmr5",
        "outputId": "051d2d48-1f82-48a3-ad21-a763b9b88256"
      },
      "execution_count": 12,
      "outputs": [
        {
          "output_type": "stream",
          "name": "stdout",
          "text": [
            "Entre com o numero = 18\n",
            "Par\n"
          ]
        }
      ]
    },
    {
      "cell_type": "code",
      "source": [
        "#Encadeamento de if\n",
        "\n",
        "perg1=str(input(\"Temer sai ?\"))\n",
        "if perg1==\"s\":\n",
        "  perg2=str(input(\"Maia assume a presidencia\"))\n",
        "  if perg2==\"s\":\n",
        "    perg3=str(input(\"Antecipa a eleição ?\"))\n",
        "    if perg3==\"s\":\n",
        "      print(\"Comprar Petrobras\")\n",
        "    else:\n",
        "         print(\"Comprar Usiminas\")\n",
        "  else:\n",
        "          perg3=str(input(\"Antecipa a eleição ?\"))\n",
        "          if perg3==\"s\":\n",
        "              print(\"Comprar Gerdau\")\n",
        "          else:\n",
        "              print(\"Comprar Vale\")\n",
        "else:\n",
        "  perg2=str(input(\"Greve de caminhoneiros ?\"))\n",
        "  if perg2==\"s\":\n",
        "    print(\"Comprar dolar\")\n",
        "  else:\n",
        "    print(\"Comprar ouro\")\n",
        ""
      ],
      "metadata": {
        "colab": {
          "base_uri": "https://localhost:8080/"
        },
        "id": "bH4F554DNJo_",
        "outputId": "f3ec7a0f-7dd0-4d03-9bcd-8d9828a1a9b3"
      },
      "execution_count": 15,
      "outputs": [
        {
          "output_type": "stream",
          "name": "stdout",
          "text": [
            "Temer sai ?s\n",
            "Maia assume a presidencias\n",
            "Antecipa a eleição ?n\n",
            "Comprar Usiminas\n"
          ]
        }
      ]
    },
    {
      "cell_type": "code",
      "source": [],
      "metadata": {
        "id": "Zh1leH5II7d2"
      },
      "execution_count": null,
      "outputs": []
    }
  ]
}