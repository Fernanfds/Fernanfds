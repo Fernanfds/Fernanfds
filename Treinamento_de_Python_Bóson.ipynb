{
  "nbformat": 4,
  "nbformat_minor": 0,
  "metadata": {
    "colab": {
      "provenance": [],
      "authorship_tag": "ABX9TyNK/Y6PzHr5FnJWl0nWmZcR",
      "include_colab_link": true
    },
    "kernelspec": {
      "name": "python3",
      "display_name": "Python 3"
    },
    "language_info": {
      "name": "python"
    }
  },
  "cells": [
    {
      "cell_type": "markdown",
      "metadata": {
        "id": "view-in-github",
        "colab_type": "text"
      },
      "source": [
        "<a href=\"https://colab.research.google.com/github/Fernanfds/Fernanfds/blob/main/Treinamento_de_Python_B%C3%B3son.ipynb\" target=\"_parent\"><img src=\"https://colab.research.google.com/assets/colab-badge.svg\" alt=\"Open In Colab\"/></a>"
      ]
    },
    {
      "cell_type": "code",
      "execution_count": null,
      "metadata": {
        "id": "BTH_tqQxCtBR"
      },
      "outputs": [],
      "source": [
        "from math import sqrt\n",
        "\n",
        "\n",
        "if __name__ == '__main__':\n",
        "    try:\n",
        "      num = int(input('Digite um numero positivo: '))\n",
        "      if num < 0:\n",
        "        raise ArithmeticError\n",
        "    except ArithmeticError:\n",
        "      print(f'Foi fornecido um numero negativo!')\n",
        "    else:\n",
        "      print(f'A raiz quadrada de {num} é {sqrt(num)}')\n",
        "    finally:\n",
        "      print('Obrigado por utilizar nosso programa!')\n"
      ]
    },
    {
      "cell_type": "markdown",
      "source": [
        "Funções Especiais em Python"
      ],
      "metadata": {
        "id": "ZSbhvz8pFbuA"
      }
    },
    {
      "cell_type": "code",
      "source": [
        "par = lambda x: x % 2 == 0\n",
        "print(par(21))"
      ],
      "metadata": {
        "id": "gNK3iY4LFho5"
      },
      "execution_count": null,
      "outputs": []
    },
    {
      "cell_type": "code",
      "source": [
        "f_C =lambda f: (f - 32) * 5/9\n",
        "print(f_C(72))"
      ],
      "metadata": {
        "id": "QFr3sFcEGmtn"
      },
      "execution_count": null,
      "outputs": []
    },
    {
      "cell_type": "markdown",
      "source": [],
      "metadata": {
        "id": "VmZ0OGfUPtB6"
      }
    },
    {
      "cell_type": "markdown",
      "source": [
        "Função map()"
      ],
      "metadata": {
        "id": "TFQy1gb-HF7R"
      }
    },
    {
      "cell_type": "code",
      "source": [
        "num = [3,5,7,9,11,13,15]\n",
        "dobro = list(map(lambda x: x*2, num))\n",
        "print(dobro)"
      ],
      "metadata": {
        "id": "xSz5OL-cHI45"
      },
      "execution_count": null,
      "outputs": []
    },
    {
      "cell_type": "code",
      "source": [
        "palavras = ['Python', 'é', 'Uma', 'Linguagem', 'De', 'Programação','!']\n",
        "maiusculas = list(map(str.upper, palavras))\n",
        "print(maiusculas)\n"
      ],
      "metadata": {
        "id": "xBiGYXunOlZZ"
      },
      "execution_count": null,
      "outputs": []
    },
    {
      "cell_type": "markdown",
      "source": [
        "Função filter()"
      ],
      "metadata": {
        "id": "ZFoSwSuxP31z"
      }
    },
    {
      "cell_type": "code",
      "source": [
        "def numeros_pares(n):\n",
        "    return n % 2 == 0\n",
        "numeros = [1,4,6,7,9,0,11,15,105,234,556,738]\n",
        "pares = list(filter(numeros_pares, numeros))\n",
        "print(pares)"
      ],
      "metadata": {
        "id": "ineI9z-cP6n2"
      },
      "execution_count": null,
      "outputs": []
    },
    {
      "cell_type": "code",
      "source": [
        "def numeros_impares(n):\n",
        "    return n % 2 != 0\n",
        "numeros = [1,4,6,7,9,0,11,15,105,234,556,738]\n",
        "impares = list(filter(numeros_impares, numeros))\n",
        "print(impares)"
      ],
      "metadata": {
        "colab": {
          "base_uri": "https://localhost:8080/"
        },
        "id": "anz8GWgvS03b",
        "outputId": "0bfb3d3b-6dac-45b7-fce7-15b4d9e08c8e"
      },
      "execution_count": 25,
      "outputs": [
        {
          "output_type": "stream",
          "name": "stdout",
          "text": [
            "[1, 7, 9, 11, 15, 105]\n"
          ]
        }
      ]
    },
    {
      "cell_type": "code",
      "source": [
        "\n",
        "numeros = [1,4,6,7,9,0,11,15,105,234,556,738]\n",
        "num_impar = list(filter(lambda x: x % 2 != 0, numeros))\n",
        "print(num_impar)\n"
      ],
      "metadata": {
        "id": "f0sXIJzESZ5Y"
      },
      "execution_count": null,
      "outputs": []
    },
    {
      "cell_type": "markdown",
      "source": [
        "Função reduce()"
      ],
      "metadata": {
        "id": "2ztY-SoKUpoM"
      }
    },
    {
      "cell_type": "code",
      "source": [
        "from functools import reduce\n",
        "def mult(x, y):\n",
        "    return x * y\n",
        "numeros = [1,2,3,4,5,6]\n",
        "resultado = reduce(mult, numeros)\n",
        "print(resultado)"
      ],
      "metadata": {
        "id": "GE5b4QG6Us9r"
      },
      "execution_count": null,
      "outputs": []
    },
    {
      "cell_type": "code",
      "source": [
        "from functools import reduce\n",
        "\n",
        "numeros = [1,2,3,4,]\n",
        "resultado = reduce(lambda x, y: x **2 + y**2, numeros)\n",
        "print(resultado)"
      ],
      "metadata": {
        "colab": {
          "base_uri": "https://localhost:8080/"
        },
        "id": "07Yj_hIiWz0X",
        "outputId": "82f7a0b3-bc7c-4637-df60-c87c9c9ecbb6"
      },
      "execution_count": 28,
      "outputs": [
        {
          "output_type": "stream",
          "name": "stdout",
          "text": [
            "1172\n"
          ]
        }
      ]
    }
  ]
}