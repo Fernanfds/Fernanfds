{
  "nbformat": 4,
  "nbformat_minor": 0,
  "metadata": {
    "colab": {
      "provenance": [],
      "authorship_tag": "ABX9TyMrsruIlD2hI/QWpiyZnj50",
      "include_colab_link": true
    },
    "kernelspec": {
      "name": "python3",
      "display_name": "Python 3"
    },
    "language_info": {
      "name": "python"
    }
  },
  "cells": [
    {
      "cell_type": "markdown",
      "metadata": {
        "id": "view-in-github",
        "colab_type": "text"
      },
      "source": [
        "<a href=\"https://colab.research.google.com/github/Fernanfds/Fernanfds/blob/main/Treinamento_II_de_Python_B%C3%B3son.ipynb\" target=\"_parent\"><img src=\"https://colab.research.google.com/assets/colab-badge.svg\" alt=\"Open In Colab\"/></a>"
      ]
    },
    {
      "cell_type": "code",
      "execution_count": null,
      "metadata": {
        "id": "BTH_tqQxCtBR"
      },
      "outputs": [],
      "source": [
        "from math import sqrt\n",
        "\n",
        "\n",
        "if __name__ == '__main__':\n",
        "    try:\n",
        "      num = int(input('Digite um numero positivo: '))\n",
        "      if num < 0:\n",
        "        raise ArithmeticError\n",
        "    except ArithmeticError:\n",
        "      print(f'Foi fornecido um numero negativo!')\n",
        "    else:\n",
        "      print(f'A raiz quadrada de {num} é {sqrt(num)}')\n",
        "    finally:\n",
        "      print('Obrigado por utilizar nosso programa!')\n"
      ]
    },
    {
      "cell_type": "markdown",
      "source": [
        "Funções Especiais em Python"
      ],
      "metadata": {
        "id": "ZSbhvz8pFbuA"
      }
    },
    {
      "cell_type": "code",
      "source": [
        "par = lambda x: x % 2 == 0\n",
        "print(par(21))"
      ],
      "metadata": {
        "id": "gNK3iY4LFho5"
      },
      "execution_count": null,
      "outputs": []
    },
    {
      "cell_type": "code",
      "source": [
        "f_C =lambda f: (f - 32) * 5/9\n",
        "print(f_C(72))"
      ],
      "metadata": {
        "id": "QFr3sFcEGmtn"
      },
      "execution_count": null,
      "outputs": []
    },
    {
      "cell_type": "markdown",
      "source": [],
      "metadata": {
        "id": "VmZ0OGfUPtB6"
      }
    },
    {
      "cell_type": "markdown",
      "source": [
        "Função map()"
      ],
      "metadata": {
        "id": "TFQy1gb-HF7R"
      }
    },
    {
      "cell_type": "code",
      "source": [
        "num = [3,5,7,9,11,13,15]\n",
        "dobro = list(map(lambda x: x*2, num))\n",
        "print(dobro)"
      ],
      "metadata": {
        "id": "xSz5OL-cHI45"
      },
      "execution_count": null,
      "outputs": []
    },
    {
      "cell_type": "code",
      "source": [
        "palavras = ['Python', 'é', 'Uma', 'Linguagem', 'De', 'Programação','!']\n",
        "maiusculas = list(map(str.upper, palavras))\n",
        "print(maiusculas)\n"
      ],
      "metadata": {
        "id": "xBiGYXunOlZZ"
      },
      "execution_count": null,
      "outputs": []
    },
    {
      "cell_type": "markdown",
      "source": [
        "Função filter()"
      ],
      "metadata": {
        "id": "ZFoSwSuxP31z"
      }
    },
    {
      "cell_type": "code",
      "source": [
        "def numeros_pares(n):\n",
        "    return n % 2 == 0\n",
        "numeros = [1,4,6,7,9,0,11,15,105,234,556,738]\n",
        "pares = list(filter(numeros_pares, numeros))\n",
        "print(pares)"
      ],
      "metadata": {
        "id": "ineI9z-cP6n2"
      },
      "execution_count": null,
      "outputs": []
    },
    {
      "cell_type": "code",
      "source": [
        "def numeros_impares(n):\n",
        "    return n % 2 != 0\n",
        "numeros = [1,4,6,7,9,0,11,15,105,234,556,738]\n",
        "impares = list(filter(numeros_impares, numeros))\n",
        "print(impares)"
      ],
      "metadata": {
        "colab": {
          "base_uri": "https://localhost:8080/"
        },
        "id": "anz8GWgvS03b",
        "outputId": "0bfb3d3b-6dac-45b7-fce7-15b4d9e08c8e"
      },
      "execution_count": null,
      "outputs": [
        {
          "output_type": "stream",
          "name": "stdout",
          "text": [
            "[1, 7, 9, 11, 15, 105]\n"
          ]
        }
      ]
    },
    {
      "cell_type": "code",
      "source": [
        "\n",
        "numeros = [1,4,6,7,9,0,11,15,105,234,556,738]\n",
        "num_impar = list(filter(lambda x: x % 2 != 0, numeros))\n",
        "print(num_impar)\n"
      ],
      "metadata": {
        "id": "f0sXIJzESZ5Y"
      },
      "execution_count": null,
      "outputs": []
    },
    {
      "cell_type": "markdown",
      "source": [
        "Função reduce()"
      ],
      "metadata": {
        "id": "2ztY-SoKUpoM"
      }
    },
    {
      "cell_type": "code",
      "source": [
        "from functools import reduce\n",
        "def mult(x, y):\n",
        "    return x * y\n",
        "numeros = [1,2,3,4,5,6]\n",
        "resultado = reduce(mult, numeros)\n",
        "print(resultado)"
      ],
      "metadata": {
        "id": "GE5b4QG6Us9r"
      },
      "execution_count": null,
      "outputs": []
    },
    {
      "cell_type": "code",
      "source": [
        "from functools import reduce\n",
        "\n",
        "numeros = [1,2,3,4,]\n",
        "resultado = reduce(lambda x, y: x **2 + y**2, numeros)\n",
        "print(resultado)"
      ],
      "metadata": {
        "id": "07Yj_hIiWz0X"
      },
      "execution_count": null,
      "outputs": []
    },
    {
      "cell_type": "markdown",
      "source": [
        "Compreensão de Lista:"
      ],
      "metadata": {
        "id": "LpZkPaa0MU8E"
      }
    },
    {
      "cell_type": "code",
      "source": [
        "numeros = [1,4,7,9,10,12,14,15]\n",
        "\n",
        "quadrados = [num **2 for num in numeros]\n",
        "print(quadrados)"
      ],
      "metadata": {
        "id": "DsghBhY0MY5s"
      },
      "execution_count": null,
      "outputs": []
    },
    {
      "cell_type": "code",
      "source": [
        "pares = [num for num in range(80) if num % 2 == 0]\n",
        "print(pares)"
      ],
      "metadata": {
        "id": "NKvXXueLNQeI"
      },
      "execution_count": null,
      "outputs": []
    },
    {
      "cell_type": "code",
      "source": [
        "impares = [num for num in range(80) if num % 2 != 0]\n",
        "print(impares)"
      ],
      "metadata": {
        "id": "-GMsguprN9Zu"
      },
      "execution_count": null,
      "outputs": []
    },
    {
      "cell_type": "code",
      "source": [
        "frase = 'A lógica é Apenas o Principio da Sabedoria, e não o seu Fim.'\n",
        "vogais = ['a', 'e', 'i', 'o', 'u','á','é','í','ó','ú']\n",
        "\n",
        "lista_vogais = [v for v in frase if v in vogais]\n",
        "print(f'A frase possui {len(lista_vogais)} vogais:')\n",
        "print(lista_vogais)"
      ],
      "metadata": {
        "id": "0b5YwEvkOyBj"
      },
      "execution_count": null,
      "outputs": []
    },
    {
      "cell_type": "code",
      "source": [
        "distributiva = [k * m for k in [2,3,5] for m in [10,20,40]]\n",
        "print(distributiva)\n",
        "print(min(distributiva))\n",
        "print(max(distributiva))\n",
        "print(sum(distributiva))"
      ],
      "metadata": {
        "id": "IsMz8hfmQL9V"
      },
      "execution_count": null,
      "outputs": []
    },
    {
      "cell_type": "code",
      "source": [
        "distributiva = [j / f for j in [2,3,5] for f in [10,20,40]]\n",
        "print(distributiva)\n",
        "print(min(distributiva))\n",
        "print(max(distributiva))\n",
        "print(sum(distributiva))"
      ],
      "metadata": {
        "id": "H2TgMLKTRjo7"
      },
      "execution_count": null,
      "outputs": []
    },
    {
      "cell_type": "code",
      "source": [
        "distributiva = [j - f for j in [2,3,5] for f in [10,20,40]]\n",
        "print(distributiva)\n",
        "print(min(distributiva))\n",
        "print(max(distributiva))\n",
        "print(sum(distributiva))"
      ],
      "metadata": {
        "id": "bNoZ-R3zR2uh"
      },
      "execution_count": null,
      "outputs": []
    },
    {
      "cell_type": "markdown",
      "source": [
        "POO - Programação Orientada a Objetos"
      ],
      "metadata": {
        "id": "iiAtcN0TgZDZ"
      }
    },
    {
      "cell_type": "code",
      "source": [
        "class Veiculo:\n",
        "    def movimentar(self):\n",
        "        print(f'Sou um veiculo e estou em movimentando')\n",
        "\n",
        "    def __init__(self, fabricante, modelo):\n",
        "        self.__fabricante = fabricante\n",
        "        self.__modelo = modelo\n",
        "        self.__num_registro = None\n",
        "    # Setter\n",
        "\n",
        "    def set_num_registro(self, registro):\n",
        "        self.__num_registro = registro\n",
        "\n",
        "    # Getter\n",
        "\n",
        "    def get_fabr_modelo(self):\n",
        "        print(f'Modelo: {self.__modelo}, Fabricante: {self.__fabricante}.\\n')\n",
        "\n",
        "    def get_num_registro(self):\n",
        "        return self.__num_registro\n",
        "\n",
        "\n",
        "class Carro(Veiculo):\n",
        "    # Método __init__ será herdado\n",
        "\n",
        "    def movimentar(self):\n",
        "        print(f'Sou um Carro e Ando pelas Ruas!')\n",
        "\n",
        "class Motocicleta(Veiculo):\n",
        "    def movimentar(self):\n",
        "        print(f'Sou uma Moto e Ando na Cidade!')\n",
        "\n",
        "class Aviao(Veiculo):\n",
        "    def __init__(self, fabricante, modelo, categoria):\n",
        "        self.__cat = categoria\n",
        "        super().__init__(fabricante, modelo)\n",
        "\n",
        "    def get_categoria(self):\n",
        "        return self.__cat\n",
        "\n",
        "    def movimentar(self):\n",
        "        print(f'Eu Sempre Voo Alto!\\n')\n",
        "\n",
        "\n",
        "\n",
        "\n",
        "if __name__=='__main__':\n",
        "    meu_veiculo = Veiculo('GM', 'Cadillac Escalade')\n",
        "    meu_veiculo.movimentar()\n",
        "    meu_veiculo.get_fabr_modelo()\n",
        "    meu_veiculo.set_num_registro('490321-1')\n",
        "    print(f'Registro: {meu_veiculo.get_num_registro()}\\n')\n",
        "\n",
        "    meu_carro = Carro('Volkswagen', 'Polo')\n",
        "    meu_carro.movimentar()\n",
        "    meu_carro.get_fabr_modelo()\n",
        "\n",
        "    seu_carro = Carro('Audi', 'A5 Sportback')\n",
        "    seu_carro.movimentar()\n",
        "    seu_carro.get_fabr_modelo()\n",
        "\n",
        "    moto = Motocicleta('Honda', 'CBR')\n",
        "    moto.movimentar()\n",
        "    moto.get_fabr_modelo()\n",
        "\n",
        "    meu_aviao = Aviao('Boeing', '737', 'Comercial')\n",
        "    meu_aviao.movimentar()\n",
        "    meu_aviao.get_fabr_modelo()\n",
        "    print(f'Categoria: {meu_aviao.get_categoria()}')\n",
        "\n",
        "\n",
        "\n"
      ],
      "metadata": {
        "id": "NKzov_x3gjQ2"
      },
      "execution_count": null,
      "outputs": []
    }
  ]
}