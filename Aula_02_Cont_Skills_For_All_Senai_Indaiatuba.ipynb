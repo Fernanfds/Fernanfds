{
  "nbformat": 4,
  "nbformat_minor": 0,
  "metadata": {
    "colab": {
      "provenance": [],
      "authorship_tag": "ABX9TyNc1dsCLJmkgoYNmxXrw4g0",
      "include_colab_link": true
    },
    "kernelspec": {
      "name": "python3",
      "display_name": "Python 3"
    },
    "language_info": {
      "name": "python"
    }
  },
  "cells": [
    {
      "cell_type": "markdown",
      "metadata": {
        "id": "view-in-github",
        "colab_type": "text"
      },
      "source": [
        "<a href=\"https://colab.research.google.com/github/Fernanfds/Fernanfds/blob/main/Aula_02_Cont_Skills_For_All_Senai_Indaiatuba.ipynb\" target=\"_parent\"><img src=\"https://colab.research.google.com/assets/colab-badge.svg\" alt=\"Open In Colab\"/></a>"
      ]
    },
    {
      "cell_type": "code",
      "execution_count": null,
      "metadata": {
        "id": "ql7s5GOPiw13"
      },
      "outputs": [],
      "source": [
        "cont = 0\n",
        "n = 0\n",
        "num = 10\n",
        "print(num)\n",
        "n = n+num\n",
        "cont = cont + 1\n",
        "print(n)\n",
        "num = 20\n",
        "print(num)\n",
        "n = n+num\n",
        "cont = cont + 1\n",
        "print(n)\n",
        "cont = cont + 1\n",
        "print(cont)"
      ]
    },
    {
      "cell_type": "code",
      "source": [
        "a = 6\n",
        "b = 3\n",
        "a /= 2 * b\n",
        "print(a)"
      ],
      "metadata": {
        "id": "vLudAZu5oSHC"
      },
      "execution_count": null,
      "outputs": []
    },
    {
      "cell_type": "code",
      "source": [
        "anything = float(input(\"Digite um número: \"))\n",
        "something = anything ** 2.0\n",
        "print(anything, \"elevado a 2 é\", something)"
      ],
      "metadata": {
        "id": "aTTfkb8uuEOE"
      },
      "execution_count": null,
      "outputs": []
    },
    {
      "cell_type": "code",
      "source": [
        "fnam = input(\"Posso ter seu primeiro nome, por favor? \")\n",
        "lnam = input(\"Posso ter seu sobrenome, por favor? \")\n",
        "print(\"Obrigado!.\")\n",
        "print(\"\\nSeu nome é \" + fnam + \" \" + lnam + \".\")"
      ],
      "metadata": {
        "id": "o7PU_lh8vdJs"
      },
      "execution_count": null,
      "outputs": []
    },
    {
      "cell_type": "code",
      "source": [
        "print(\"+\" + 20 * \"-\" + \"+\")\n",
        "print((\"|\" + \" \" * 20 + \"|\\n\") * 8, end=\"\")\n",
        "print(\"+\" + 20 * \"-\" + \"+\")"
      ],
      "metadata": {
        "id": "7BgH2sV41vX5"
      },
      "execution_count": null,
      "outputs": []
    },
    {
      "cell_type": "code",
      "source": [
        "nome = input(\"Digite seu Nome: \")\n",
        "print(nome)"
      ],
      "metadata": {
        "id": "uLbQrcjp3UBZ"
      },
      "execution_count": null,
      "outputs": []
    },
    {
      "cell_type": "code",
      "source": [
        "name = input(\"Digite seu nome: \")\n",
        "print(\"Olá, \" + name + \". Prazer em conhecê-lo!\")"
      ],
      "metadata": {
        "id": "BTXW9v4B95Vo"
      },
      "execution_count": null,
      "outputs": []
    },
    {
      "cell_type": "code",
      "source": [
        "name = input(\"Digite seu nome: \")\n",
        "print(\"Olá, \" + name + \". Prazer em conhecê-lo!\")\n",
        "\n",
        "print(\"\\nPressione Enter para finalizar o programa.\")\n",
        "input()\n",
        "print(\"O FIM.\")"
      ],
      "metadata": {
        "id": "Ai37IyEF-Bz_"
      },
      "execution_count": null,
      "outputs": []
    },
    {
      "cell_type": "code",
      "source": [
        "idade = int(input('Qual sua Idade ? '))\n",
        "print(\"Sua idade é:\", idade)"
      ],
      "metadata": {
        "colab": {
          "base_uri": "https://localhost:8080/"
        },
        "id": "n8Lq8c0134fR",
        "outputId": "a0047aa3-0f85-4ba0-a16e-6c252e01d32b"
      },
      "execution_count": 33,
      "outputs": [
        {
          "output_type": "stream",
          "name": "stdout",
          "text": [
            "Qual sua Idade ? 38\n",
            "Sua idade é: 38\n"
          ]
        }
      ]
    },
    {
      "cell_type": "code",
      "source": [
        "salario = float(input('Qual é Seu Salario ?'))\n",
        "print(\"Seu salario é:\", salario )"
      ],
      "metadata": {
        "id": "JNAhZLMr4a3E"
      },
      "execution_count": null,
      "outputs": []
    },
    {
      "cell_type": "code",
      "source": [
        "#\"James\" * 3 gera \"James,James,James\"\n",
        "\"James,\" * 3\n"
      ],
      "metadata": {
        "id": "C2hU_H7x7Dhh"
      },
      "execution_count": null,
      "outputs": []
    },
    {
      "cell_type": "code",
      "source": [
        "curso = 'Python'\n",
        "n = curso*4\n",
        "print(curso * 3)"
      ],
      "metadata": {
        "id": "zZIk_jCy8K39"
      },
      "execution_count": null,
      "outputs": []
    },
    {
      "cell_type": "code",
      "source": [
        "num_1 = input(\"Digite o primeiro número: \")\n",
        "num_2 = input(\"Digite o segundo número: \")\n",
        "\n",
        "print(num_1 + num_2)"
      ],
      "metadata": {
        "id": "zSwQjwIG-NEV"
      },
      "execution_count": null,
      "outputs": []
    },
    {
      "cell_type": "code",
      "source": [
        "x = int(input(\"Digite um número: \"))\n",
        "print(x * \"5\")"
      ],
      "metadata": {
        "id": "Q-BgugZq-RAZ"
      },
      "execution_count": null,
      "outputs": []
    },
    {
      "cell_type": "code",
      "source": [
        "x = int(input())\n",
        "y = int(input())\n",
        "\n",
        "x = x % y\n",
        "print(x)\n",
        "x = x % y\n",
        "print(x)\n",
        "y = y % x\n",
        "\n",
        "print(y)"
      ],
      "metadata": {
        "id": "DA31jw7OZ8tH"
      },
      "execution_count": null,
      "outputs": []
    },
    {
      "cell_type": "code",
      "source": [
        "var = 0  # Atribuindo 0 a var\n",
        "print(var != 0)\n",
        "\n",
        "var = 1  # Atribuindo 1 a var\n",
        "print(var != 0)"
      ],
      "metadata": {
        "id": "_nhZkfTxeWz2"
      },
      "execution_count": null,
      "outputs": []
    },
    {
      "cell_type": "code",
      "source": [
        "number1 = int(input(\"Enter the first number: \"))\n",
        "number2 = int(input(\"Enter the second number: \"))\n",
        "\n",
        "# Choose the larger number\n",
        "if number1 > number2: larger_number = number1\n",
        "else: larger_number = number2\n",
        "\n",
        "# Print the result\n",
        "print(\"The larger number is:\", larger_number)"
      ],
      "metadata": {
        "id": "tfmS2L1vg1ZS"
      },
      "execution_count": null,
      "outputs": []
    },
    {
      "cell_type": "code",
      "source": [
        "n1 = int(input('Digite um Numero: '))\n",
        "n2 = int(input('Digite outro Numero: '))\n",
        "if n1 > n2 :\n",
        "    print('O Primeiro numero é o Maior !')\n",
        "    print('Continuando o Programa')\n",
        "    print('Terminou o IF - Estrutura Condicional')"
      ],
      "metadata": {
        "id": "BLqWejQFlc4D"
      },
      "execution_count": null,
      "outputs": []
    },
    {
      "cell_type": "code",
      "source": [
        "maior = 0\n",
        "n1 = int(input('Digite Um Numero: '))\n",
        "n2 = int(input('Digite Outro Numero: '))\n",
        "if n1 > n2 :\n",
        "  maior = n1\n",
        "else:\n",
        "  maior = n2\n",
        "print(\"O Maior Numero é o:\", maior)"
      ],
      "metadata": {
        "id": "aoirWO1yoCIE"
      },
      "execution_count": null,
      "outputs": []
    },
    {
      "cell_type": "code",
      "source": [
        "b1 = True\n",
        "b2 = False\n",
        "if b1 > b2 :\n",
        "  print(\"Verdadeiro\")\n",
        "else:\n",
        "  print(\"Falso\")"
      ],
      "metadata": {
        "colab": {
          "base_uri": "https://localhost:8080/"
        },
        "id": "G96u6cOGt90U",
        "outputId": "df2b1a87-6149-4800-8fa4-6986d8ea4faf"
      },
      "execution_count": 24,
      "outputs": [
        {
          "output_type": "stream",
          "name": "stdout",
          "text": [
            "Verdadeiro\n"
          ]
        }
      ]
    },
    {
      "cell_type": "code",
      "source": [
        "n1 = int(input(\"Digite sua 1° Nota: \"))\n",
        "n2 = int(input(\"Dgite sua  2° Nota: \"))\n",
        "n3 = int(input(\"Digite sua 3° Nota: \"))\n",
        "n4 = int(input(\"Digite sua 4° Nota: \"))\n",
        "\n",
        "media = (n1+n2+n3+n4) /4\n",
        "if media >= 7:\n",
        "  print('O aluno está APROVADO')\n",
        "elif media >= 5 and media <7:\n",
        "  print(\"Ficou de RECUPERAÇÃO\")\n",
        "else:\n",
        "  print(\"Aluno infelizmente REPROVADO\")"
      ],
      "metadata": {
        "id": "YEdYYjy5wlo7"
      },
      "execution_count": null,
      "outputs": []
    },
    {
      "cell_type": "code",
      "source": [
        "number1 = int(input(\"Enter the first number: \"))\n",
        "number2 = int(input(\"Enter the second number: \"))\n",
        "number3 = int(input(\"Enter the third number: \"))\n",
        "\n",
        "\n",
        "largest_number = max(number1, number2, number3)\n",
        "\n",
        "\n",
        "print(\"The largest number is:\", largest_number)"
      ],
      "metadata": {
        "id": "vbwU2AAIzXxj"
      },
      "execution_count": null,
      "outputs": []
    },
    {
      "cell_type": "code",
      "source": [
        "name = input(\"Enter flower name: \")\n",
        "\n",
        "if name == \"Spathiphyllum\":\n",
        "    print(\"Yes - Spathiphyllum is the best plant ever!\")\n",
        "elif name == \"spathiphyllum\":\n",
        "    print(\"No, I want a big Spathiphyllum!\")\n",
        "else:\n",
        "    print(\"Spathiphyllum! Not\", name + \"!\")\n",
        ""
      ],
      "metadata": {
        "colab": {
          "base_uri": "https://localhost:8080/"
        },
        "id": "TFYggiFa0AU4",
        "outputId": "e8af3876-f3dc-4ada-d8f0-80d538cad05d"
      },
      "execution_count": 33,
      "outputs": [
        {
          "output_type": "stream",
          "name": "stdout",
          "text": [
            "Enter flower name: Spathiphyllum\n",
            "Yes - Spathiphyllum is the best plant ever!\n"
          ]
        }
      ]
    },
    {
      "cell_type": "code",
      "source": [
        "income = float(input(\"Enter the annual income: \"))\n",
        "\n",
        "if income < 85528:\n",
        "\ttax = income * 0.18 - 556.02\n",
        "else:\n",
        "\ttax = (income - 85528) * 0.32 + 14839.02\n",
        "\n",
        "if tax < 0.0:\n",
        "\ttax = 0.0\n",
        "\n",
        "tax = round(tax, 0)\n",
        "print(\"The tax is:\", tax, \"thalers\")"
      ],
      "metadata": {
        "id": "hn55aa3P1Fw-"
      },
      "execution_count": null,
      "outputs": []
    },
    {
      "cell_type": "code",
      "source": [
        "year = int(input(\"Enter a year: \"))\n",
        "\n",
        "if year < 1582:\n",
        "\tprint(\"Not within the Gregorian calendar period\")\n",
        "else:\n",
        "\tif year % 4 != 0:\n",
        "\t\tprint(\"Common year\")\n",
        "\telif year % 100 != 0:\n",
        "\t\tprint(\"Leap year\")\n",
        "\telif year % 400 != 0:\n",
        "\t\tprint(\"Common year\")\n",
        "\telse:\n",
        "\t\tprint(\"Leap year\")"
      ],
      "metadata": {
        "id": "qd0ztquF1y--"
      },
      "execution_count": null,
      "outputs": []
    },
    {
      "cell_type": "code",
      "source": [
        "x = 10\n",
        "\n",
        "if x == 10: # True\n",
        "    print(\"x == 10\")\n",
        "\n",
        "if x > 15: # False\n",
        "    print(\"x > 15\")\n",
        "\n",
        "elif x > 10: # False\n",
        "    print(\"x > 10\")\n",
        "\n",
        "elif x > 5: # True\n",
        "    print(\"x > 5\")\n",
        "\n",
        "else:\n",
        "    print(\"else will not be executed\")"
      ],
      "metadata": {
        "id": "R_UnC9_C2PO5"
      },
      "execution_count": null,
      "outputs": []
    },
    {
      "cell_type": "code",
      "source": [
        "x = 10\n",
        "\n",
        "if x > 5: # True\n",
        "    if x == 6: # False\n",
        "        print(\"nested: x == 6\")\n",
        "    elif x == 10: # True\n",
        "        print(\"nested: x == 10\")\n",
        "    else:\n",
        "        print(\"nested: else\")\n",
        "else:\n",
        "    print(\"else\")"
      ],
      "metadata": {
        "id": "H_7pv25M2nqS"
      },
      "execution_count": null,
      "outputs": []
    }
  ]
}