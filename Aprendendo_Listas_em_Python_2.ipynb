{
  "nbformat": 4,
  "nbformat_minor": 0,
  "metadata": {
    "colab": {
      "provenance": [],
      "authorship_tag": "ABX9TyPocjpukzGR5xdEkvS//Xff",
      "include_colab_link": true
    },
    "kernelspec": {
      "name": "python3",
      "display_name": "Python 3"
    },
    "language_info": {
      "name": "python"
    }
  },
  "cells": [
    {
      "cell_type": "markdown",
      "metadata": {
        "id": "view-in-github",
        "colab_type": "text"
      },
      "source": [
        "<a href=\"https://colab.research.google.com/github/Fernanfds/Fernanfds/blob/main/Aprendendo_Listas_em_Python_2.ipynb\" target=\"_parent\"><img src=\"https://colab.research.google.com/assets/colab-badge.svg\" alt=\"Open In Colab\"/></a>"
      ]
    },
    {
      "cell_type": "markdown",
      "source": [
        "Listas !!"
      ],
      "metadata": {
        "id": "mYhEdcCDCdvw"
      }
    },
    {
      "cell_type": "code",
      "source": [
        "n1 = [0, 1, 2, 18, 45, 38 ]\n",
        "n2 = [4, 8, 9, 12, 17, 24]\n",
        "\n",
        "valores = n1 + n2\n",
        "valores[0] = 9\n",
        "print(len(valores))\n",
        "print(sorted(valores, reverse=True))\n",
        "print(sum(valores))\n",
        "print(min(valores))\n",
        "print(max(valores))"
      ],
      "metadata": {
        "id": "QAxSIKJ-ChuP"
      },
      "execution_count": null,
      "outputs": []
    },
    {
      "cell_type": "code",
      "source": [
        "n1 = [0, 1, 2, 18, 45, 38 ]\n",
        "n2 = [4, 8, 9, 12, 17, 24]\n",
        "\n",
        "valores.append(13)\n",
        "print(valores)\n",
        "valores.pop(3)\n",
        "print(valores)\n",
        "valores.insert(4, 100)\n",
        "print(valores)\n",
        "print(99 in valores)"
      ],
      "metadata": {
        "id": "4QX7lPfkDZ6M"
      },
      "execution_count": null,
      "outputs": []
    },
    {
      "cell_type": "code",
      "source": [
        "planetas = ['Mercurio', 'Marte', 'Vênus', 'Saturno', 'Urano']\n",
        "for planeta in planetas:\n",
        "  print(planeta,'\\n')"
      ],
      "metadata": {
        "id": "iUW6xE5wEZEK"
      },
      "execution_count": null,
      "outputs": []
    },
    {
      "cell_type": "code",
      "source": [
        "bebidas = []\n",
        "\n",
        "for i in range(5):\n",
        "    print(f'Digite uma Bebida Favorita: ')\n",
        "    bebida = input()\n",
        "    bebidas.append(bebida)\n",
        "\n",
        "bebidas.sort()\n",
        "\n",
        "print(f'\\nBebidas Escolhidas: ')\n",
        "for bebida in bebidas:\n",
        "    print(bebida)\n",
        "print(f'\\nSaúde!')"
      ],
      "metadata": {
        "id": "Z2aVQZVFGuFI"
      },
      "execution_count": null,
      "outputs": []
    },
    {
      "cell_type": "markdown",
      "source": [
        "Tuplas !!"
      ],
      "metadata": {
        "id": "gkCGiojIITk5"
      }
    },
    {
      "cell_type": "code",
      "source": [
        "# São Imutáveis, Nao se pode alterar seu Valor apos Criada !\n",
        "\n",
        "tupla = (2,4,5,7,9)\n",
        "print(tupla)"
      ],
      "metadata": {
        "id": "kFQn-M9sIZzs"
      },
      "execution_count": null,
      "outputs": []
    },
    {
      "cell_type": "code",
      "source": [
        "halogenios = ('F', 'C1', 'Br', 'I', 'At')\n",
        "gases_nobres = ('He', 'Ne', 'Ar', 'Xe', 'Kr', 'Rn')\n",
        "elementos = halogenios + gases_nobres\n",
        "print(halogenios[0:3])\n",
        "print('C1' in halogenios)\n",
        "\n",
        "t1 = (5,2,4,5,6,7)\n",
        "print(sum(t1))\n",
        "print(min(t1))\n",
        "print(max(t1))\n",
        "print(t1.count(5))\n",
        "\n",
        "#Operações não disponiveis em Tuplas: sort(), .append(), reverse(), pop() !!\n",
        "\n",
        "for elemento in elementos:\n",
        "    print(f'\\nElemento quimico: {elemento}')\n",
        "\n",
        "\n",
        "\n",
        "\n",
        "\n"
      ],
      "metadata": {
        "id": "YU_ARj9bIvC6"
      },
      "execution_count": null,
      "outputs": []
    },
    {
      "cell_type": "markdown",
      "source": [
        "Criar Tupla apartir de uma Lista !"
      ],
      "metadata": {
        "id": "TK8-hn1xauOa"
      }
    },
    {
      "cell_type": "code",
      "source": [
        "grupo1 = ['Li', 'Na', 'K', 'Rb', 'Cs', 'Fr']\n",
        "alcalinos = tuple(grupo1)\n",
        "print(alcalinos)\n",
        "print(type(alcalinos))\n",
        "print(sorted(alcalinos))"
      ],
      "metadata": {
        "id": "xemOULdHazgr"
      },
      "execution_count": null,
      "outputs": []
    }
  ]
}