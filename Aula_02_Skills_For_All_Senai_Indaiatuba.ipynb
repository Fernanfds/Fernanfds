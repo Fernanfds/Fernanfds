{
  "nbformat": 4,
  "nbformat_minor": 0,
  "metadata": {
    "colab": {
      "provenance": [],
      "authorship_tag": "ABX9TyPlLh9LQzUSPdrTCDa1+sk5",
      "include_colab_link": true
    },
    "kernelspec": {
      "name": "python3",
      "display_name": "Python 3"
    },
    "language_info": {
      "name": "python"
    }
  },
  "cells": [
    {
      "cell_type": "markdown",
      "metadata": {
        "id": "view-in-github",
        "colab_type": "text"
      },
      "source": [
        "<a href=\"https://colab.research.google.com/github/Fernanfds/Fernanfds/blob/main/Aula_02_Skills_For_All_Senai_Indaiatuba.ipynb\" target=\"_parent\"><img src=\"https://colab.research.google.com/assets/colab-badge.svg\" alt=\"Open In Colab\"/></a>"
      ]
    },
    {
      "cell_type": "code",
      "execution_count": null,
      "metadata": {
        "id": "ql7s5GOPiw13"
      },
      "outputs": [],
      "source": [
        "cont = 0\n",
        "n = 0\n",
        "num = 10\n",
        "print(num)\n",
        "n = n+num\n",
        "cont = cont + 1\n",
        "print(n)\n",
        "num = 20\n",
        "print(num)\n",
        "n = n+num\n",
        "cont = cont + 1\n",
        "print(n)\n",
        "cont = cont + 1\n",
        "print(cont)"
      ]
    },
    {
      "cell_type": "code",
      "source": [
        "a = 6\n",
        "b = 3\n",
        "a /= 2 * b\n",
        "print(a)"
      ],
      "metadata": {
        "id": "vLudAZu5oSHC"
      },
      "execution_count": null,
      "outputs": []
    },
    {
      "cell_type": "code",
      "source": [
        "anything = float(input(\"Digite um número: \"))\n",
        "something = anything ** 2.0\n",
        "print(anything, \"elevado a 2 é\", something)"
      ],
      "metadata": {
        "id": "aTTfkb8uuEOE"
      },
      "execution_count": null,
      "outputs": []
    },
    {
      "cell_type": "code",
      "source": [
        "fnam = input(\"Posso ter seu primeiro nome, por favor? \")\n",
        "lnam = input(\"Posso ter seu sobrenome, por favor? \")\n",
        "print(\"Obrigado!.\")\n",
        "print(\"\\nSeu nome é \" + fnam + \" \" + lnam + \".\")"
      ],
      "metadata": {
        "id": "o7PU_lh8vdJs"
      },
      "execution_count": null,
      "outputs": []
    },
    {
      "cell_type": "code",
      "source": [
        "print(\"+\" + 20 * \"-\" + \"+\")\n",
        "print((\"|\" + \" \" * 20 + \"|\\n\") * 8, end=\"\")\n",
        "print(\"+\" + 20 * \"-\" + \"+\")"
      ],
      "metadata": {
        "id": "7BgH2sV41vX5"
      },
      "execution_count": null,
      "outputs": []
    },
    {
      "cell_type": "code",
      "source": [
        "nome = input(\"Digite seu Nome: \")\n",
        "print(nome)"
      ],
      "metadata": {
        "id": "uLbQrcjp3UBZ"
      },
      "execution_count": null,
      "outputs": []
    },
    {
      "cell_type": "code",
      "source": [
        "name = input(\"Digite seu nome: \")\n",
        "print(\"Olá, \" + name + \". Prazer em conhecê-lo!\")"
      ],
      "metadata": {
        "id": "BTXW9v4B95Vo"
      },
      "execution_count": null,
      "outputs": []
    },
    {
      "cell_type": "code",
      "source": [
        "name = input(\"Digite seu nome: \")\n",
        "print(\"Olá, \" + name + \". Prazer em conhecê-lo!\")\n",
        "\n",
        "print(\"\\nPressione Enter para finalizar o programa.\")\n",
        "input()\n",
        "print(\"O FIM.\")"
      ],
      "metadata": {
        "id": "Ai37IyEF-Bz_"
      },
      "execution_count": null,
      "outputs": []
    },
    {
      "cell_type": "code",
      "source": [
        "idade = int(input('Qual sua Idade ? '))\n",
        "print(\"Sua idade é:\", idade)"
      ],
      "metadata": {
        "colab": {
          "base_uri": "https://localhost:8080/"
        },
        "id": "n8Lq8c0134fR",
        "outputId": "a0047aa3-0f85-4ba0-a16e-6c252e01d32b"
      },
      "execution_count": 33,
      "outputs": [
        {
          "output_type": "stream",
          "name": "stdout",
          "text": [
            "Qual sua Idade ? 38\n",
            "Sua idade é: 38\n"
          ]
        }
      ]
    },
    {
      "cell_type": "code",
      "source": [
        "salario = float(input('Qual é Seu Salario ?'))\n",
        "print(\"Seu salario é:\", salario )"
      ],
      "metadata": {
        "id": "JNAhZLMr4a3E"
      },
      "execution_count": null,
      "outputs": []
    },
    {
      "cell_type": "code",
      "source": [
        "#\"James\" * 3 gera \"James,James,James\"\n",
        "\"James,\" * 3\n"
      ],
      "metadata": {
        "id": "C2hU_H7x7Dhh"
      },
      "execution_count": null,
      "outputs": []
    },
    {
      "cell_type": "code",
      "source": [
        "curso = 'Python'\n",
        "n = curso*4\n",
        "print(curso * 3)"
      ],
      "metadata": {
        "id": "zZIk_jCy8K39"
      },
      "execution_count": null,
      "outputs": []
    },
    {
      "cell_type": "code",
      "source": [
        "num_1 = input(\"Digite o primeiro número: \")\n",
        "num_2 = input(\"Digite o segundo número: \")\n",
        "\n",
        "print(num_1 + num_2)"
      ],
      "metadata": {
        "id": "zSwQjwIG-NEV"
      },
      "execution_count": null,
      "outputs": []
    },
    {
      "cell_type": "code",
      "source": [
        "x = int(input(\"Digite um número: \"))\n",
        "print(x * \"5\")"
      ],
      "metadata": {
        "colab": {
          "base_uri": "https://localhost:8080/"
        },
        "id": "Q-BgugZq-RAZ",
        "outputId": "30746731-8b5f-4903-ae61-b0da2949e988"
      },
      "execution_count": 55,
      "outputs": [
        {
          "output_type": "stream",
          "name": "stdout",
          "text": [
            "Digite um número: 3\n",
            "555\n"
          ]
        }
      ]
    }
  ]
}