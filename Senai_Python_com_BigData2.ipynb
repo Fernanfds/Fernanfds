{
  "nbformat": 4,
  "nbformat_minor": 0,
  "metadata": {
    "colab": {
      "provenance": [],
      "authorship_tag": "ABX9TyN5CCRShB2sjvLZIPtFHPMo",
      "include_colab_link": true
    },
    "kernelspec": {
      "name": "python3",
      "display_name": "Python 3"
    },
    "language_info": {
      "name": "python"
    }
  },
  "cells": [
    {
      "cell_type": "markdown",
      "metadata": {
        "id": "view-in-github",
        "colab_type": "text"
      },
      "source": [
        "<a href=\"https://colab.research.google.com/github/Fernanfds/Fernanfds/blob/main/Senai_Python_com_BigData2.ipynb\" target=\"_parent\"><img src=\"https://colab.research.google.com/assets/colab-badge.svg\" alt=\"Open In Colab\"/></a>"
      ]
    },
    {
      "cell_type": "code",
      "source": [
        "import pandas as pd\n",
        "data = {\n",
        "    'nome' : ['Joao', 'Maria', 'Pedro', 'Ana', 'Carlos'],\n",
        "    'idade' : [25, 30, 35, 40, 45],\n",
        "    'cidade' : ['São Paulo', 'Rio de Janeiro', 'Belo Horizonte', 'Curitiba', 'Porto Alegre'],\n",
        "    'salario' : [5000.00, 6000.00, 7000.00, 8000.00, 9000.00]\n",
        "}\n",
        "\n",
        "df = pd.DataFrame(data)\n",
        "print(df)"
      ],
      "metadata": {
        "colab": {
          "base_uri": "https://localhost:8080/"
        },
        "id": "kbRgqRJPO69B",
        "outputId": "fb1c5636-6a9c-43cd-b308-37b867df107c"
      },
      "execution_count": 4,
      "outputs": [
        {
          "output_type": "stream",
          "name": "stdout",
          "text": [
            "     nome  idade          cidade  salario\n",
            "0    Joao     25       São Paulo   5000.0\n",
            "1   Maria     30  Rio de Janeiro   6000.0\n",
            "2   Pedro     35  Belo Horizonte   7000.0\n",
            "3     Ana     40        Curitiba   8000.0\n",
            "4  Carlos     45    Porto Alegre   9000.0\n"
          ]
        }
      ]
    },
    {
      "cell_type": "code",
      "execution_count": 5,
      "metadata": {
        "colab": {
          "base_uri": "https://localhost:8080/"
        },
        "id": "ItfKraxfNeRY",
        "outputId": "308a07ce-24ca-4414-8bcc-c865e6efa03f"
      },
      "outputs": [
        {
          "output_type": "stream",
          "name": "stdout",
          "text": [
            "     nome  idade\n",
            "0    joão     25\n",
            "1   Maria     30\n",
            "2  Carlos     35\n",
            "3     Ana     40\n",
            "4   Pedro     45\n",
            "5   Julia     50\n"
          ]
        }
      ],
      "source": [
        "dados1 = {\n",
        "    'nome' : ['joão', 'Maria'],\n",
        "    'idade' : [25, 30],\n",
        "}\n",
        "\n",
        "dados2= {\n",
        "    'nome' : ['Carlos', 'Ana'],\n",
        "    'idade' : [35, 40],\n",
        "\n",
        "}\n",
        "\n",
        "dados3  = {\n",
        "    'nome' : ['Pedro', 'Julia'],\n",
        "    'idade' : [45, 50],\n",
        "}\n",
        "\n",
        "df = pd.concat ([pd.DataFrame(dados1),\n",
        "                pd.DataFrame(dados2),\n",
        "                pd.DataFrame(dados3)],\n",
        "                ignore_index=True)\n",
        "\n",
        "df= df.sort_values(by='nome')\n",
        "df = df.reset_index()\n",
        "df.drop('index')\n",
        "print(df)"
      ]
    },
    {
      "cell_type": "code",
      "source": [
        "data4 = {\n",
        "    'ID' : [1, 2, 3, 4],\n",
        "    'nome' : ['Joao', 'Maria', 'josé', 'Pedro'],\n",
        "\n",
        "}\n",
        "data4 = pd.DataFrame(data4)\n",
        "\n",
        "data5 = {\n",
        "    'ID' : [3, 4, 5, 6],\n",
        "    'cargo' : ['Advogado', 'Médico', 'Engenheiro', 'Professor'],\n",
        "}\n",
        "\n",
        "data5 = pd.DataFrame(data5)\n",
        "\n",
        "df = pd.merge(data4, data5, on='ID', how='right')\n",
        "\n",
        "print(df)"
      ],
      "metadata": {
        "colab": {
          "base_uri": "https://localhost:8080/"
        },
        "id": "oz6xXH60Pjtu",
        "outputId": "e8fc3fb9-add9-4e81-cb9b-56861f084464"
      },
      "execution_count": 9,
      "outputs": [
        {
          "output_type": "stream",
          "name": "stdout",
          "text": [
            "   ID   nome       cargo\n",
            "0   3   josé    Advogado\n",
            "1   4  Pedro      Médico\n",
            "2   5    NaN  Engenheiro\n",
            "3   6    NaN   Professor\n"
          ]
        }
      ]
    },
    {
      "cell_type": "code",
      "source": [
        "import pandas as pd\n",
        "\n",
        "df = pd.read_csv('Pasta1.csv', sep=';', encoding='utf-8')\n",
        "\n",
        "print(df)\n"
      ],
      "metadata": {
        "colab": {
          "base_uri": "https://localhost:8080/"
        },
        "id": "xyJ79_j9TLjN",
        "outputId": "e20c52b7-0ab0-4fb6-9faa-91b751202c90"
      },
      "execution_count": 21,
      "outputs": [
        {
          "output_type": "stream",
          "name": "stdout",
          "text": [
            "   A   B   C   D  Unnamed: 4\n",
            "0   1   2   3  4         NaN\n"
          ]
        }
      ]
    },
    {
      "cell_type": "code",
      "source": [
        "df1 = pd.read_excel('Pasta1.xlsx', sheet_name='Planilha2')\n",
        "print(df)\n"
      ],
      "metadata": {
        "colab": {
          "base_uri": "https://localhost:8080/"
        },
        "id": "v0Of2ZAOUEl7",
        "outputId": "7e9fe204-2a3d-43d2-be76-bc0507ba0e35"
      },
      "execution_count": 23,
      "outputs": [
        {
          "output_type": "stream",
          "name": "stdout",
          "text": [
            "   A   B   C   D  Unnamed: 4\n",
            "0   1   2   3  4         NaN\n"
          ]
        }
      ]
    }
  ]
}