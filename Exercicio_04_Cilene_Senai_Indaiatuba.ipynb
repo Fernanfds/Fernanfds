{
  "nbformat": 4,
  "nbformat_minor": 0,
  "metadata": {
    "colab": {
      "provenance": [],
      "authorship_tag": "ABX9TyN/5wWy0qBjdlK7WFtzwxe2",
      "include_colab_link": true
    },
    "kernelspec": {
      "name": "python3",
      "display_name": "Python 3"
    },
    "language_info": {
      "name": "python"
    }
  },
  "cells": [
    {
      "cell_type": "markdown",
      "metadata": {
        "id": "view-in-github",
        "colab_type": "text"
      },
      "source": [
        "<a href=\"https://colab.research.google.com/github/Fernanfds/Fernanfds/blob/main/Exercicio_04_Cilene_Senai_Indaiatuba.ipynb\" target=\"_parent\"><img src=\"https://colab.research.google.com/assets/colab-badge.svg\" alt=\"Open In Colab\"/></a>"
      ]
    },
    {
      "cell_type": "code",
      "execution_count": 9,
      "metadata": {
        "colab": {
          "base_uri": "https://localhost:8080/"
        },
        "id": "0yDycUmvhrs9",
        "outputId": "aad821ef-e74e-41c2-e0c3-9e86a50b6133"
      },
      "outputs": [
        {
          "output_type": "stream",
          "name": "stdout",
          "text": [
            "Digite um número inteiro: 2\n",
            "[2]\n",
            "Digite um número inteiro: 3\n",
            "[2, 3]\n",
            "Digite um número inteiro: 5\n",
            "[2, 3, 5]\n",
            "Digite um número inteiro: 8\n",
            "[2, 3, 5, 8]\n",
            "Digite um número inteiro: 3\n",
            "[2, 3, 5, 8, 3]\n",
            "Digite um número inteiro: 5\n",
            "[2, 3, 5, 8, 3, 5]\n",
            "Digite um número inteiro: 9\n",
            "[2, 3, 5, 8, 3, 5, 9]\n",
            "Digite um número inteiro: 4\n",
            "[2, 3, 5, 8, 3, 5, 9, 4]\n",
            "Digite um número inteiro: 5\n",
            "[2, 3, 5, 8, 3, 5, 9, 4, 5]\n",
            "Digite um número inteiro: 2\n",
            "[2, 3, 5, 8, 3, 5, 9, 4, 5, 2]\n",
            "Digite um número inteiro: 0\n",
            "Quantidade de números digitados: 10\n",
            "Há 3 números repetidos na lista\n",
            "[2, 3, 5]\n",
            "[2, 3, 5, 8, 3, 5, 9, 4, 5, 2, [2, 3, 5]]\n"
          ]
        }
      ],
      "source": [
        "from collections import Counter\n",
        "soma = 0\n",
        "quantidade = 0\n",
        "nova  = []\n",
        "\n",
        "while True:\n",
        "    n = int(input(\"Digite um número inteiro: \"))\n",
        "    if n == 0:\n",
        "        break\n",
        "    nova.append(n)\n",
        "    print(nova)\n",
        "\n",
        "    soma = soma + n\n",
        "    quantidade = quantidade + 1\n",
        "\n",
        "print(\"Quantidade de números digitados:\", quantidade)\n",
        "contador = Counter(nova)\n",
        "\n",
        "repetidos = [\n",
        "    item for item, quantidade in contador.items()\n",
        "            if quantidade > 1\n",
        "\n",
        "  ]\n",
        "\n",
        "quantidade_repetidos = len(repetidos)\n",
        "\n",
        "print(f'Há {quantidade_repetidos} números repetidos na lista')\n",
        "nova.append(repetidos)\n",
        "repetidos = sorted(repetidos)\n",
        "print(repetidos)\n",
        "print(nova)\n"
      ]
    }
  ]
}