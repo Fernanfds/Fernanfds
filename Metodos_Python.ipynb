{
  "cells": [
    {
      "cell_type": "markdown",
      "metadata": {
        "id": "view-in-github",
        "colab_type": "text"
      },
      "source": [
        "<a href=\"https://colab.research.google.com/github/Fernanfds/Fernanfds/blob/main/Metodos_Python.ipynb\" target=\"_parent\"><img src=\"https://colab.research.google.com/assets/colab-badge.svg\" alt=\"Open In Colab\"/></a>"
      ]
    },
    {
      "cell_type": "code",
      "source": [
        "frase1 = \"Eu amo comer amoras no café da manhã\"\n",
        "lista_termos1 = frase1.split()\n",
        "print(lista_termos1)\n",
        "\n",
        "frase2 = \"Amora Abacaxi Abacate Banana\"\n",
        "lista_termos2 = frase2.split()\n",
        "print(lista_termos2)\n",
        "\n",
        "frase3 = \"Carro,Moto,Avião\"\n",
        "lista_termos3 = frase3.split(',')\n",
        "print(lista_termos3)"
      ],
      "metadata": {
        "colab": {
          "base_uri": "https://localhost:8080/"
        },
        "id": "5GYgz1VEU54Z",
        "outputId": "c3519ced-1031-4ed1-bc99-d7d8004f55b5"
      },
      "execution_count": 4,
      "outputs": [
        {
          "output_type": "stream",
          "name": "stdout",
          "text": [
            "['Eu', 'amo', 'comer', 'amoras', 'no', 'café', 'da', 'manhã']\n",
            "['Amora', 'Abacaxi', 'Abacate', 'Banana']\n",
            "['Carro', 'Moto', 'Avião']\n"
          ]
        }
      ]
    },
    {
      "cell_type": "code",
      "source": [
        "frase = \"Eu amo comer amoras no café da manhã\"\n",
        "print(\"Contagem direta: \", frase.count('amo'))\n",
        "\n",
        "contador = 0\n",
        "lista_termos =frase.split()\n",
        "for termo in lista_termos:\n",
        "    if termo == 'amo':\n",
        "      contador += 1\n",
        "#print(\"contagem correta: \", contador)\n",
        "#print(\"contagem direta: \", frase.count('amo'))\n"
      ],
      "metadata": {
        "colab": {
          "base_uri": "https://localhost:8080/"
        },
        "id": "1ok8XhmeW0sV",
        "outputId": "a3173ef9-a898-46ef-8040-736509409e84"
      },
      "execution_count": 7,
      "outputs": [
        {
          "output_type": "stream",
          "name": "stdout",
          "text": [
            "Contagem direta:  2\n",
            "contagem direta:  2\n"
          ]
        }
      ]
    },
    {
      "cell_type": "code",
      "source": [
        "minha_lista = ['Arroz', 'Feijão', 'Macarrão']\n",
        "\n",
        "texto1 = ','.join(minha_lista)\n",
        "with open('texto1.txt', 'w') as arquivo:\n",
        "    arquivo.write(texto1)\n",
        "\n",
        "texto2 = '\\n'.join(minha_lista)\n",
        "with open('texto2.txt', 'w') as arquivo:\n",
        "    arquivo.write(texto2)"
      ],
      "metadata": {
        "id": "K6iSoL6IZ7qV"
      },
      "execution_count": 13,
      "outputs": []
    },
    {
      "cell_type": "code",
      "source": [
        "nome = \"joão\"\n",
        "\n",
        "minha_string = \"Olá, \" + nome + \".\"\n",
        "minha_string1 = f\"Olá, {nome}.\"\n",
        "minha_string2 = f\"Olá, {nome.upper()}.\"\n",
        "minha_string3 = f\"Quantos Anos voce tem? {10 + 8}.\"\n",
        "minha_string4 = f\"O numero 2 é Maior que o numero 1? {2 > 1}\"\n",
        "minha_string5 = f\"O numero 2 Esta contido na lista [4, 5, 6]? {2 in [4, 5, 6]}\"\n",
        "\n",
        "print(minha_string)\n",
        "print(minha_string1)\n",
        "print(minha_string2)\n",
        "print(minha_string3)\n",
        "print(minha_string4)\n",
        "print(minha_string5)\n"
      ],
      "metadata": {
        "colab": {
          "base_uri": "https://localhost:8080/"
        },
        "id": "a_DNqy8Hd49P",
        "outputId": "5b4d4914-e159-49d3-ebf8-bdb43008a40b"
      },
      "execution_count": 17,
      "outputs": [
        {
          "output_type": "stream",
          "name": "stdout",
          "text": [
            "Olá, joão.\n",
            "Olá, joão.\n",
            "Olá, JOÃO.\n",
            "Quantos Anos voce tem? 18.\n",
            "O numero 2 é Maior que o numero 1? True\n",
            "O numero 2 Esta contido na lista [4, 5, 6]? False\n"
          ]
        }
      ]
    },
    {
      "cell_type": "code",
      "source": [
        "from datetime import datetime\n",
        "\n",
        "frutas = ['Jaboticaba', 'Laranja', 'Uva', 'Banana']\n",
        "for fruta in frutas:\n",
        "  minha_fruta = f\"Nome: {fruta:12} - Numero de letras: {len(fruta): 3}\"\n",
        "  print(minha_fruta)\n",
        "\n",
        "print()\n",
        "\n",
        "pi = 3.1415\n",
        "meu_numero = f'O umero PI é: {pi:.1f}'\n",
        "meu_numero_deslocado = f'O numero PI deslocado é: {pi:6.1f}'\n",
        "meu_numero_preciso = f'O numero PI mais preciso é: {pi:.4f}'\n",
        "print(meu_numero)\n",
        "print(meu_numero_deslocado)\n",
        "print(meu_numero_preciso)\n",
        "\n",
        "print()\n",
        "\n",
        "data = datetime.now()\n",
        "minha_data = f'A data de hoje é {data}'\n",
        "minha_data_formatada = f'A data de hoje formatada é {data:%d/%m/%y}'\n",
        "print(minha_data)\n",
        "print(minha_data_formatada)"
      ],
      "metadata": {
        "colab": {
          "base_uri": "https://localhost:8080/"
        },
        "id": "rs9RXkmOhTho",
        "outputId": "4580bfbe-fc3b-4e8a-8e5b-05fa9142e875"
      },
      "execution_count": 20,
      "outputs": [
        {
          "output_type": "stream",
          "name": "stdout",
          "text": [
            "Nome: Jaboticaba   - Numero de letras:  10\n",
            "Nome: Laranja      - Numero de letras:   7\n",
            "Nome: Uva          - Numero de letras:   3\n",
            "Nome: Banana       - Numero de letras:   6\n",
            "\n",
            "O umero PI é: 3.1\n",
            "O numero PI deslocado é:    3.1\n",
            "O numero PI mais preciso é: 3.1415\n",
            "\n",
            "A data de hoje é 2024-02-12 18:23:46.165698\n",
            "A data de hoje formatada é 12/02/24\n"
          ]
        }
      ]
    }
  ],
  "metadata": {
    "colab": {
      "provenance": [],
      "authorship_tag": "ABX9TyO0MNq01Dt6MttQ5zkvxF1G",
      "include_colab_link": true
    },
    "kernelspec": {
      "display_name": "Python 3",
      "name": "python3"
    },
    "language_info": {
      "name": "python"
    }
  },
  "nbformat": 4,
  "nbformat_minor": 0
}