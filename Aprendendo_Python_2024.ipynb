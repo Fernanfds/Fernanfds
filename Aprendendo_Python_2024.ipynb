{
  "cells": [
    {
      "cell_type": "markdown",
      "metadata": {
        "id": "view-in-github",
        "colab_type": "text"
      },
      "source": [
        "<a href=\"https://colab.research.google.com/github/Fernanfds/Fernanfds/blob/main/Aprendendo_Python_2024.ipynb\" target=\"_parent\"><img src=\"https://colab.research.google.com/assets/colab-badge.svg\" alt=\"Open In Colab\"/></a>"
      ]
    },
    {
      "cell_type": "code",
      "execution_count": null,
      "metadata": {
        "id": "vxVlIo5_Ssd6"
      },
      "outputs": [],
      "source": [
        "cardapio = [\"frango a kiev\",\n",
        "            \"filet grelhado\",\n",
        "            \"bolinho de bacalhau\",\n",
        "            \"batata frita\",\n",
        "            \"camarão\",\n",
        "            \"bife\"]\n",
        "item = cardapio.pop(0)\n",
        "\n",
        "while item != \"camarão\":\n",
        "  print(\"Esse item não é camarão! cadê o camarão?\")\n",
        "  item = cardapio.pop(0)\n",
        "  print(\"Até que enfim, camarãoooooo !\")"
      ]
    },
    {
      "cell_type": "code",
      "execution_count": null,
      "metadata": {
        "id": "ieoq7i2xVq7X"
      },
      "outputs": [],
      "source": [
        "from random import randint"
      ]
    },
    {
      "cell_type": "code",
      "execution_count": null,
      "metadata": {
        "id": "Ov80dWWJV5EE"
      },
      "outputs": [],
      "source": [
        "cartas = 0\n",
        "\n",
        "while cartas < 21:\n",
        "  cartas += randint(1,10)\n",
        "  print(\"Voce tem \" + str(cartas) + \"pontos\")"
      ]
    },
    {
      "cell_type": "code",
      "execution_count": null,
      "metadata": {
        "colab": {
          "background_save": true
        },
        "id": "_XrJdzHeXHW1"
      },
      "outputs": [],
      "source": [
        "primeira_lista = [\"let's Fer\", 4,2,1, False]\n",
        "print(primeira_lista)\n",
        "print()\n",
        "\n",
        "if 2 in primeira_lista:print(\"Sim, 2 está em lista\")\n",
        "print()\n",
        "\n",
        "primeira_lista.append(\"Aprendendo\")\n",
        "print(primeira_lista)\n",
        "print()\n",
        "\n",
        "insert(6, \"Finalizei por hoje\")\n",
        "\n",
        "\n"
      ]
    },
    {
      "cell_type": "code",
      "source": [
        "for i in range(7):\n",
        "  print(\"Gol da Alemanha\")\n",
        "\n",
        "print(\"Gol do Brasil\")"
      ],
      "metadata": {
        "id": "bjFHO9SZqkv9"
      },
      "execution_count": null,
      "outputs": []
    },
    {
      "cell_type": "code",
      "source": [
        "import math\n"
      ],
      "metadata": {
        "id": "zhn314y_wuQY"
      },
      "execution_count": null,
      "outputs": []
    },
    {
      "cell_type": "code",
      "source": [
        "num = int(input(\"Digite por favor um numero: \"))\n",
        "raiz = math.sqrt(num)\n",
        "print('A raiz de {} é igual a {:.2f}'.format(num,raiz))\n"
      ],
      "metadata": {
        "colab": {
          "base_uri": "https://localhost:8080/"
        },
        "id": "gfXgf7JKwwrH",
        "outputId": "3949e4a8-f4f4-4f12-ddcd-1b7aacc66e99"
      },
      "execution_count": null,
      "outputs": [
        {
          "output_type": "stream",
          "name": "stdout",
          "text": [
            "Digite por favor um numero: 230\n",
            "A raiz de 230 é igual a 15.17\n"
          ]
        }
      ]
    },
    {
      "cell_type": "code",
      "source": [
        "frase = \"Curso em Video Python\"\n",
        "print(frase.split())"
      ],
      "metadata": {
        "id": "TE1jx3kryl95",
        "outputId": "142a8b90-bd08-49b2-e0cc-3e72d471671f",
        "colab": {
          "base_uri": "https://localhost:8080/"
        }
      },
      "execution_count": null,
      "outputs": [
        {
          "output_type": "stream",
          "name": "stdout",
          "text": [
            "['Curso', 'em', 'Video', 'Python']\n"
          ]
        }
      ]
    },
    {
      "cell_type": "code",
      "source": [
        "tempo = int(input(\"Quantos Anos tem Seu Carro? \"))\n",
        "if tempo <= 3 :\n",
        "  print(\"Carro Novo Hein!\")\n",
        "\n",
        "else:\n",
        "  print(\"Carro Bem Usadinho Hein!\")\n",
        "\n",
        "print(\"--FIM!--\")"
      ],
      "metadata": {
        "colab": {
          "base_uri": "https://localhost:8080/"
        },
        "id": "pA6acAf_60mO",
        "outputId": "a84ac006-0a1f-4665-ddb1-b343f1c1d2be"
      },
      "execution_count": null,
      "outputs": [
        {
          "output_type": "stream",
          "name": "stdout",
          "text": [
            "Quantos Anos tem Seu Carro? 23\n",
            "Carro bem Usadinho Hein!\n",
            "--FIM!--\n"
          ]
        }
      ]
    },
    {
      "cell_type": "code",
      "source": [
        "nome = str(input(\"Qual é seu Nome ?\"))\n",
        "if nome == 'Fernando' :\n",
        "  print('Que nome Lindo você tem !')\n",
        "else:\n",
        "  print('Seu nome é tão Normal.')\n",
        "print(\"-- FIM!--\")\n"
      ],
      "metadata": {
        "colab": {
          "base_uri": "https://localhost:8080/"
        },
        "id": "hIC2ZVhq7X4U",
        "outputId": "d857e6e4-a1d9-4e69-b750-94cfd86fc1c7"
      },
      "execution_count": null,
      "outputs": [
        {
          "output_type": "stream",
          "name": "stdout",
          "text": [
            "Qual é seu Nome ?Fernando\n",
            "Que nome Lindo você tem !\n",
            "-- FIM!--\n"
          ]
        }
      ]
    },
    {
      "cell_type": "code",
      "source": [
        "n1 = float(input(\"Digite Qual foi Sua Primeira Nota: \"))\n",
        "n2 = float(input(\"Digite Sua Segunda Nota: \"))\n",
        "m = (n1 + n2) /2\n",
        "print(\"A sua Media foi {:.1f}\".format(m))\n",
        "if m >= 6.0:\n",
        "  print(\"Sua Media foi Boa! PARABENS! \")\n",
        "else:\n",
        "  print(\"Sua Media foi ruim, ESTUDE MAIS! \")"
      ],
      "metadata": {
        "colab": {
          "base_uri": "https://localhost:8080/"
        },
        "id": "SJYXMXvS8l4S",
        "outputId": "dcaa3024-6a37-4cd3-a6bf-855a5fb65708"
      },
      "execution_count": null,
      "outputs": [
        {
          "output_type": "stream",
          "name": "stdout",
          "text": [
            "Digite Qual foi Sua Primeira Nota: 4\n",
            "Digite Sua Segunda Nota: 5\n",
            "A sua Media foi 4.5\n",
            "Sua Media foi ruim, ESTUDE MAIS! \n"
          ]
        }
      ]
    },
    {
      "cell_type": "code",
      "source": [
        "n1 = int(input(\"Digite um Valor: \"))\n",
        "n2 = int(input(\"Digite outro Valor: \"))\n",
        "s = n1 + n2\n",
        "m = n1 * n2\n",
        "d = n1 / n2\n",
        "di = n1 // n2\n",
        "e = n1 ** n2\n",
        "print(\"A soma é {}, o produto é {} e a Divisão é {:.3f}\".format(s, m, d), end=\" \")\n",
        "print(\"A divisão inteira {} e a potencia {:.3f}\".format(di, e))"
      ],
      "metadata": {
        "colab": {
          "base_uri": "https://localhost:8080/"
        },
        "id": "aelyvykLUTlj",
        "outputId": "74ee963f-af6e-4564-d813-b738b12bad00"
      },
      "execution_count": 5,
      "outputs": [
        {
          "output_type": "stream",
          "name": "stdout",
          "text": [
            "Digite um Valor: 2\n",
            "Digite outro Valor: 5\n",
            "A soma é 7, o produto é 10 e a Divisão é 0.400 A divisão inteira 0 e a potencia 32.000\n"
          ]
        }
      ]
    },
    {
      "cell_type": "code",
      "source": [
        "num = int(input(\"Digite um Numero Inteiro: \"))\n",
        "print(\"Analisando seu Numero: {}, seu antecessor é {}, e o sucessor é {}\".format(num, (num-1), (num+1)))"
      ],
      "metadata": {
        "id": "8nglJ2VPV8aF"
      },
      "execution_count": null,
      "outputs": []
    },
    {
      "cell_type": "code",
      "source": [
        "i = int(input('Inicio: '))\n",
        "f = int(input('Fim: '))\n",
        "p = int(input('Passo: '))\n",
        "for c in range(i, f+1, p):\n",
        "    print(c)\n",
        "print('Fim.')\n"
      ],
      "metadata": {
        "id": "R8_R_FO1ca8Y"
      },
      "execution_count": null,
      "outputs": []
    },
    {
      "cell_type": "code",
      "source": [
        "s = 0\n",
        "for c in range(0, 4):\n",
        "    n = int(input('Digite um valor: '))\n",
        "    s += n\n",
        "print('A somatoria de todos os valores é {}'. format(s))"
      ],
      "metadata": {
        "colab": {
          "base_uri": "https://localhost:8080/"
        },
        "id": "tdLzrrwWh_kh",
        "outputId": "27073a8d-099f-493c-ccab-4f6829a0754c"
      },
      "execution_count": 12,
      "outputs": [
        {
          "output_type": "stream",
          "name": "stdout",
          "text": [
            "Digite um valor: 23\n",
            "Digite um valor: 10\n",
            "Digite um valor: 3\n",
            "Digite um valor: 1\n",
            "A somatoria de todos os valores é 37\n"
          ]
        }
      ]
    }
  ],
  "metadata": {
    "colab": {
      "provenance": [],
      "authorship_tag": "ABX9TyMDjzEcxk6ztb9Q7m++dVHa",
      "include_colab_link": true
    },
    "kernelspec": {
      "display_name": "Python 3",
      "name": "python3"
    },
    "language_info": {
      "name": "python"
    }
  },
  "nbformat": 4,
  "nbformat_minor": 0
}