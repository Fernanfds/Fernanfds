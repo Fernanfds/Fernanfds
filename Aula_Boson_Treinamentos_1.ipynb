{
  "nbformat": 4,
  "nbformat_minor": 0,
  "metadata": {
    "colab": {
      "provenance": [],
      "authorship_tag": "ABX9TyMZ4CoXt7k+OSJ0HgJILcJB",
      "include_colab_link": true
    },
    "kernelspec": {
      "name": "python3",
      "display_name": "Python 3"
    },
    "language_info": {
      "name": "python"
    }
  },
  "cells": [
    {
      "cell_type": "markdown",
      "metadata": {
        "id": "view-in-github",
        "colab_type": "text"
      },
      "source": [
        "<a href=\"https://colab.research.google.com/github/Fernanfds/Fernanfds/blob/main/Aula_Boson_Treinamentos_1.ipynb\" target=\"_parent\"><img src=\"https://colab.research.google.com/assets/colab-badge.svg\" alt=\"Open In Colab\"/></a>"
      ]
    },
    {
      "cell_type": "code",
      "execution_count": null,
      "metadata": {
        "id": "omkjZ6moKRau"
      },
      "outputs": [],
      "source": [
        "elemento = {\n",
        "    'Z': 3,\n",
        "    'nome': 'Lítio',\n",
        "    'grupo': 'Metais Alcalinos',\n",
        "    'densidade': 0.534\n",
        "}\n",
        "\n",
        "print(f'Elemento: {elemento [\"nome\"]}')\n",
        "print(f'Elemento: {elemento [\"Z\"]}')\n",
        "print(f'Elemento: {elemento [\"densidade\"]}')\n",
        "print(f'Elemento: {elemento [\"grupo\"]}')\n",
        "print(f'O dicionario possui {len(elemento)} elementos.')\n",
        "\n",
        "# Alterar uma Entrada\n",
        "\n",
        "elemento['grupo'] = 'Alcalinos'\n",
        "print(elemento)\n",
        "\n",
        "# Adicionar uma Entrada\n",
        "\n",
        "elemento['periodo'] = 1\n",
        "print(elemento)\n",
        "\n",
        "# Excluir Itens em Dicionarios\n",
        "\n",
        "del elemento['periodo']\n",
        "print(elemento)\n",
        "\n",
        "# Deletar o conteudo do Dicionario\n",
        "\n",
        "elemento.clear()\n",
        "print(elemento)\n",
        "\n",
        "\n",
        "\n",
        "\n"
      ]
    },
    {
      "cell_type": "code",
      "source": [
        "elemento = {\n",
        "    'Z': 3,\n",
        "    'nome': 'Lítio',\n",
        "    'grupo': 'Metais Alcalinos',\n",
        "    'densidade': 0.534\n",
        "}\n",
        "\n",
        "print(elemento.items())\n",
        "for i in elemento.items():\n",
        "    print(i)\n",
        "\n",
        "print(elemento.keys())\n",
        "for i in elemento.keys():\n",
        "    print(i)\n",
        "\n",
        "print(elemento.values())\n",
        "for i in elemento.values():\n",
        "    print(i)\n",
        "\n",
        "for i, j in elemento.items():\n",
        "    print(f'{i}: {j}')"
      ],
      "metadata": {
        "id": "_vOvrGvjM30t"
      },
      "execution_count": null,
      "outputs": []
    },
    {
      "cell_type": "markdown",
      "source": [
        "Sets Exemplos:"
      ],
      "metadata": {
        "id": "u1rcnadPPLkC"
      }
    },
    {
      "cell_type": "code",
      "source": [
        "planeta_anao = {'Plutão', 'Ceres', 'Eris', 'Haumea', 'Makemake'}\n",
        "print(len(planeta_anao))\n",
        "print('Ceres' in planeta_anao)\n",
        "print('Lua' not in planeta_anao)\n"
      ],
      "metadata": {
        "id": "1sSfP98iPPpi"
      },
      "execution_count": null,
      "outputs": []
    },
    {
      "cell_type": "code",
      "source": [
        "planeta_anao = {'Plutão', 'Ceres', 'Eris', 'Haumea', 'Makemake'}\n",
        "\n",
        "for astro in planeta_anao:\n",
        "    print(astro.upper())"
      ],
      "metadata": {
        "id": "-RI7yKCxQlKi"
      },
      "execution_count": null,
      "outputs": []
    },
    {
      "cell_type": "code",
      "source": [
        "astros = ['Lua', 'Vênus', 'Sirius', 'Marte', 'Lua']\n",
        "print(astros, end= ' ')\n",
        "astro_set = set(astros)\n",
        "print(astro_set)"
      ],
      "metadata": {
        "id": "gky3rCqtQ4DT"
      },
      "execution_count": null,
      "outputs": []
    },
    {
      "cell_type": "code",
      "source": [
        "astros1 = {'Lua', 'Vênus', 'Sirius', 'Marte'}\n",
        "astros2 = {'Lua', 'Vênus', 'Sirius', 'Marte', 'Cometa de Halley'}\n",
        "print(astros1 & astros2)\n",
        "print(astros1.symmetric_difference(astros2))\n",
        "\n",
        "astros1.add('Urano')\n",
        "astros1.add('Sol')\n",
        "astros1.remove('Lua')\n",
        "astros1.pop()\n",
        "print(astros1)"
      ],
      "metadata": {
        "id": "FToLEpUYRnPN"
      },
      "execution_count": null,
      "outputs": []
    },
    {
      "cell_type": "markdown",
      "source": [
        "Funcões Python"
      ],
      "metadata": {
        "id": "BisH4xpcaWbY"
      }
    },
    {
      "cell_type": "code",
      "source": [
        "def mensagem():\n",
        "    print('Bóson Treinamentos em Técnologia')\n",
        "    print('Curso Completo de Python')\n",
        "mensagem()"
      ],
      "metadata": {
        "id": "_HgnNW2QaZj2"
      },
      "execution_count": null,
      "outputs": []
    },
    {
      "cell_type": "code",
      "source": [
        "def soma(a, b):\n",
        "    print(a+b)\n",
        "\n",
        "soma (12, 7)"
      ],
      "metadata": {
        "id": "tsNEjeipb2cs"
      },
      "execution_count": null,
      "outputs": []
    },
    {
      "cell_type": "code",
      "source": [
        "def mult(x, y):\n",
        "    return x * y\n",
        "a = 5\n",
        "b = 8\n",
        "c = mult(a, b)\n",
        "print(f'O produto de {a} e {b} é Igual:  {c}')\n"
      ],
      "metadata": {
        "id": "mq2SahZucaJJ"
      },
      "execution_count": null,
      "outputs": []
    }
  ]
}