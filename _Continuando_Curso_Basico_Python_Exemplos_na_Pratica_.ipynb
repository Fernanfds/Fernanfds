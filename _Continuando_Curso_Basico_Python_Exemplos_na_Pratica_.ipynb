{
  "nbformat": 4,
  "nbformat_minor": 0,
  "metadata": {
    "colab": {
      "provenance": [],
      "authorship_tag": "ABX9TyOBzYU+bTFQSGD3Tb+qVW0y",
      "include_colab_link": true
    },
    "kernelspec": {
      "name": "python3",
      "display_name": "Python 3"
    },
    "language_info": {
      "name": "python"
    }
  },
  "cells": [
    {
      "cell_type": "markdown",
      "metadata": {
        "id": "view-in-github",
        "colab_type": "text"
      },
      "source": [
        "<a href=\"https://colab.research.google.com/github/Fernanfds/Fernanfds/blob/main/_Continuando_Curso_Basico_Python_Exemplos_na_Pratica_.ipynb\" target=\"_parent\"><img src=\"https://colab.research.google.com/assets/colab-badge.svg\" alt=\"Open In Colab\"/></a>"
      ]
    },
    {
      "cell_type": "markdown",
      "source": [
        "### Olá Mundo!\n"
      ],
      "metadata": {
        "id": "ocPg6kttkg9F"
      }
    },
    {
      "cell_type": "markdown",
      "source": [
        "Nosso Primeiro Comando em Python"
      ],
      "metadata": {
        "id": "M8gEufABkx4P"
      }
    },
    {
      "cell_type": "code",
      "source": [
        "print(\"Olá Mundo\")"
      ],
      "metadata": {
        "colab": {
          "base_uri": "https://localhost:8080/"
        },
        "id": "2m-_uxr8k274",
        "outputId": "36601189-f965-4987-ddb2-6c0ef8276e1b"
      },
      "execution_count": 1,
      "outputs": [
        {
          "output_type": "stream",
          "name": "stdout",
          "text": [
            "Olá Mundo\n"
          ]
        }
      ]
    },
    {
      "cell_type": "markdown",
      "source": [
        "Strings"
      ],
      "metadata": {
        "id": "AFnEWukJlBoe"
      }
    },
    {
      "cell_type": "markdown",
      "source": [
        "Concatenação com Operador +"
      ],
      "metadata": {
        "id": "TeP7vJiqlFU9"
      }
    },
    {
      "cell_type": "code",
      "source": [
        "print(\"Curso\" + \" de  Python\")"
      ],
      "metadata": {
        "colab": {
          "base_uri": "https://localhost:8080/"
        },
        "id": "OCaC8fdOlKRt",
        "outputId": "9849ef38-a2c5-4217-ac73-92e5ce430906"
      },
      "execution_count": 3,
      "outputs": [
        {
          "output_type": "stream",
          "name": "stdout",
          "text": [
            "Curso de  Python\n"
          ]
        }
      ]
    },
    {
      "cell_type": "markdown",
      "source": [
        "Substituindo Valores com; .format()"
      ],
      "metadata": {
        "id": "1N5BzpyGl7LF"
      }
    },
    {
      "cell_type": "code",
      "source": [
        "print(\"Aula {} do curso de {}\".format(1, \"Python\"))"
      ],
      "metadata": {
        "colab": {
          "base_uri": "https://localhost:8080/"
        },
        "id": "_IHJW5TCmBz9",
        "outputId": "65655d82-8cc5-4a15-bd04-418de62b3fee"
      },
      "execution_count": 4,
      "outputs": [
        {
          "output_type": "stream",
          "name": "stdout",
          "text": [
            "Aula 1 do curso de Python\n"
          ]
        }
      ]
    },
    {
      "cell_type": "markdown",
      "source": [
        "Transformando para Minúsculas com;  .lower()"
      ],
      "metadata": {
        "id": "jn15Vy13mbz4"
      }
    },
    {
      "cell_type": "code",
      "source": [
        "print(\"Curso de Python para Iniciantes\".lower())"
      ],
      "metadata": {
        "colab": {
          "base_uri": "https://localhost:8080/"
        },
        "id": "z038ThuTmgM_",
        "outputId": "8b6e899b-03a2-43c9-83ae-7f2eca4b2a74"
      },
      "execution_count": 5,
      "outputs": [
        {
          "output_type": "stream",
          "name": "stdout",
          "text": [
            "curso de python para iniciantes\n"
          ]
        }
      ]
    },
    {
      "cell_type": "markdown",
      "source": [
        "Transformando para Maiúsculas com; .upper()"
      ],
      "metadata": {
        "id": "4TRkpy7-m9iG"
      }
    },
    {
      "cell_type": "code",
      "source": [
        "print(\"Curso de Python para Iniciantes\".upper())"
      ],
      "metadata": {
        "colab": {
          "base_uri": "https://localhost:8080/"
        },
        "id": "ILqeCt7hnYAd",
        "outputId": "4fb06bd2-73f0-410a-c3a3-3aa35386780c"
      },
      "execution_count": 6,
      "outputs": [
        {
          "output_type": "stream",
          "name": "stdout",
          "text": [
            "CURSO DE PYTHON PARA INICIANTES\n"
          ]
        }
      ]
    },
    {
      "cell_type": "markdown",
      "source": [
        "Remover Espaços em Branco com; strip()"
      ],
      "metadata": {
        "id": "TQxTufHtny_-"
      }
    },
    {
      "cell_type": "code",
      "source": [
        "print(\"         Curso de Python para Iniciantes  \".strip())"
      ],
      "metadata": {
        "colab": {
          "base_uri": "https://localhost:8080/"
        },
        "id": "2QqxbaeDoERu",
        "outputId": "00bacf0f-be14-422b-ddcc-536aed8c4bba"
      },
      "execution_count": 7,
      "outputs": [
        {
          "output_type": "stream",
          "name": "stdout",
          "text": [
            "Curso de Python para Iniciantes\n"
          ]
        }
      ]
    },
    {
      "cell_type": "markdown",
      "source": [
        "Tipos de Dados: Utilizando o type"
      ],
      "metadata": {
        "id": "yhRNHFwOoP7O"
      }
    },
    {
      "cell_type": "code",
      "source": [
        "print(type(\"Curso de Python para Iniciantes\"))\n",
        "print(type(3))\n",
        "print(type(3.0))\n",
        "print(type(False))"
      ],
      "metadata": {
        "colab": {
          "base_uri": "https://localhost:8080/"
        },
        "id": "Vr-V4lR7oZpk",
        "outputId": "ae10f909-e363-4222-ed00-e11e6093011f"
      },
      "execution_count": 8,
      "outputs": [
        {
          "output_type": "stream",
          "name": "stdout",
          "text": [
            "<class 'str'>\n",
            "<class 'int'>\n",
            "<class 'float'>\n",
            "<class 'bool'>\n"
          ]
        }
      ]
    },
    {
      "cell_type": "markdown",
      "source": [
        "Tipos Numericos;\n"
      ],
      "metadata": {
        "id": "wiQXXGQXqq_i"
      }
    },
    {
      "cell_type": "code",
      "source": [
        "type(2)"
      ],
      "metadata": {
        "colab": {
          "base_uri": "https://localhost:8080/"
        },
        "id": "qwb44b6YqutH",
        "outputId": "86c9fa22-474d-4732-e016-5f97a9cc32dc"
      },
      "execution_count": 9,
      "outputs": [
        {
          "output_type": "execute_result",
          "data": {
            "text/plain": [
              "int"
            ]
          },
          "metadata": {},
          "execution_count": 9
        }
      ]
    },
    {
      "cell_type": "code",
      "source": [
        "type(2.5)"
      ],
      "metadata": {
        "colab": {
          "base_uri": "https://localhost:8080/"
        },
        "id": "cUpi486Mq3Se",
        "outputId": "3d71a63f-81d9-479e-de23-1a99add7aa76"
      },
      "execution_count": 10,
      "outputs": [
        {
          "output_type": "execute_result",
          "data": {
            "text/plain": [
              "float"
            ]
          },
          "metadata": {},
          "execution_count": 10
        }
      ]
    },
    {
      "cell_type": "markdown",
      "source": [
        "Soma, Subtração, Multiplicação, Divisão;"
      ],
      "metadata": {
        "id": "8kUWTXNSrBbG"
      }
    },
    {
      "cell_type": "code",
      "source": [
        "2 + 2"
      ],
      "metadata": {
        "colab": {
          "base_uri": "https://localhost:8080/"
        },
        "id": "7e9OPFq4rJg_",
        "outputId": "ed6ec8cd-50aa-45ac-bb19-9662e2f38621"
      },
      "execution_count": 11,
      "outputs": [
        {
          "output_type": "execute_result",
          "data": {
            "text/plain": [
              "4"
            ]
          },
          "metadata": {},
          "execution_count": 11
        }
      ]
    },
    {
      "cell_type": "code",
      "source": [
        "10 - 7"
      ],
      "metadata": {
        "colab": {
          "base_uri": "https://localhost:8080/"
        },
        "id": "MAlFUSTJrMuI",
        "outputId": "b9879b23-01b9-4bf9-b62d-d5938fda7ff1"
      },
      "execution_count": 12,
      "outputs": [
        {
          "output_type": "execute_result",
          "data": {
            "text/plain": [
              "3"
            ]
          },
          "metadata": {},
          "execution_count": 12
        }
      ]
    },
    {
      "cell_type": "code",
      "source": [
        "7 * 30"
      ],
      "metadata": {
        "colab": {
          "base_uri": "https://localhost:8080/"
        },
        "id": "hOekApR3rPFv",
        "outputId": "32753e7a-2c9f-48f2-eb65-15d9b4222b3f"
      },
      "execution_count": 13,
      "outputs": [
        {
          "output_type": "execute_result",
          "data": {
            "text/plain": [
              "210"
            ]
          },
          "metadata": {},
          "execution_count": 13
        }
      ]
    },
    {
      "cell_type": "code",
      "source": [
        "250 / 5"
      ],
      "metadata": {
        "colab": {
          "base_uri": "https://localhost:8080/"
        },
        "id": "Id0EJflLrWMt",
        "outputId": "a2fd0e88-e827-4a97-a154-ea2e99ab7b32"
      },
      "execution_count": 14,
      "outputs": [
        {
          "output_type": "execute_result",
          "data": {
            "text/plain": [
              "50.0"
            ]
          },
          "metadata": {},
          "execution_count": 14
        }
      ]
    },
    {
      "cell_type": "markdown",
      "source": [
        "Variaveis:"
      ],
      "metadata": {
        "id": "KQSstqy2rlAt"
      }
    },
    {
      "cell_type": "code",
      "source": [
        "texto = \"Curso de Python para Iniciantes\""
      ],
      "metadata": {
        "id": "txn9x_g8rnMd"
      },
      "execution_count": 15,
      "outputs": []
    },
    {
      "cell_type": "code",
      "source": [
        "texto"
      ],
      "metadata": {
        "colab": {
          "base_uri": "https://localhost:8080/",
          "height": 36
        },
        "id": "WryEYo0qryb_",
        "outputId": "941d679f-bfaf-4778-c195-798064daa459"
      },
      "execution_count": 16,
      "outputs": [
        {
          "output_type": "execute_result",
          "data": {
            "text/plain": [
              "'Curso de Python para Iniciantes'"
            ],
            "application/vnd.google.colaboratory.intrinsic+json": {
              "type": "string"
            }
          },
          "metadata": {},
          "execution_count": 16
        }
      ]
    },
    {
      "cell_type": "code",
      "source": [
        "texto = texto + \" - Aula 02\"\n",
        "texto"
      ],
      "metadata": {
        "colab": {
          "base_uri": "https://localhost:8080/",
          "height": 36
        },
        "id": "DSL7oJiAr1xw",
        "outputId": "3cc626eb-962d-48cf-9053-625197fb61ea"
      },
      "execution_count": 19,
      "outputs": [
        {
          "output_type": "execute_result",
          "data": {
            "text/plain": [
              "'Curso de Python para Iniciantes - Aula 02 - Aula 02'"
            ],
            "application/vnd.google.colaboratory.intrinsic+json": {
              "type": "string"
            }
          },
          "metadata": {},
          "execution_count": 19
        }
      ]
    },
    {
      "cell_type": "markdown",
      "source": [
        "Variaveis Numericas"
      ],
      "metadata": {
        "id": "r9Tm89gEsTH-"
      }
    },
    {
      "cell_type": "code",
      "source": [
        "soma = 0\n",
        "soma"
      ],
      "metadata": {
        "colab": {
          "base_uri": "https://localhost:8080/"
        },
        "id": "CMkkPtbksWrM",
        "outputId": "c4992045-5603-488e-d91a-938da3bd1dc1"
      },
      "execution_count": 20,
      "outputs": [
        {
          "output_type": "execute_result",
          "data": {
            "text/plain": [
              "0"
            ]
          },
          "metadata": {},
          "execution_count": 20
        }
      ]
    },
    {
      "cell_type": "markdown",
      "source": [
        "Incrementando / Decrementando"
      ],
      "metadata": {
        "id": "ihJ63bS_sbNW"
      }
    },
    {
      "cell_type": "code",
      "source": [
        "soma = soma + 1\n",
        "soma"
      ],
      "metadata": {
        "colab": {
          "base_uri": "https://localhost:8080/"
        },
        "id": "9QsHiPUmshXn",
        "outputId": "69f40e6d-86e2-4886-8390-e571ba37a6a5"
      },
      "execution_count": 21,
      "outputs": [
        {
          "output_type": "execute_result",
          "data": {
            "text/plain": [
              "1"
            ]
          },
          "metadata": {},
          "execution_count": 21
        }
      ]
    },
    {
      "cell_type": "code",
      "source": [
        "soma += 1\n",
        "soma"
      ],
      "metadata": {
        "colab": {
          "base_uri": "https://localhost:8080/"
        },
        "id": "JXhxMhJjsmbu",
        "outputId": "cbc09f6a-7b06-4ffe-a875-00c52144a5d7"
      },
      "execution_count": 22,
      "outputs": [
        {
          "output_type": "execute_result",
          "data": {
            "text/plain": [
              "2"
            ]
          },
          "metadata": {},
          "execution_count": 22
        }
      ]
    },
    {
      "cell_type": "code",
      "source": [
        "soma -= 1\n",
        "soma"
      ],
      "metadata": {
        "colab": {
          "base_uri": "https://localhost:8080/"
        },
        "id": "Xl2i7C0lssCp",
        "outputId": "ae20857b-1c9e-45d1-ced0-531b988047cc"
      },
      "execution_count": 23,
      "outputs": [
        {
          "output_type": "execute_result",
          "data": {
            "text/plain": [
              "1"
            ]
          },
          "metadata": {},
          "execution_count": 23
        }
      ]
    },
    {
      "cell_type": "code",
      "source": [
        "soma = soma -1\n",
        "soma"
      ],
      "metadata": {
        "colab": {
          "base_uri": "https://localhost:8080/"
        },
        "id": "ISoZ9S4Dswov",
        "outputId": "61458215-f351-4dc6-8076-5a5745b9a9d5"
      },
      "execution_count": 24,
      "outputs": [
        {
          "output_type": "execute_result",
          "data": {
            "text/plain": [
              "0"
            ]
          },
          "metadata": {},
          "execution_count": 24
        }
      ]
    },
    {
      "cell_type": "markdown",
      "source": [
        "Listas:"
      ],
      "metadata": {
        "id": "JIfzMIbMs1Yy"
      }
    },
    {
      "cell_type": "markdown",
      "source": [
        "Criando e Selecionando Elementos:"
      ],
      "metadata": {
        "id": "6R3l1PjIs-oL"
      }
    },
    {
      "cell_type": "code",
      "source": [
        "frutas = ['maça', 'banana', 'laranja']\n",
        "frutas"
      ],
      "metadata": {
        "colab": {
          "base_uri": "https://localhost:8080/"
        },
        "id": "lp5DDRC2tFJ0",
        "outputId": "3326e524-582d-431f-b28b-2ae5cb72fbcd"
      },
      "execution_count": 25,
      "outputs": [
        {
          "output_type": "execute_result",
          "data": {
            "text/plain": [
              "['maça', 'banana', 'laranja']"
            ]
          },
          "metadata": {},
          "execution_count": 25
        }
      ]
    },
    {
      "cell_type": "code",
      "source": [
        "frutas[2]"
      ],
      "metadata": {
        "colab": {
          "base_uri": "https://localhost:8080/",
          "height": 36
        },
        "id": "cYvHngVhtUAO",
        "outputId": "e019fca3-7598-4f6f-acb3-b014a4221fc2"
      },
      "execution_count": 26,
      "outputs": [
        {
          "output_type": "execute_result",
          "data": {
            "text/plain": [
              "'laranja'"
            ],
            "application/vnd.google.colaboratory.intrinsic+json": {
              "type": "string"
            }
          },
          "metadata": {},
          "execution_count": 26
        }
      ]
    },
    {
      "cell_type": "code",
      "source": [
        "numeros = [1, 2, 3, 4,5]\n",
        "numeros"
      ],
      "metadata": {
        "colab": {
          "base_uri": "https://localhost:8080/"
        },
        "id": "lH0p6WAYEFr8",
        "outputId": "c4cd482e-7315-4bf2-8bdf-26e439e5b4c2"
      },
      "execution_count": 27,
      "outputs": [
        {
          "output_type": "execute_result",
          "data": {
            "text/plain": [
              "[1, 2, 3, 4, 5]"
            ]
          },
          "metadata": {},
          "execution_count": 27
        }
      ]
    },
    {
      "cell_type": "code",
      "source": [
        "lista = ['a', \"b\", 'c', ['Banana', 'Laranja', 'Melão']]\n",
        "\n",
        "lista[2]"
      ],
      "metadata": {
        "colab": {
          "base_uri": "https://localhost:8080/",
          "height": 36
        },
        "id": "ud-_ssjAEK7U",
        "outputId": "d0e523e2-2517-4bf7-f48d-216f19d03f92"
      },
      "execution_count": 40,
      "outputs": [
        {
          "output_type": "execute_result",
          "data": {
            "text/plain": [
              "'c'"
            ],
            "application/vnd.google.colaboratory.intrinsic+json": {
              "type": "string"
            }
          },
          "metadata": {},
          "execution_count": 40
        }
      ]
    },
    {
      "cell_type": "code",
      "source": [
        "lista = ['a', \"b\", 'c', ['Banana', 'Laranja', 'Melão']]\n",
        "\n",
        "lista[:2]"
      ],
      "metadata": {
        "colab": {
          "base_uri": "https://localhost:8080/"
        },
        "id": "Loe8Tp8NHOUH",
        "outputId": "c38c813c-4bc9-4a75-f53a-b359a73be31c"
      },
      "execution_count": 44,
      "outputs": [
        {
          "output_type": "execute_result",
          "data": {
            "text/plain": [
              "['a', 'b']"
            ]
          },
          "metadata": {},
          "execution_count": 44
        }
      ]
    },
    {
      "cell_type": "code",
      "source": [
        "lista[:3]"
      ],
      "metadata": {
        "colab": {
          "base_uri": "https://localhost:8080/"
        },
        "id": "0mASbpfeHDGq",
        "outputId": "8258bc2f-4974-416d-cdaf-0c2180ce4447"
      },
      "execution_count": 43,
      "outputs": [
        {
          "output_type": "execute_result",
          "data": {
            "text/plain": [
              "['a', 'b', 'c']"
            ]
          },
          "metadata": {},
          "execution_count": 43
        }
      ]
    },
    {
      "cell_type": "markdown",
      "source": [
        "Adicionando / Removendo Elementos;"
      ],
      "metadata": {
        "id": "NbUINjo8Hhow"
      }
    },
    {
      "cell_type": "code",
      "source": [
        "frutas.append('Goiaba')\n",
        "frutas"
      ],
      "metadata": {
        "colab": {
          "base_uri": "https://localhost:8080/"
        },
        "id": "oKaEeTR0HZ-3",
        "outputId": "781c105d-994b-4d9f-f23c-094b999c079b"
      },
      "execution_count": 49,
      "outputs": [
        {
          "output_type": "execute_result",
          "data": {
            "text/plain": [
              "['maça', 'laranja', 'Goiaba', 'Goiaba']"
            ]
          },
          "metadata": {},
          "execution_count": 49
        }
      ]
    },
    {
      "cell_type": "code",
      "source": [
        "frutas.pop(1)\n",
        "frutas"
      ],
      "metadata": {
        "colab": {
          "base_uri": "https://localhost:8080/"
        },
        "id": "m-lE51L2HnQe",
        "outputId": "743a2cef-a765-40cc-f44a-77a1e6d6fe3a"
      },
      "execution_count": 53,
      "outputs": [
        {
          "output_type": "execute_result",
          "data": {
            "text/plain": [
              "['Pera', 'Goiaba']"
            ]
          },
          "metadata": {},
          "execution_count": 53
        }
      ]
    },
    {
      "cell_type": "code",
      "source": [
        "frutas[1] = 'Cocô'\n",
        "frutas"
      ],
      "metadata": {
        "colab": {
          "base_uri": "https://localhost:8080/"
        },
        "id": "a-YKlbzRIEFs",
        "outputId": "dcf988f3-f3eb-4fbb-e8cd-f699c48675ce"
      },
      "execution_count": 54,
      "outputs": [
        {
          "output_type": "execute_result",
          "data": {
            "text/plain": [
              "['Pera', 'Cocô']"
            ]
          },
          "metadata": {},
          "execution_count": 54
        }
      ]
    },
    {
      "cell_type": "markdown",
      "source": [
        "Tuplas:\n"
      ],
      "metadata": {
        "id": "7P5sUoMII2wT"
      }
    },
    {
      "cell_type": "code",
      "source": [
        "marcas = 'Gm' , 'Ford' , 'VW' , 'Fiat'\n",
        "marcas"
      ],
      "metadata": {
        "colab": {
          "base_uri": "https://localhost:8080/"
        },
        "id": "gqMMpxeCI4oG",
        "outputId": "59a58d99-a920-4460-b1ba-f7a6a94efbe1"
      },
      "execution_count": 55,
      "outputs": [
        {
          "output_type": "execute_result",
          "data": {
            "text/plain": [
              "('Gm', 'Ford', 'VW', 'Fiat')"
            ]
          },
          "metadata": {},
          "execution_count": 55
        }
      ]
    },
    {
      "cell_type": "markdown",
      "source": [
        "<< A diferença Principal Entre Listas e Tuplas é que os Elementos de Tuplas não podem ser Alterados >>"
      ],
      "metadata": {
        "id": "y4LLkKbqJWjM"
      }
    },
    {
      "cell_type": "code",
      "source": [
        "marcas[0] = 'ferrari'"
      ],
      "metadata": {
        "id": "nEZD_RscJkuA"
      },
      "execution_count": null,
      "outputs": []
    },
    {
      "cell_type": "markdown",
      "source": [
        "Dicionarios;"
      ],
      "metadata": {
        "id": "DnvwZiG7Jwwq"
      }
    },
    {
      "cell_type": "code",
      "source": [
        "notas = {'portugues' :8, 'ingles':7.4, 'matematica':9}\n",
        "notas"
      ],
      "metadata": {
        "colab": {
          "base_uri": "https://localhost:8080/"
        },
        "id": "yIdpGaf_JzGL",
        "outputId": "e50336f7-b86d-4976-c48a-cbfa1d813ffc"
      },
      "execution_count": 57,
      "outputs": [
        {
          "output_type": "execute_result",
          "data": {
            "text/plain": [
              "{'portugues': 8, 'ingles': 7.4, 'matematica': 9}"
            ]
          },
          "metadata": {},
          "execution_count": 57
        }
      ]
    },
    {
      "cell_type": "code",
      "source": [
        "pessoa = {'nome' : 'joao', 'Idade':25, 'profissão': 'pintor'}\n",
        "pessoa"
      ],
      "metadata": {
        "colab": {
          "base_uri": "https://localhost:8080/"
        },
        "id": "El-DG6wHKG0u",
        "outputId": "c4cf70d2-cbc3-47dc-9f9a-b16d2d25a251"
      },
      "execution_count": 58,
      "outputs": [
        {
          "output_type": "execute_result",
          "data": {
            "text/plain": [
              "{'nome': 'joao', 'Idade': 25, 'profissão': 'pintor'}"
            ]
          },
          "metadata": {},
          "execution_count": 58
        }
      ]
    },
    {
      "cell_type": "code",
      "source": [
        "times = {1:'São Paulo', 2:'Flamengo', 3:'Inter'}\n",
        "times"
      ],
      "metadata": {
        "colab": {
          "base_uri": "https://localhost:8080/"
        },
        "id": "49wFTkGgKk6a",
        "outputId": "879b195a-0571-42f4-ee86-2909c74e6315"
      },
      "execution_count": 59,
      "outputs": [
        {
          "output_type": "execute_result",
          "data": {
            "text/plain": [
              "{1: 'São Paulo', 2: 'Flamengo', 3: 'Inter'}"
            ]
          },
          "metadata": {},
          "execution_count": 59
        }
      ]
    },
    {
      "cell_type": "markdown",
      "source": [
        "Selecionando Elementos;"
      ],
      "metadata": {
        "id": "Ux3jUG2dK7aT"
      }
    },
    {
      "cell_type": "code",
      "source": [
        "notas['matematica']"
      ],
      "metadata": {
        "colab": {
          "base_uri": "https://localhost:8080/"
        },
        "id": "8BIjlu3mK_dQ",
        "outputId": "f4777f0d-4b44-44e6-f18c-f8f669432284"
      },
      "execution_count": 61,
      "outputs": [
        {
          "output_type": "execute_result",
          "data": {
            "text/plain": [
              "9"
            ]
          },
          "metadata": {},
          "execution_count": 61
        }
      ]
    },
    {
      "cell_type": "code",
      "source": [
        "pessoa['nome']"
      ],
      "metadata": {
        "colab": {
          "base_uri": "https://localhost:8080/",
          "height": 36
        },
        "id": "MLmHsI9tLW4w",
        "outputId": "c056b377-0b3f-46fe-f911-a5f91f45ed4f"
      },
      "execution_count": 64,
      "outputs": [
        {
          "output_type": "execute_result",
          "data": {
            "text/plain": [
              "'joao'"
            ],
            "application/vnd.google.colaboratory.intrinsic+json": {
              "type": "string"
            }
          },
          "metadata": {},
          "execution_count": 64
        }
      ]
    },
    {
      "cell_type": "code",
      "source": [
        "times[1]"
      ],
      "metadata": {
        "colab": {
          "base_uri": "https://localhost:8080/",
          "height": 36
        },
        "id": "8OZRCw9wLh4X",
        "outputId": "6e3d0571-f8df-425e-9cfa-a6da40d9dddd"
      },
      "execution_count": 65,
      "outputs": [
        {
          "output_type": "execute_result",
          "data": {
            "text/plain": [
              "'São Paulo'"
            ],
            "application/vnd.google.colaboratory.intrinsic+json": {
              "type": "string"
            }
          },
          "metadata": {},
          "execution_count": 65
        }
      ]
    },
    {
      "cell_type": "markdown",
      "source": [
        "Alterar Elementos;"
      ],
      "metadata": {
        "id": "qlFUS2eaLrTL"
      }
    },
    {
      "cell_type": "code",
      "source": [
        "notas['matematica'] = 10\n",
        "notas"
      ],
      "metadata": {
        "colab": {
          "base_uri": "https://localhost:8080/"
        },
        "id": "Fk4BYpTrLuNP",
        "outputId": "4448c6d8-e402-41e6-b97f-00d8d9bbb1eb"
      },
      "execution_count": 66,
      "outputs": [
        {
          "output_type": "execute_result",
          "data": {
            "text/plain": [
              "{'portugues': 8, 'ingles': 7.4, 'matematica': 10}"
            ]
          },
          "metadata": {},
          "execution_count": 66
        }
      ]
    },
    {
      "cell_type": "code",
      "source": [
        "times[3] = 'Portuguesa'\n",
        "times"
      ],
      "metadata": {
        "colab": {
          "base_uri": "https://localhost:8080/"
        },
        "id": "r2GjqhqgL9ky",
        "outputId": "c1f7fcf3-873d-4dbd-cd46-d2623dc8b558"
      },
      "execution_count": 67,
      "outputs": [
        {
          "output_type": "execute_result",
          "data": {
            "text/plain": [
              "{1: 'São Paulo', 2: 'Flamengo', 3: 'Portuguesa'}"
            ]
          },
          "metadata": {},
          "execution_count": 67
        }
      ]
    },
    {
      "cell_type": "markdown",
      "source": [
        "Adicionar Elementos;"
      ],
      "metadata": {
        "id": "a0G8zmzRMJzi"
      }
    },
    {
      "cell_type": "code",
      "source": [
        "notas[\"Geografia\"] = 8.0\n",
        "notas"
      ],
      "metadata": {
        "colab": {
          "base_uri": "https://localhost:8080/"
        },
        "id": "Ax1GemV8MNAG",
        "outputId": "847e5003-3f19-4a4e-fe1d-d2af9e463d95"
      },
      "execution_count": 68,
      "outputs": [
        {
          "output_type": "execute_result",
          "data": {
            "text/plain": [
              "{'portugues': 8, 'ingles': 7.4, 'matematica': 10, 'Geografia': 8.0}"
            ]
          },
          "metadata": {},
          "execution_count": 68
        }
      ]
    },
    {
      "cell_type": "code",
      "source": [
        "times[4] = \"Vasco\"\n",
        "times"
      ],
      "metadata": {
        "colab": {
          "base_uri": "https://localhost:8080/"
        },
        "id": "-y31f6QQMV0F",
        "outputId": "322ce24f-3f5d-40b5-9cd0-7a35aabd5b50"
      },
      "execution_count": 70,
      "outputs": [
        {
          "output_type": "execute_result",
          "data": {
            "text/plain": [
              "{1: 'São Paulo', 2: 'Flamengo', 3: 'Portuguesa', 85: 'Vasco', 4: 'Vasco'}"
            ]
          },
          "metadata": {},
          "execution_count": 70
        }
      ]
    },
    {
      "cell_type": "markdown",
      "source": [
        "If / Else"
      ],
      "metadata": {
        "id": "0Hbh5k2PMnRU"
      }
    },
    {
      "cell_type": "code",
      "source": [
        "x = 1\n",
        "y = 5"
      ],
      "metadata": {
        "id": "fG9QVEjzMqug"
      },
      "execution_count": 72,
      "outputs": []
    },
    {
      "cell_type": "markdown",
      "source": [
        "Operadores Logicos;"
      ],
      "metadata": {
        "id": "DmcUthclMww7"
      }
    },
    {
      "cell_type": "code",
      "source": [
        "x == 1\n"
      ],
      "metadata": {
        "colab": {
          "base_uri": "https://localhost:8080/"
        },
        "id": "k51UbV1_Mz7w",
        "outputId": "db33b1de-3b6b-4eb0-ef0c-56659c0434a8"
      },
      "execution_count": 76,
      "outputs": [
        {
          "output_type": "execute_result",
          "data": {
            "text/plain": [
              "True"
            ]
          },
          "metadata": {},
          "execution_count": 76
        }
      ]
    },
    {
      "cell_type": "code",
      "source": [
        "x == 2\n"
      ],
      "metadata": {
        "colab": {
          "base_uri": "https://localhost:8080/"
        },
        "id": "rR3qQCSjNS-g",
        "outputId": "83309447-23d2-4acd-cebd-031c36a01065"
      },
      "execution_count": 77,
      "outputs": [
        {
          "output_type": "execute_result",
          "data": {
            "text/plain": [
              "False"
            ]
          },
          "metadata": {},
          "execution_count": 77
        }
      ]
    },
    {
      "cell_type": "code",
      "source": [
        "\n",
        "x < 0\n"
      ],
      "metadata": {
        "colab": {
          "base_uri": "https://localhost:8080/"
        },
        "id": "PEyjjtB4NU0h",
        "outputId": "4fcee0cd-73f7-4a32-a83d-f3a8cd655325"
      },
      "execution_count": 78,
      "outputs": [
        {
          "output_type": "execute_result",
          "data": {
            "text/plain": [
              "False"
            ]
          },
          "metadata": {},
          "execution_count": 78
        }
      ]
    },
    {
      "cell_type": "code",
      "source": [
        "\n",
        "x > 0\n"
      ],
      "metadata": {
        "colab": {
          "base_uri": "https://localhost:8080/"
        },
        "id": "4uXZB87HNZTB",
        "outputId": "1ebecf73-b64f-4ce8-893c-0a20930798ee"
      },
      "execution_count": 79,
      "outputs": [
        {
          "output_type": "execute_result",
          "data": {
            "text/plain": [
              "True"
            ]
          },
          "metadata": {},
          "execution_count": 79
        }
      ]
    },
    {
      "cell_type": "code",
      "source": [
        "x != 0"
      ],
      "metadata": {
        "colab": {
          "base_uri": "https://localhost:8080/"
        },
        "id": "vuWzxcv0Ndhm",
        "outputId": "07c2770c-e28b-4245-ab45-f427ec04490f"
      },
      "execution_count": 80,
      "outputs": [
        {
          "output_type": "execute_result",
          "data": {
            "text/plain": [
              "True"
            ]
          },
          "metadata": {},
          "execution_count": 80
        }
      ]
    },
    {
      "cell_type": "code",
      "source": [
        "(x > 0) and (y < 2)"
      ],
      "metadata": {
        "colab": {
          "base_uri": "https://localhost:8080/"
        },
        "id": "5wNhCfKONh-_",
        "outputId": "dc027493-61c4-4574-b7f1-9f6338c30209"
      },
      "execution_count": 81,
      "outputs": [
        {
          "output_type": "execute_result",
          "data": {
            "text/plain": [
              "False"
            ]
          },
          "metadata": {},
          "execution_count": 81
        }
      ]
    },
    {
      "cell_type": "code",
      "source": [
        "(x > 0) or (y < 2)"
      ],
      "metadata": {
        "colab": {
          "base_uri": "https://localhost:8080/"
        },
        "id": "ST1moPBsNpXf",
        "outputId": "66902163-69b0-4030-8e22-c621f3f3719f"
      },
      "execution_count": 82,
      "outputs": [
        {
          "output_type": "execute_result",
          "data": {
            "text/plain": [
              "True"
            ]
          },
          "metadata": {},
          "execution_count": 82
        }
      ]
    },
    {
      "cell_type": "markdown",
      "source": [
        "Identação Obrigatoria;"
      ],
      "metadata": {
        "id": "k_E484NPNwYk"
      }
    },
    {
      "cell_type": "code",
      "source": [
        "x = 21\n",
        "if (x > 20):\n",
        "  print(\"x é maior que vinte\")\n",
        "elif(x == 0):\n",
        "  print(\"x é zero\")\n",
        "else:\n",
        "  print(\"x é menor\")"
      ],
      "metadata": {
        "colab": {
          "base_uri": "https://localhost:8080/"
        },
        "id": "7mpiHQ_aNzJh",
        "outputId": "36b04aa0-8fe7-4602-b468-3d0e8c2868fb"
      },
      "execution_count": 91,
      "outputs": [
        {
          "output_type": "stream",
          "name": "stdout",
          "text": [
            "x é maior que vinte\n"
          ]
        }
      ]
    }
  ]
}